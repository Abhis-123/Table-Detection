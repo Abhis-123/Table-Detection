{
 "cells": [
  {
   "cell_type": "code",
   "execution_count": 1,
   "metadata": {},
   "outputs": [],
   "source": [
    "import sys\n",
    "import os\n",
    "import cv2\n",
    "import shutil\n",
    "import numpy as np\n",
    "import pandas as pd\n",
    "import matplotlib.pyplot as plt \n",
    "import string\n",
    "import pickle\n",
    "import xml.etree.ElementTree as ET\n",
    "import xmltodict"
   ]
  },
  {
   "cell_type": "code",
   "execution_count": 2,
   "metadata": {},
   "outputs": [],
   "source": [
    "MIN_WIDTH_BOX=5\n",
    "MIN_HEIGHT_BOX=5\n",
    "def sanitize_coord(coordinates, width, height):\n",
    "    \"\"\"\n",
    "    points are: [[xmin, ymin], [xmax, ymin], [xmin, ymax], [xmax, ymax]]\n",
    "    it sanitize the coordinates that are extracted from a xml file. Valid for this dataset,\n",
    "    to be updated in case the dataset changes\n",
    "    Returning as dict: xmin, ymin, xmax, ymax\n",
    "    :param coordinates:[[xmin, ymin], [xmax, ymin], [xmin, ymax], [xmax, ymax]]\n",
    "    :return: dict with xmin, ymin, xmax, ymax coordinates\n",
    "    \"\"\"\n",
    "    coordinates = coordinates.split()\n",
    "    points = []\n",
    "    for point in coordinates:\n",
    "        point = point.split(',')\n",
    "        points.append(point)\n",
    "    new_points = {\n",
    "        'xmin': points[0][0],\n",
    "        'ymin': points[0][1],\n",
    "        'xmax': points[3][0],\n",
    "        'ymax': points[3][1]\n",
    "    }\n",
    "    # logger.info(new_points)\n",
    "    # logger.info('width: {w}, height: {h}'.format(w=width, h=height))\n",
    "    # check if coords are inverted\n",
    "    if int(new_points['ymin']) > int(new_points['ymax']):\n",
    "        logger.info('I found you y!')\n",
    "        temp = int(new_points['ymin'])\n",
    "        new_points['ymin'] = int(new_points['ymax'])\n",
    "        new_points['ymax'] = temp\n",
    "    if int(new_points['xmin']) > int(new_points['xmax']):\n",
    "        logger.info('I found you x!')\n",
    "        temp = new_points['xmin']\n",
    "        new_points['xmin'] = int(new_points['xmax'])\n",
    "        new_points['xmax'] = temp\n",
    "    if int(new_points['ymin']) < 0:\n",
    "        logger.info('Found some ymin at zero:')\n",
    "        new_points['ymin'] = 0\n",
    "    if int(new_points['xmin']) < 0:\n",
    "        logger.info('Found some xmin at zero')\n",
    "        new_points['xmin'] = 0\n",
    "    if int(new_points['ymax']) > height:\n",
    "        logger.info('Found some ymax beyond height: \\nwidth: {w}, height: {h}\\nnew_point[\"ymax\"]: {npyx}' \\\n",
    "                    .format(w=width, h=height, npyx=new_points['ymax']))\n",
    "        new_points['ymax'] = height\n",
    "    if int(new_points['xmax']) > width:\n",
    "        logger.info('Found some xmax beyond height: \\nwidth: {w}, height: {h}\\nnew_point[\"xmax\"]: {npxx}' \\\n",
    "                    .format(w=width, h=height, npxx=new_points['xmax']))\n",
    "        new_points['xmax'] = width\n",
    "\n",
    "    if (int(new_points['xmax']) - int(new_points['xmin'])) < MIN_WIDTH_BOX or \\\n",
    "            (int(new_points['ymax']) - int(new_points['ymin'])) < MIN_HEIGHT_BOX:\n",
    "        logger.info('Box {} was too small. Going to delete it'.format(new_points))\n",
    "        new_points = None\n",
    "    return new_points"
   ]
  },
  {
   "cell_type": "code",
   "execution_count": 3,
   "metadata": {},
   "outputs": [],
   "source": [
    "def read_xml(path):\n",
    "    # Read file \n",
    "    xml_data=open(path).read()\n",
    "    # return dictionary of the file\n",
    "    xmlDict=xmltodict.parse(xml_data)\n",
    "    return xmlDict  "
   ]
  },
  {
   "cell_type": "code",
   "execution_count": 4,
   "metadata": {},
   "outputs": [],
   "source": [
    "# dict={xmin:values,}\n",
    "def drawrect_cv(image,list,rect_color=(0,0,0),rect_width=2):\n",
    "    for dict in list:\n",
    "        xmin=dict['xmin']\n",
    "        ymin=dict['ymin']\n",
    "        xmax=dict['xmax']\n",
    "        ymax=dict['ymax']\n",
    "        rect_color=(0,0,0) \n",
    "        rect_width=2\n",
    "        cv2.rectangle(image,\n",
    "                      (int(xmin),int(ymax)),\n",
    "                      (int(xmax),int(ymin)),\n",
    "                      rect_color,\n",
    "                      rect_width)  \n",
    "    cv2.imshow('image',image) \n",
    "    cv2.waitKey(0)    \n",
    "from matplotlib.patches import Rectangle \n",
    "\n",
    "def drawrect_plt(img,list,rect_color=(0,0,0),rect_width=2):\n",
    "    plt.imshow(img)\n",
    "    for dict in list:\n",
    "        xmin=int(dict['xmin'])\n",
    "        ymin=int(dict['ymin'])\n",
    "        xmax=int(dict['xmax'])\n",
    "        ymax=int(dict['ymax'])\n",
    "        #plt.imshow(img[:,:,0])\n",
    "        #plt.imshow(img[:,:,1])\n",
    "        ax = plt.gca()\n",
    "        rect = Rectangle((xmin,ymin),\n",
    "                     (xmax-xmin),\n",
    "                     (ymax-ymin),\n",
    "                     linewidth=1,\n",
    "                     edgecolor='r',\n",
    "                     facecolor='none')\n",
    "        ax.add_patch(rect)\n",
    "        "
   ]
  },
  {
   "cell_type": "code",
   "execution_count": 5,
   "metadata": {},
   "outputs": [],
   "source": [
    "folderpath = 'data/images'\n",
    "files = os.listdir(folderpath)"
   ]
  },
  {
   "cell_type": "code",
   "execution_count": 20,
   "metadata": {},
   "outputs": [],
   "source": [
    "df=pd.DataFrame(files,columns=['filename'])\n",
    "df['image_path']='data/images/'+df['filename']\n",
    "df['label_path_xml']='data/labels/'+df['filename'].apply(lambda x:x.replace('PNG','xml'))\n",
    "df['label_path']='data/labels/'+df['filename'].apply(lambda x:x.replace('PNG','txt'))\n"
   ]
  },
  {
   "cell_type": "code",
   "execution_count": 21,
   "metadata": {},
   "outputs": [
    {
     "data": {
      "text/html": [
       "<div>\n",
       "<style scoped>\n",
       "    .dataframe tbody tr th:only-of-type {\n",
       "        vertical-align: middle;\n",
       "    }\n",
       "\n",
       "    .dataframe tbody tr th {\n",
       "        vertical-align: top;\n",
       "    }\n",
       "\n",
       "    .dataframe thead th {\n",
       "        text-align: right;\n",
       "    }\n",
       "</style>\n",
       "<table border=\"1\" class=\"dataframe\">\n",
       "  <thead>\n",
       "    <tr style=\"text-align: right;\">\n",
       "      <th></th>\n",
       "      <th>filename</th>\n",
       "      <th>image_path</th>\n",
       "      <th>label_path_xml</th>\n",
       "      <th>label_path</th>\n",
       "    </tr>\n",
       "  </thead>\n",
       "  <tbody>\n",
       "    <tr>\n",
       "      <th>0</th>\n",
       "      <td>00001.PNG</td>\n",
       "      <td>data/images/00001.PNG</td>\n",
       "      <td>data/labels/00001.xml</td>\n",
       "      <td>data/labels/00001.txt</td>\n",
       "    </tr>\n",
       "    <tr>\n",
       "      <th>1</th>\n",
       "      <td>00005.PNG</td>\n",
       "      <td>data/images/00005.PNG</td>\n",
       "      <td>data/labels/00005.xml</td>\n",
       "      <td>data/labels/00005.txt</td>\n",
       "    </tr>\n",
       "    <tr>\n",
       "      <th>2</th>\n",
       "      <td>00006.PNG</td>\n",
       "      <td>data/images/00006.PNG</td>\n",
       "      <td>data/labels/00006.xml</td>\n",
       "      <td>data/labels/00006.txt</td>\n",
       "    </tr>\n",
       "    <tr>\n",
       "      <th>3</th>\n",
       "      <td>00008.PNG</td>\n",
       "      <td>data/images/00008.PNG</td>\n",
       "      <td>data/labels/00008.xml</td>\n",
       "      <td>data/labels/00008.txt</td>\n",
       "    </tr>\n",
       "    <tr>\n",
       "      <th>4</th>\n",
       "      <td>00009.PNG</td>\n",
       "      <td>data/images/00009.PNG</td>\n",
       "      <td>data/labels/00009.xml</td>\n",
       "      <td>data/labels/00009.txt</td>\n",
       "    </tr>\n",
       "  </tbody>\n",
       "</table>\n",
       "</div>"
      ],
      "text/plain": [
       "    filename             image_path         label_path_xml  \\\n",
       "0  00001.PNG  data/images/00001.PNG  data/labels/00001.xml   \n",
       "1  00005.PNG  data/images/00005.PNG  data/labels/00005.xml   \n",
       "2  00006.PNG  data/images/00006.PNG  data/labels/00006.xml   \n",
       "3  00008.PNG  data/images/00008.PNG  data/labels/00008.xml   \n",
       "4  00009.PNG  data/images/00009.PNG  data/labels/00009.xml   \n",
       "\n",
       "              label_path  \n",
       "0  data/labels/00001.txt  \n",
       "1  data/labels/00005.txt  \n",
       "2  data/labels/00006.txt  \n",
       "3  data/labels/00008.txt  \n",
       "4  data/labels/00009.txt  "
      ]
     },
     "execution_count": 21,
     "metadata": {},
     "output_type": "execute_result"
    }
   ],
   "source": [
    "df.head()"
   ]
  },
  {
   "cell_type": "code",
   "execution_count": 58,
   "metadata": {},
   "outputs": [],
   "source": [
    "def getimagedimention(xmlpath):\n",
    "    xmldata=read_xml(xmlpath)\n",
    "    dimention=xmldata['annotation']['size']\n",
    "    return np.array([int(dimention['width']),int(dimention['height']),int(dimention['depth'])])"
   ]
  },
  {
   "cell_type": "code",
   "execution_count": 59,
   "metadata": {},
   "outputs": [],
   "source": [
    "df['image_size']=df['label_path_xml'].apply(getimagedimention)"
   ]
  },
  {
   "cell_type": "code",
   "execution_count": 60,
   "metadata": {},
   "outputs": [],
   "source": [
    "def getbndboxdimention(xmlpath):\n",
    "    xmldata=read_xml(xmlpath)\n",
    "    l=[]\n",
    "    o=xmldata['annotation']['object']\n",
    "    dimention=o\n",
    "    if isinstance(o,type(l)):\n",
    "        return dimention\n",
    "    else:\n",
    "        l.append(dimention)\n",
    "        return l   "
   ]
  },
  {
   "cell_type": "code",
   "execution_count": 61,
   "metadata": {},
   "outputs": [],
   "source": [
    "def gettablecount(xmlpath):\n",
    "    xmldata=read_xml(xmlpath)\n",
    "    o=xmldata['annotation']['object']\n",
    "    if isinstance(o,list):\n",
    "        return len(o)\n",
    "    else:\n",
    "        return 1"
   ]
  },
  {
   "cell_type": "code",
   "execution_count": 62,
   "metadata": {},
   "outputs": [],
   "source": [
    "df['bbox_count']=df['label_path_xml'].apply(gettablecount)\n",
    "df['tables']=df['label_path_xml'].apply(getbndboxdimention)\n"
   ]
  },
  {
   "cell_type": "code",
   "execution_count": 63,
   "metadata": {},
   "outputs": [],
   "source": [
    "def getlimits(listoftables):\n",
    "    limits=[]\n",
    "    for x in listoftables:\n",
    "        x=x['bndbox']\n",
    "        limits.append([int(x['xmin']),int(x['ymin']),int(x['xmax']),int(x['ymax'])])\n",
    "    return limits"
   ]
  },
  {
   "cell_type": "code",
   "execution_count": 64,
   "metadata": {},
   "outputs": [
    {
     "data": {
      "text/html": [
       "<div>\n",
       "<style scoped>\n",
       "    .dataframe tbody tr th:only-of-type {\n",
       "        vertical-align: middle;\n",
       "    }\n",
       "\n",
       "    .dataframe tbody tr th {\n",
       "        vertical-align: top;\n",
       "    }\n",
       "\n",
       "    .dataframe thead th {\n",
       "        text-align: right;\n",
       "    }\n",
       "</style>\n",
       "<table border=\"1\" class=\"dataframe\">\n",
       "  <thead>\n",
       "    <tr style=\"text-align: right;\">\n",
       "      <th></th>\n",
       "      <th>filename</th>\n",
       "      <th>image_path</th>\n",
       "      <th>label_path_xml</th>\n",
       "      <th>label_path</th>\n",
       "      <th>image_size</th>\n",
       "      <th>bbox_count</th>\n",
       "      <th>tables</th>\n",
       "      <th>bbox</th>\n",
       "    </tr>\n",
       "  </thead>\n",
       "  <tbody>\n",
       "    <tr>\n",
       "      <th>0</th>\n",
       "      <td>00001.PNG</td>\n",
       "      <td>data/images/00001.PNG</td>\n",
       "      <td>data/labels/00001.xml</td>\n",
       "      <td>data/labels/00001.txt</td>\n",
       "      <td>[1126, 1596, 3]</td>\n",
       "      <td>1</td>\n",
       "      <td>[{'name': 'Table', 'pose': 'Unspecified', 'tru...</td>\n",
       "      <td>[[15, 442, 1095, 1467]]</td>\n",
       "    </tr>\n",
       "    <tr>\n",
       "      <th>1</th>\n",
       "      <td>00005.PNG</td>\n",
       "      <td>data/images/00005.PNG</td>\n",
       "      <td>data/labels/00005.xml</td>\n",
       "      <td>data/labels/00005.txt</td>\n",
       "      <td>[1063, 844, 3]</td>\n",
       "      <td>1</td>\n",
       "      <td>[{'name': 'Table', 'pose': 'Unspecified', 'tru...</td>\n",
       "      <td>[[327, 543, 904, 834]]</td>\n",
       "    </tr>\n",
       "    <tr>\n",
       "      <th>2</th>\n",
       "      <td>00006.PNG</td>\n",
       "      <td>data/images/00006.PNG</td>\n",
       "      <td>data/labels/00006.xml</td>\n",
       "      <td>data/labels/00006.txt</td>\n",
       "      <td>[682, 845, 3]</td>\n",
       "      <td>5</td>\n",
       "      <td>[{'name': 'Table', 'pose': 'Unspecified', 'tru...</td>\n",
       "      <td>[[18, 56, 267, 256], [331, 111, 572, 251], [15...</td>\n",
       "    </tr>\n",
       "  </tbody>\n",
       "</table>\n",
       "</div>"
      ],
      "text/plain": [
       "    filename             image_path         label_path_xml  \\\n",
       "0  00001.PNG  data/images/00001.PNG  data/labels/00001.xml   \n",
       "1  00005.PNG  data/images/00005.PNG  data/labels/00005.xml   \n",
       "2  00006.PNG  data/images/00006.PNG  data/labels/00006.xml   \n",
       "\n",
       "              label_path       image_size  bbox_count  \\\n",
       "0  data/labels/00001.txt  [1126, 1596, 3]           1   \n",
       "1  data/labels/00005.txt   [1063, 844, 3]           1   \n",
       "2  data/labels/00006.txt    [682, 845, 3]           5   \n",
       "\n",
       "                                              tables  \\\n",
       "0  [{'name': 'Table', 'pose': 'Unspecified', 'tru...   \n",
       "1  [{'name': 'Table', 'pose': 'Unspecified', 'tru...   \n",
       "2  [{'name': 'Table', 'pose': 'Unspecified', 'tru...   \n",
       "\n",
       "                                                bbox  \n",
       "0                            [[15, 442, 1095, 1467]]  \n",
       "1                             [[327, 543, 904, 834]]  \n",
       "2  [[18, 56, 267, 256], [331, 111, 572, 251], [15...  "
      ]
     },
     "execution_count": 64,
     "metadata": {},
     "output_type": "execute_result"
    }
   ],
   "source": [
    "df['bbox']=df['tables'].apply(getlimits)\n",
    "df.head(3)"
   ]
  },
  {
   "cell_type": "code",
   "execution_count": 65,
   "metadata": {},
   "outputs": [
    {
     "data": {
      "text/plain": [
       "<AxesSubplot:ylabel='Frequency'>"
      ]
     },
     "execution_count": 65,
     "metadata": {},
     "output_type": "execute_result"
    },
    {
     "data": {
      "image/png": "[encoded data removed]",
      "text/plain": [
       "<Figure size 432x288 with 1 Axes>"
      ]
     },
     "metadata": {
      "needs_background": "light"
     },
     "output_type": "display_data"
    }
   ],
   "source": [
    "df.bbox_count.plot(kind='hist')"
   ]
  },
  {
   "cell_type": "code",
   "execution_count": 66,
   "metadata": {},
   "outputs": [],
   "source": [
    "df.to_csv(\"data/data.csv\", index=False)"
   ]
  },
  {
   "cell_type": "code",
   "execution_count": 67,
   "metadata": {},
   "outputs": [],
   "source": [
    "from tqdm.notebook import tqdm \n",
    "from utils.bounding_box import norm_bbox , voc_to_yolo"
   ]
  },
  {
   "cell_type": "code",
   "execution_count": 68,
   "metadata": {},
   "outputs": [
    {
     "data": {
      "text/plain": [
       "Index(['filename', 'image_path', 'label_path_xml', 'label_path', 'image_size',\n",
       "       'bbox_count', 'tables', 'bbox'],\n",
       "      dtype='object')"
      ]
     },
     "execution_count": 68,
     "metadata": {},
     "output_type": "execute_result"
    }
   ],
   "source": [
    "df.columns"
   ]
  },
  {
   "cell_type": "code",
   "execution_count": 71,
   "metadata": {},
   "outputs": [
    {
     "data": {
      "application/vnd.jupyter.widget-view+json": {
       "model_id": "ad65f1bd8d614331a5a47ebfb9317001",
       "version_major": 2,
       "version_minor": 0
      },
      "text/plain": [
       "  0%|          | 0/340 [00:00<?, ?it/s]"
      ]
     },
     "metadata": {},
     "output_type": "display_data"
    },
    {
     "name": "stdout",
     "output_type": "stream",
     "text": [
      "Missing: 0\n"
     ]
    }
   ],
   "source": [
    "cnt = 0\n",
    "all_bboxes = []\n",
    "for row_idx in tqdm(range(df.__len__())):\n",
    "    row = df.iloc[row_idx]\n",
    "    image_height = row['image_size'][0]\n",
    "    image_width  = row['image_size'][1]\n",
    "    bboxes_coco  = np.array(row['bbox']).astype(np.float32).copy()\n",
    "    num_bbox     = len(bboxes_coco)\n",
    "    names        = ['cots']*num_bbox\n",
    "    labels       = [0]*num_bbox\n",
    "    ## Create Annotation(YOLO)\n",
    "    with open(row.label_path, 'w') as f:\n",
    "        if num_bbox<1:\n",
    "            annot = ''\n",
    "            f.write(annot)\n",
    "            cnt+=1\n",
    "            continue\n",
    "        bboxes_yolo  = voc_to_yolo(image_height, image_width, bboxes_coco)\n",
    "        bboxes_yolo  = np.clip(bboxes_yolo, 0, 1)\n",
    "        all_bboxes.extend(bboxes_yolo)\n",
    "        for bbox_idx in range(len(bboxes_yolo)):\n",
    "            annot = [str(labels[bbox_idx])]+ list(bboxes_yolo[bbox_idx].astype(str))+(['\\n'] if num_bbox!=(bbox_idx+1) else [''])\n",
    "            annot = ' '.join(annot)\n",
    "            annot = annot.strip(' ')\n",
    "            f.write(annot)\n",
    "print('Missing:',cnt)"
   ]
  },
  {
   "cell_type": "code",
   "execution_count": null,
   "metadata": {},
   "outputs": [],
   "source": []
  }
 ],
 "metadata": {
  "kernelspec": {
   "display_name": "Python 3",
   "language": "python",
   "name": "python3"
  },
  "language_info": {
   "codemirror_mode": {
    "name": "ipython",
    "version": 3
   },
   "file_extension": ".py",
   "mimetype": "text/x-python",
   "name": "python",
   "nbconvert_exporter": "python",
   "pygments_lexer": "ipython3",
   "version": "3.7.9"
  }
 },
 "nbformat": 4,
 "nbformat_minor": 4
}
