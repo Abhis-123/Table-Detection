{
 "cells": [
  {
   "cell_type": "code",
   "execution_count": 37,
   "metadata": {},
   "outputs": [],
   "source": [
    "from tqdm.notebook import tqdm\n",
    "tqdm.pandas()\n",
    "import pandas as pd\n",
    "import numpy as np\n",
    "import os\n",
    "import shutil\n",
    "import xml.etree.ElementTree as ET\n",
    "import xmltodict"
   ]
  },
  {
   "cell_type": "code",
   "execution_count": 30,
   "metadata": {},
   "outputs": [],
   "source": [
    "images = os.listdir(\"data/images/\") "
   ]
  },
  {
   "cell_type": "code",
   "execution_count": 31,
   "metadata": {},
   "outputs": [],
   "source": [
    "df = pd.DataFrame(images, columns =['image_name'])"
   ]
  },
  {
   "cell_type": "code",
   "execution_count": 49,
   "metadata": {},
   "outputs": [],
   "source": [
    "def get_paths(row):\n",
    "    image_name = row[\"image_name\"]\n",
    "    id         = image_name.split(\".\")[0]\n",
    "    image_path = os.path.abspath(f\"./data/images/{id}.PNG\")\n",
    "    label_path = os.path.abspath(f\"./data/labels/{id}.xml\")\n",
    "    row[\"image_path\"] = image_path\n",
    "    row[\"label_path\"] = label_path\n",
    "    row['id'] = id\n",
    "    return row"
   ]
  },
  {
   "cell_type": "code",
   "execution_count": 50,
   "metadata": {},
   "outputs": [],
   "source": [
    "df = df.apply(get_paths, axis = 1)"
   ]
  },
  {
   "cell_type": "code",
   "execution_count": 51,
   "metadata": {},
   "outputs": [
    {
     "data": {
      "text/html": [
       "<div>\n",
       "<style scoped>\n",
       "    .dataframe tbody tr th:only-of-type {\n",
       "        vertical-align: middle;\n",
       "    }\n",
       "\n",
       "    .dataframe tbody tr th {\n",
       "        vertical-align: top;\n",
       "    }\n",
       "\n",
       "    .dataframe thead th {\n",
       "        text-align: right;\n",
       "    }\n",
       "</style>\n",
       "<table border=\"1\" class=\"dataframe\">\n",
       "  <thead>\n",
       "    <tr style=\"text-align: right;\">\n",
       "      <th></th>\n",
       "      <th>image_name</th>\n",
       "      <th>image_path</th>\n",
       "      <th>label_path</th>\n",
       "      <th>id</th>\n",
       "    </tr>\n",
       "  </thead>\n",
       "  <tbody>\n",
       "    <tr>\n",
       "      <th>0</th>\n",
       "      <td>00001.PNG</td>\n",
       "      <td>c:\\Users\\Abhishek pandir\\ML\\Table Detection\\da...</td>\n",
       "      <td>c:\\Users\\Abhishek pandir\\ML\\Table Detection\\da...</td>\n",
       "      <td>00001</td>\n",
       "    </tr>\n",
       "    <tr>\n",
       "      <th>1</th>\n",
       "      <td>00005.PNG</td>\n",
       "      <td>c:\\Users\\Abhishek pandir\\ML\\Table Detection\\da...</td>\n",
       "      <td>c:\\Users\\Abhishek pandir\\ML\\Table Detection\\da...</td>\n",
       "      <td>00005</td>\n",
       "    </tr>\n",
       "  </tbody>\n",
       "</table>\n",
       "</div>"
      ],
      "text/plain": [
       "  image_name                                         image_path  \\\n",
       "0  00001.PNG  c:\\Users\\Abhishek pandir\\ML\\Table Detection\\da...   \n",
       "1  00005.PNG  c:\\Users\\Abhishek pandir\\ML\\Table Detection\\da...   \n",
       "\n",
       "                                          label_path     id  \n",
       "0  c:\\Users\\Abhishek pandir\\ML\\Table Detection\\da...  00001  \n",
       "1  c:\\Users\\Abhishek pandir\\ML\\Table Detection\\da...  00005  "
      ]
     },
     "execution_count": 51,
     "metadata": {},
     "output_type": "execute_result"
    }
   ],
   "source": [
    "df.head(2)"
   ]
  },
  {
   "cell_type": "code",
   "execution_count": 55,
   "metadata": {},
   "outputs": [
    {
     "data": {
      "text/plain": [
       "Index(['image_name', 'image_path', 'label_path', 'id'], dtype='object')"
      ]
     },
     "execution_count": 55,
     "metadata": {},
     "output_type": "execute_result"
    }
   ],
   "source": [
    "df.columns"
   ]
  },
  {
   "cell_type": "code",
   "execution_count": 58,
   "metadata": {},
   "outputs": [],
   "source": [
    "def read_xml(path_to_xml):\n",
    "    xml_data  = open(path_to_xml).read() #\n",
    "    xml_dict  = xmltodict.parse(xml_data)\n",
    "    return xml_dict\n",
    "\n",
    "def parse_xml_dict(row):\n",
    "    path_to_xml = row['label_path']\n",
    "    xml_dict  = read_xml(path_to_xml)\n",
    "    # get image dimension \n",
    "    image_dimension = xml_dict['annotation']['size']\n",
    "    # get image_height and image_width\n",
    "    row['image_height'] = int(image_dimension['height'])\n",
    "    row['image_width'] = int(image_dimension['width'])\n",
    "\n",
    "    # get numbounding boxes\n",
    "    objects = xml_dict['annotation']['object']\n",
    "    if isinstance(objects,list):\n",
    "        row['num_objects'] = len(objects)\n",
    "    else:\n",
    "        row['num_objects'] = 1 \n",
    "        objects  = [objects]\n",
    "    # get bounding boxes\n",
    "    bounding_boxes = [] #\n",
    "    for object in objects:\n",
    "        bbox = object['bndbox']\n",
    "        bounding_boxes.append([int(bbox['xmin']),int(bbox['ymin']),int(bbox['xmax']),int(bbox['ymax'])])\n",
    "    row['bounding_boxes'] = bounding_boxes\n",
    "    return row"
   ]
  },
  {
   "cell_type": "code",
   "execution_count": 59,
   "metadata": {},
   "outputs": [],
   "source": [
    "df = df.apply(parse_xml_dict, axis = 1)"
   ]
  },
  {
   "cell_type": "code",
   "execution_count": 64,
   "metadata": {},
   "outputs": [],
   "source": [
    "training_directory = os.path.join(os.getcwd(), \"yolo_cache\")\n",
    "\n",
    "if not os.path.exists(training_directory):\n",
    "    os.makedirs(training_directory)\n",
    "\n",
    "train_image_directory =os.path.join(training_directory, \"images/\")\n",
    "if not os.path.exists(train_image_directory):\n",
    "    os.makedirs(train_image_directory)\n",
    "\n",
    "train_label_directory = os.path.join(training_directory, \"labels/\")\n",
    "if not os.path.exists(train_label_directory):\n",
    "    os.makedirs(train_label_directory)\n",
    "\n"
   ]
  },
  {
   "cell_type": "code",
   "execution_count": 65,
   "metadata": {},
   "outputs": [],
   "source": [
    "df['yolo_image_path']=df['id'].apply(lambda x: os.path.join(train_image_directory,f\"{x}.PNG\"))\n",
    "df['yolo_label_path']=df['id'].apply(lambda x: os.path.join(train_label_directory,f\"{x}.txt\"))"
   ]
  },
  {
   "cell_type": "code",
   "execution_count": 66,
   "metadata": {},
   "outputs": [],
   "source": [
    "temp =df.apply(lambda x: shutil.copy(x['image_path'],x['yolo_image_path']), axis= 1)"
   ]
  },
  {
   "cell_type": "code",
   "execution_count": 67,
   "metadata": {},
   "outputs": [
    {
     "data": {
      "text/plain": [
       "Index(['image_name', 'image_path', 'label_path', 'id', 'image_height',\n",
       "       'image_width', 'num_objects', 'bounding_boxes', 'yolo_image_path',\n",
       "       'yolo_label_path'],\n",
       "      dtype='object')"
      ]
     },
     "execution_count": 67,
     "metadata": {},
     "output_type": "execute_result"
    }
   ],
   "source": [
    "df.columns"
   ]
  },
  {
   "cell_type": "code",
   "execution_count": 68,
   "metadata": {},
   "outputs": [
    {
     "data": {
      "application/vnd.jupyter.widget-view+json": {
       "model_id": "070ad64e192f42f59bb56dfb78743332",
       "version_major": 2,
       "version_minor": 0
      },
      "text/plain": [
       "HBox(children=(FloatProgress(value=0.0, max=340.0), HTML(value='')))"
      ]
     },
     "metadata": {},
     "output_type": "display_data"
    },
    {
     "name": "stdout",
     "output_type": "stream",
     "text": [
      "\n",
      "Missing: 0\n"
     ]
    }
   ],
   "source": [
    "\n",
    "from tqdm.notebook import tqdm \n",
    "from utils.bounding_box import voc_to_yolo\n",
    "cnt = 0\n",
    "all_bboxes = []\n",
    "for row_idx in tqdm(range(df.__len__())):\n",
    "    row = df.iloc[row_idx]\n",
    "    image_height = row.image_height\n",
    "    image_width  = row.image_width\n",
    "    bboxes_coco  = np.array(row['bounding_boxes']).astype(np.float32).copy()\n",
    "    num_bbox     = row.num_objects\n",
    "    names        = ['tabel']*num_bbox\n",
    "    labels       = [0]*num_bbox\n",
    "    ## Create Annotation(YOLO)\n",
    "    with open(row.yolo_label_path, 'w') as f:\n",
    "        if num_bbox<1:\n",
    "            annot = ''\n",
    "            f.write(annot)\n",
    "            cnt+=1\n",
    "            continue\n",
    "        bboxes_yolo  = voc_to_yolo(image_height, image_width, bboxes_coco)\n",
    "        bboxes_yolo  = np.clip(bboxes_yolo, 0, 1)\n",
    "        all_bboxes.extend(bboxes_yolo)\n",
    "        for bbox_idx in range(len(bboxes_yolo)):\n",
    "            annot = [str(labels[bbox_idx])]+ list(bboxes_yolo[bbox_idx].astype(str))+(['\\n'] if num_bbox!=(bbox_idx+1) else [''])\n",
    "            annot = ' '.join(annot)\n",
    "            annot = annot.strip(' ')\n",
    "            f.write(annot)\n",
    "print('Missing:',cnt)"
   ]
  },
  {
   "cell_type": "code",
   "execution_count": 69,
   "metadata": {},
   "outputs": [
    {
     "data": {
      "text/plain": [
       "<AxesSubplot:ylabel='Frequency'>"
      ]
     },
     "execution_count": 69,
     "metadata": {},
     "output_type": "execute_result"
    },
    {
     "data": {
      "image/png": "[encoded data removed]",
      "text/plain": [
       "<Figure size 432x288 with 1 Axes>"
      ]
     },
     "metadata": {
      "needs_background": "light"
     },
     "output_type": "display_data"
    }
   ],
   "source": [
    "df.num_objects.plot(kind=\"hist\")"
   ]
  },
  {
   "cell_type": "code",
   "execution_count": 70,
   "metadata": {},
   "outputs": [],
   "source": [
    "train = df[:300]\n",
    "val   = df[300:]"
   ]
  },
  {
   "cell_type": "code",
   "execution_count": 72,
   "metadata": {},
   "outputs": [],
   "source": [
    "import yaml\n",
    "\n",
    "train_txt_path = os.path.abspath(os.path.join(training_directory, 'train.txt'))\n",
    "with open(train_txt_path, 'w') as f:\n",
    "    for path in train.yolo_image_path.tolist():\n",
    "        f.write(path+'\\n')\n",
    "val_txt_path = os.path.abspath(os.path.join(training_directory, 'val.txt'))            \n",
    "with open(val_txt_path, 'w') as f:\n",
    "    for path in val.yolo_label_path.tolist():\n",
    "        f.write(path+'\\n')"
   ]
  },
  {
   "cell_type": "code",
   "execution_count": 73,
   "metadata": {},
   "outputs": [
    {
     "name": "stdout",
     "output_type": "stream",
     "text": [
      "\n",
      "yaml:\n",
      "names:\n",
      "- table\n",
      "nc: 1\n",
      "path: c:\\Users\\Abhishek pandir\\ML\\Table Detection\n",
      "train: c:\\Users\\Abhishek pandir\\ML\\Table Detection\\yolo_cache\\train.txt\n",
      "val: c:\\Users\\Abhishek pandir\\ML\\Table Detection\\yolo_cache\\val.txt\n",
      "\n"
     ]
    }
   ],
   "source": [
    "data = dict(\n",
    "    path  = os.getcwd(),\n",
    "    train =  train_txt_path,\n",
    "    val   =  val_txt_path,\n",
    "    nc    = 1,\n",
    "    names = ['table'],\n",
    "    )\n",
    "with open(os.path.join( os.getcwd() , 'yolo.yaml'), 'w') as outfile:\n",
    "    yaml.dump(data, outfile, default_flow_style=False)\n",
    "\n",
    "f = open(os.path.join( os.getcwd() , 'yolo.yaml'), 'r')\n",
    "print('\\nyaml:')\n",
    "print(f.read())"
   ]
  },
  {
   "cell_type": "code",
   "execution_count": null,
   "metadata": {},
   "outputs": [],
   "source": []
  }
 ],
 "metadata": {
  "interpreter": {
   "hash": "a8f61be024eba58adef938c9aa1e29e02cb3dece83a5348b1a2dafd16a070453"
  },
  "kernelspec": {
   "display_name": "Python 3.8.3 64-bit ('base': conda)",
   "language": "python",
   "name": "python3"
  },
  "language_info": {
   "codemirror_mode": {
    "name": "ipython",
    "version": 3
   },
   "file_extension": ".py",
   "mimetype": "text/x-python",
   "name": "python",
   "nbconvert_exporter": "python",
   "pygments_lexer": "ipython3",
   "version": "3.8.3"
  },
  "orig_nbformat": 4
 },
 "nbformat": 4,
 "nbformat_minor": 2
}
