{
  "nbformat": 4,
  "nbformat_minor": 0,
  "metadata": {
    "interpreter": {
      "hash": "a8f61be024eba58adef938c9aa1e29e02cb3dece83a5348b1a2dafd16a070453"
    },
    "kernelspec": {
      "display_name": "Python 3.8.3 64-bit ('base': conda)",
      "language": "python",
      "name": "python3"
    },
    "language_info": {
      "codemirror_mode": {
        "name": "ipython",
        "version": 3
      },
      "file_extension": ".py",
      "mimetype": "text/x-python",
      "name": "python",
      "nbconvert_exporter": "python",
      "pygments_lexer": "ipython3",
      "version": "3.8.3"
    },
    "orig_nbformat": 4,
    "colab": {
      "name": "setup.ipynb",
      "provenance": [],
      "include_colab_link": true
    },
    "widgets": {
      "application/vnd.jupyter.widget-state+json": {
        "58fde309335b4ac3b927c290f726237d": {
          "model_module": "@jupyter-widgets/controls",
          "model_name": "HBoxModel",
          "model_module_version": "1.5.0",
          "state": {
            "_view_name": "HBoxView",
            "_dom_classes": [],
            "_model_name": "HBoxModel",
            "_view_module": "@jupyter-widgets/controls",
            "_model_module_version": "1.5.0",
            "_view_count": null,
            "_view_module_version": "1.5.0",
            "box_style": "",
            "layout": "IPY_MODEL_f8271249c41349ebb3089bb5369c321b",
            "_model_module": "@jupyter-widgets/controls",
            "children": [
              "IPY_MODEL_74e5292c734e4828bc905557b504c421",
              "IPY_MODEL_5d3c78ac17784ad9982987ff67b25170",
              "IPY_MODEL_42e824a16f474daea7bb6b79a5196a0e"
            ]
          }
        },
        "f8271249c41349ebb3089bb5369c321b": {
          "model_module": "@jupyter-widgets/base",
          "model_name": "LayoutModel",
          "model_module_version": "1.2.0",
          "state": {
            "_view_name": "LayoutView",
            "grid_template_rows": null,
            "right": null,
            "justify_content": null,
            "_view_module": "@jupyter-widgets/base",
            "overflow": null,
            "_model_module_version": "1.2.0",
            "_view_count": null,
            "flex_flow": null,
            "width": null,
            "min_width": null,
            "border": null,
            "align_items": null,
            "bottom": null,
            "_model_module": "@jupyter-widgets/base",
            "top": null,
            "grid_column": null,
            "overflow_y": null,
            "overflow_x": null,
            "grid_auto_flow": null,
            "grid_area": null,
            "grid_template_columns": null,
            "flex": null,
            "_model_name": "LayoutModel",
            "justify_items": null,
            "grid_row": null,
            "max_height": null,
            "align_content": null,
            "visibility": null,
            "align_self": null,
            "height": null,
            "min_height": null,
            "padding": null,
            "grid_auto_rows": null,
            "grid_gap": null,
            "max_width": null,
            "order": null,
            "_view_module_version": "1.2.0",
            "grid_template_areas": null,
            "object_position": null,
            "object_fit": null,
            "grid_auto_columns": null,
            "margin": null,
            "display": null,
            "left": null
          }
        },
        "74e5292c734e4828bc905557b504c421": {
          "model_module": "@jupyter-widgets/controls",
          "model_name": "HTMLModel",
          "model_module_version": "1.5.0",
          "state": {
            "_view_name": "HTMLView",
            "style": "IPY_MODEL_17765a0823d4476eae32033c51c5f491",
            "_dom_classes": [],
            "description": "",
            "_model_name": "HTMLModel",
            "placeholder": "​",
            "_view_module": "@jupyter-widgets/controls",
            "_model_module_version": "1.5.0",
            "value": "100%",
            "_view_count": null,
            "_view_module_version": "1.5.0",
            "description_tooltip": null,
            "_model_module": "@jupyter-widgets/controls",
            "layout": "IPY_MODEL_13d9221e7d2b44cbb5fcf59e91df0efc"
          }
        },
        "5d3c78ac17784ad9982987ff67b25170": {
          "model_module": "@jupyter-widgets/controls",
          "model_name": "FloatProgressModel",
          "model_module_version": "1.5.0",
          "state": {
            "_view_name": "ProgressView",
            "style": "IPY_MODEL_3a0bd3134fe642e9ba77642f5dcb9e11",
            "_dom_classes": [],
            "description": "",
            "_model_name": "FloatProgressModel",
            "bar_style": "success",
            "max": 340,
            "_view_module": "@jupyter-widgets/controls",
            "_model_module_version": "1.5.0",
            "value": 340,
            "_view_count": null,
            "_view_module_version": "1.5.0",
            "orientation": "horizontal",
            "min": 0,
            "description_tooltip": null,
            "_model_module": "@jupyter-widgets/controls",
            "layout": "IPY_MODEL_58ff08a5e7d441488312e42bc8ec3a0d"
          }
        },
        "42e824a16f474daea7bb6b79a5196a0e": {
          "model_module": "@jupyter-widgets/controls",
          "model_name": "HTMLModel",
          "model_module_version": "1.5.0",
          "state": {
            "_view_name": "HTMLView",
            "style": "IPY_MODEL_3b6c698e89044874afee3e6f158150ad",
            "_dom_classes": [],
            "description": "",
            "_model_name": "HTMLModel",
            "placeholder": "​",
            "_view_module": "@jupyter-widgets/controls",
            "_model_module_version": "1.5.0",
            "value": " 340/340 [00:00&lt;00:00, 1456.62it/s]",
            "_view_count": null,
            "_view_module_version": "1.5.0",
            "description_tooltip": null,
            "_model_module": "@jupyter-widgets/controls",
            "layout": "IPY_MODEL_e9281a61a7e4400eb7c431f7692e26ed"
          }
        },
        "17765a0823d4476eae32033c51c5f491": {
          "model_module": "@jupyter-widgets/controls",
          "model_name": "DescriptionStyleModel",
          "model_module_version": "1.5.0",
          "state": {
            "_view_name": "StyleView",
            "_model_name": "DescriptionStyleModel",
            "description_width": "",
            "_view_module": "@jupyter-widgets/base",
            "_model_module_version": "1.5.0",
            "_view_count": null,
            "_view_module_version": "1.2.0",
            "_model_module": "@jupyter-widgets/controls"
          }
        },
        "13d9221e7d2b44cbb5fcf59e91df0efc": {
          "model_module": "@jupyter-widgets/base",
          "model_name": "LayoutModel",
          "model_module_version": "1.2.0",
          "state": {
            "_view_name": "LayoutView",
            "grid_template_rows": null,
            "right": null,
            "justify_content": null,
            "_view_module": "@jupyter-widgets/base",
            "overflow": null,
            "_model_module_version": "1.2.0",
            "_view_count": null,
            "flex_flow": null,
            "width": null,
            "min_width": null,
            "border": null,
            "align_items": null,
            "bottom": null,
            "_model_module": "@jupyter-widgets/base",
            "top": null,
            "grid_column": null,
            "overflow_y": null,
            "overflow_x": null,
            "grid_auto_flow": null,
            "grid_area": null,
            "grid_template_columns": null,
            "flex": null,
            "_model_name": "LayoutModel",
            "justify_items": null,
            "grid_row": null,
            "max_height": null,
            "align_content": null,
            "visibility": null,
            "align_self": null,
            "height": null,
            "min_height": null,
            "padding": null,
            "grid_auto_rows": null,
            "grid_gap": null,
            "max_width": null,
            "order": null,
            "_view_module_version": "1.2.0",
            "grid_template_areas": null,
            "object_position": null,
            "object_fit": null,
            "grid_auto_columns": null,
            "margin": null,
            "display": null,
            "left": null
          }
        },
        "3a0bd3134fe642e9ba77642f5dcb9e11": {
          "model_module": "@jupyter-widgets/controls",
          "model_name": "ProgressStyleModel",
          "model_module_version": "1.5.0",
          "state": {
            "_view_name": "StyleView",
            "_model_name": "ProgressStyleModel",
            "description_width": "",
            "_view_module": "@jupyter-widgets/base",
            "_model_module_version": "1.5.0",
            "_view_count": null,
            "_view_module_version": "1.2.0",
            "bar_color": null,
            "_model_module": "@jupyter-widgets/controls"
          }
        },
        "58ff08a5e7d441488312e42bc8ec3a0d": {
          "model_module": "@jupyter-widgets/base",
          "model_name": "LayoutModel",
          "model_module_version": "1.2.0",
          "state": {
            "_view_name": "LayoutView",
            "grid_template_rows": null,
            "right": null,
            "justify_content": null,
            "_view_module": "@jupyter-widgets/base",
            "overflow": null,
            "_model_module_version": "1.2.0",
            "_view_count": null,
            "flex_flow": null,
            "width": null,
            "min_width": null,
            "border": null,
            "align_items": null,
            "bottom": null,
            "_model_module": "@jupyter-widgets/base",
            "top": null,
            "grid_column": null,
            "overflow_y": null,
            "overflow_x": null,
            "grid_auto_flow": null,
            "grid_area": null,
            "grid_template_columns": null,
            "flex": null,
            "_model_name": "LayoutModel",
            "justify_items": null,
            "grid_row": null,
            "max_height": null,
            "align_content": null,
            "visibility": null,
            "align_self": null,
            "height": null,
            "min_height": null,
            "padding": null,
            "grid_auto_rows": null,
            "grid_gap": null,
            "max_width": null,
            "order": null,
            "_view_module_version": "1.2.0",
            "grid_template_areas": null,
            "object_position": null,
            "object_fit": null,
            "grid_auto_columns": null,
            "margin": null,
            "display": null,
            "left": null
          }
        },
        "3b6c698e89044874afee3e6f158150ad": {
          "model_module": "@jupyter-widgets/controls",
          "model_name": "DescriptionStyleModel",
          "model_module_version": "1.5.0",
          "state": {
            "_view_name": "StyleView",
            "_model_name": "DescriptionStyleModel",
            "description_width": "",
            "_view_module": "@jupyter-widgets/base",
            "_model_module_version": "1.5.0",
            "_view_count": null,
            "_view_module_version": "1.2.0",
            "_model_module": "@jupyter-widgets/controls"
          }
        },
        "e9281a61a7e4400eb7c431f7692e26ed": {
          "model_module": "@jupyter-widgets/base",
          "model_name": "LayoutModel",
          "model_module_version": "1.2.0",
          "state": {
            "_view_name": "LayoutView",
            "grid_template_rows": null,
            "right": null,
            "justify_content": null,
            "_view_module": "@jupyter-widgets/base",
            "overflow": null,
            "_model_module_version": "1.2.0",
            "_view_count": null,
            "flex_flow": null,
            "width": null,
            "min_width": null,
            "border": null,
            "align_items": null,
            "bottom": null,
            "_model_module": "@jupyter-widgets/base",
            "top": null,
            "grid_column": null,
            "overflow_y": null,
            "overflow_x": null,
            "grid_auto_flow": null,
            "grid_area": null,
            "grid_template_columns": null,
            "flex": null,
            "_model_name": "LayoutModel",
            "justify_items": null,
            "grid_row": null,
            "max_height": null,
            "align_content": null,
            "visibility": null,
            "align_self": null,
            "height": null,
            "min_height": null,
            "padding": null,
            "grid_auto_rows": null,
            "grid_gap": null,
            "max_width": null,
            "order": null,
            "_view_module_version": "1.2.0",
            "grid_template_areas": null,
            "object_position": null,
            "object_fit": null,
            "grid_auto_columns": null,
            "margin": null,
            "display": null,
            "left": null
          }
        }
      }
    }
  },
  "cells": [
    {
      "cell_type": "markdown",
      "metadata": {
        "id": "view-in-github",
        "colab_type": "text"
      },
      "source": [
        "<a href=\"https://colab.research.google.com/github/Abhis-123/Table-Detection/blob/main/setup.ipynb\" target=\"_parent\"><img src=\"https://colab.research.google.com/assets/colab-badge.svg\" alt=\"Open In Colab\"/></a>"
      ]
    },
    {
      "cell_type": "code",
      "metadata": {
        "colab": {
          "base_uri": "https://localhost:8080/"
        },
        "id": "Pr4rN-mgvCGh",
        "outputId": "76a7a566-2997-49e6-b824-3886796255a1"
      },
      "source": [
        "!git clone https://github.com/Abhis-123/Table-Detection\n",
        "%cd \"Table-Detection\""
      ],
      "execution_count": 1,
      "outputs": [
        {
          "output_type": "stream",
          "name": "stdout",
          "text": [
            "Cloning into 'Table-Detection'...\n",
            "remote: Enumerating objects: 1066, done.\u001b[K\n",
            "remote: Counting objects: 100% (1066/1066), done.\u001b[K\n",
            "remote: Compressing objects: 100% (702/702), done.\u001b[K\n",
            "remote: Total 1066 (delta 356), reused 1061 (delta 351), pack-reused 0\u001b[K\n",
            "Receiving objects: 100% (1066/1066), 77.92 MiB | 32.13 MiB/s, done.\n",
            "Resolving deltas: 100% (356/356), done.\n",
            "/content/Table-Detection\n"
          ]
        }
      ]
    },
    {
      "cell_type": "code",
      "metadata": {
        "colab": {
          "base_uri": "https://localhost:8080/"
        },
        "id": "dSqltgs7zLYA",
        "outputId": "5853ef09-c278-4da7-b6d5-f586b7c47903"
      },
      "source": [
        "!pip install pipreqs\n",
        "!pipreqs ."
      ],
      "execution_count": 2,
      "outputs": [
        {
          "output_type": "stream",
          "name": "stdout",
          "text": [
            "Collecting pipreqs\n",
            "  Downloading pipreqs-0.4.11-py2.py3-none-any.whl (32 kB)\n",
            "Collecting yarg\n",
            "  Downloading yarg-0.1.9-py2.py3-none-any.whl (19 kB)\n",
            "Requirement already satisfied: docopt in /usr/local/lib/python3.7/dist-packages (from pipreqs) (0.6.2)\n",
            "Requirement already satisfied: requests in /usr/local/lib/python3.7/dist-packages (from yarg->pipreqs) (2.23.0)\n",
            "Requirement already satisfied: urllib3!=1.25.0,!=1.25.1,<1.26,>=1.21.1 in /usr/local/lib/python3.7/dist-packages (from requests->yarg->pipreqs) (1.24.3)\n",
            "Requirement already satisfied: certifi>=2017.4.17 in /usr/local/lib/python3.7/dist-packages (from requests->yarg->pipreqs) (2021.10.8)\n",
            "Requirement already satisfied: chardet<4,>=3.0.2 in /usr/local/lib/python3.7/dist-packages (from requests->yarg->pipreqs) (3.0.4)\n",
            "Requirement already satisfied: idna<3,>=2.5 in /usr/local/lib/python3.7/dist-packages (from requests->yarg->pipreqs) (2.10)\n",
            "Installing collected packages: yarg, pipreqs\n",
            "Successfully installed pipreqs-0.4.11 yarg-0.1.9\n",
            "WARNING: requirements.txt already exists, use --force to overwrite it\n"
          ]
        }
      ]
    },
    {
      "cell_type": "code",
      "metadata": {
        "colab": {
          "base_uri": "https://localhost:8080/"
        },
        "id": "wCOE9lUYzegY",
        "outputId": "d64cb6c4-b8e2-40c4-de60-8d8b9070a217"
      },
      "source": [
        "!pip install xmltodict"
      ],
      "execution_count": 3,
      "outputs": [
        {
          "output_type": "stream",
          "name": "stdout",
          "text": [
            "Collecting xmltodict\n",
            "  Downloading xmltodict-0.12.0-py2.py3-none-any.whl (9.2 kB)\n",
            "Installing collected packages: xmltodict\n",
            "Successfully installed xmltodict-0.12.0\n"
          ]
        }
      ]
    },
    {
      "cell_type": "code",
      "metadata": {
        "id": "0r8dyCLDu4nf"
      },
      "source": [
        "from tqdm.notebook import tqdm\n",
        "tqdm.pandas()\n",
        "import pandas as pd\n",
        "import numpy as np\n",
        "import os\n",
        "import shutil\n",
        "import xml.etree.ElementTree as ET\n",
        "import xmltodict"
      ],
      "execution_count": 4,
      "outputs": []
    },
    {
      "cell_type": "code",
      "metadata": {
        "id": "-YFFELXVu4ni"
      },
      "source": [
        "images = os.listdir(\"dataset/images/\") "
      ],
      "execution_count": 5,
      "outputs": []
    },
    {
      "cell_type": "code",
      "metadata": {
        "id": "Ozsuw1gpu4nj"
      },
      "source": [
        "df = pd.DataFrame(images, columns =['image_name'])"
      ],
      "execution_count": 6,
      "outputs": []
    },
    {
      "cell_type": "code",
      "metadata": {
        "id": "Tvqzn2MTu4nj"
      },
      "source": [
        "def get_paths(row):\n",
        "    image_name = row[\"image_name\"]\n",
        "    id         = image_name.split(\".\")[0]\n",
        "    image_path = os.path.abspath(f\"./dataset/images/{id}.PNG\")\n",
        "    label_path = os.path.abspath(f\"./dataset/labels/{id}.xml\")\n",
        "    row[\"image_path\"] = image_path\n",
        "    row[\"label_path\"] = label_path\n",
        "    row['id'] = id\n",
        "    return row"
      ],
      "execution_count": 7,
      "outputs": []
    },
    {
      "cell_type": "code",
      "metadata": {
        "id": "1UNvUxdju4nj"
      },
      "source": [
        "df = df.apply(get_paths, axis = 1)"
      ],
      "execution_count": 8,
      "outputs": []
    },
    {
      "cell_type": "code",
      "metadata": {
        "colab": {
          "base_uri": "https://localhost:8080/",
          "height": 112
        },
        "id": "2-k7I2Mqu4nk",
        "outputId": "cfdc3183-eca3-48ae-f063-54a490ed636a"
      },
      "source": [
        "df.head(2)"
      ],
      "execution_count": 9,
      "outputs": [
        {
          "output_type": "execute_result",
          "data": {
            "text/html": [
              "<div>\n",
              "<style scoped>\n",
              "    .dataframe tbody tr th:only-of-type {\n",
              "        vertical-align: middle;\n",
              "    }\n",
              "\n",
              "    .dataframe tbody tr th {\n",
              "        vertical-align: top;\n",
              "    }\n",
              "\n",
              "    .dataframe thead th {\n",
              "        text-align: right;\n",
              "    }\n",
              "</style>\n",
              "<table border=\"1\" class=\"dataframe\">\n",
              "  <thead>\n",
              "    <tr style=\"text-align: right;\">\n",
              "      <th></th>\n",
              "      <th>image_name</th>\n",
              "      <th>image_path</th>\n",
              "      <th>label_path</th>\n",
              "      <th>id</th>\n",
              "    </tr>\n",
              "  </thead>\n",
              "  <tbody>\n",
              "    <tr>\n",
              "      <th>0</th>\n",
              "      <td>00142.PNG</td>\n",
              "      <td>/content/Table-Detection/dataset/images/00142.PNG</td>\n",
              "      <td>/content/Table-Detection/dataset/labels/00142.xml</td>\n",
              "      <td>00142</td>\n",
              "    </tr>\n",
              "    <tr>\n",
              "      <th>1</th>\n",
              "      <td>00010.PNG</td>\n",
              "      <td>/content/Table-Detection/dataset/images/00010.PNG</td>\n",
              "      <td>/content/Table-Detection/dataset/labels/00010.xml</td>\n",
              "      <td>00010</td>\n",
              "    </tr>\n",
              "  </tbody>\n",
              "</table>\n",
              "</div>"
            ],
            "text/plain": [
              "  image_name  ...     id\n",
              "0  00142.PNG  ...  00142\n",
              "1  00010.PNG  ...  00010\n",
              "\n",
              "[2 rows x 4 columns]"
            ]
          },
          "metadata": {},
          "execution_count": 9
        }
      ]
    },
    {
      "cell_type": "code",
      "metadata": {
        "colab": {
          "base_uri": "https://localhost:8080/"
        },
        "id": "IPGBQz3Ou4nl",
        "outputId": "ab6322b6-c4ab-4a73-984f-fc2d2eab596a"
      },
      "source": [
        "df.columns"
      ],
      "execution_count": 10,
      "outputs": [
        {
          "output_type": "execute_result",
          "data": {
            "text/plain": [
              "Index(['image_name', 'image_path', 'label_path', 'id'], dtype='object')"
            ]
          },
          "metadata": {},
          "execution_count": 10
        }
      ]
    },
    {
      "cell_type": "code",
      "metadata": {
        "id": "lUM8xUw5u4nl"
      },
      "source": [
        "def read_xml(path_to_xml):\n",
        "    xml_data  = open(path_to_xml).read() #\n",
        "    xml_dict  = xmltodict.parse(xml_data)\n",
        "    return xml_dict\n",
        "\n",
        "def parse_xml_dict(row):\n",
        "    path_to_xml = row['label_path']\n",
        "    xml_dict  = read_xml(path_to_xml)\n",
        "    # get image dimension \n",
        "    image_dimension = xml_dict['annotation']['size']\n",
        "    # get image_height and image_width\n",
        "    row['image_height'] = int(image_dimension['height'])\n",
        "    row['image_width'] = int(image_dimension['width'])\n",
        "\n",
        "    # get numbounding boxes\n",
        "    objects = xml_dict['annotation']['object']\n",
        "    if isinstance(objects,list):\n",
        "        row['num_objects'] = len(objects)\n",
        "    else:\n",
        "        row['num_objects'] = 1 \n",
        "        objects  = [objects]\n",
        "    # get bounding boxes\n",
        "    bounding_boxes = [] #\n",
        "    for object in objects:\n",
        "        bbox = object['bndbox']\n",
        "        bounding_boxes.append([int(bbox['xmin']),int(bbox['ymin']),int(bbox['xmax']),int(bbox['ymax'])])\n",
        "    row['bounding_boxes'] = bounding_boxes\n",
        "    return row"
      ],
      "execution_count": 11,
      "outputs": []
    },
    {
      "cell_type": "code",
      "metadata": {
        "id": "u1PoyBQUu4nm"
      },
      "source": [
        "df = df.apply(parse_xml_dict, axis = 1)"
      ],
      "execution_count": 12,
      "outputs": []
    },
    {
      "cell_type": "code",
      "metadata": {
        "id": "PahCrylbu4nn"
      },
      "source": [
        "training_directory = os.path.join(os.getcwd(), \"yolo_cache\")\n",
        "\n",
        "if not os.path.exists(training_directory):\n",
        "    os.makedirs(training_directory)\n",
        "\n",
        "train_image_directory =os.path.join(training_directory, \"images/\")\n",
        "if not os.path.exists(train_image_directory):\n",
        "    os.makedirs(train_image_directory)\n",
        "\n",
        "train_label_directory = os.path.join(training_directory, \"labels/\")\n",
        "if not os.path.exists(train_label_directory):\n",
        "    os.makedirs(train_label_directory)\n",
        "\n"
      ],
      "execution_count": 13,
      "outputs": []
    },
    {
      "cell_type": "code",
      "metadata": {
        "id": "WGJJYNDWu4no"
      },
      "source": [
        "df['yolo_image_path']=df['id'].apply(lambda x: os.path.join(train_image_directory,f\"{x}.PNG\"))\n",
        "df['yolo_label_path']=df['id'].apply(lambda x: os.path.join(train_label_directory,f\"{x}.txt\"))"
      ],
      "execution_count": 14,
      "outputs": []
    },
    {
      "cell_type": "code",
      "metadata": {
        "id": "VZP7wORBu4no"
      },
      "source": [
        "temp =df.apply(lambda x: shutil.copy(x['image_path'],x['yolo_image_path']), axis= 1)"
      ],
      "execution_count": 15,
      "outputs": []
    },
    {
      "cell_type": "code",
      "metadata": {
        "colab": {
          "base_uri": "https://localhost:8080/"
        },
        "id": "eoSebCLvu4no",
        "outputId": "a95656cd-4c54-4983-8b9e-f1a14a6f01a3"
      },
      "source": [
        "df.columns"
      ],
      "execution_count": 16,
      "outputs": [
        {
          "output_type": "execute_result",
          "data": {
            "text/plain": [
              "Index(['image_name', 'image_path', 'label_path', 'id', 'image_height',\n",
              "       'image_width', 'num_objects', 'bounding_boxes', 'yolo_image_path',\n",
              "       'yolo_label_path'],\n",
              "      dtype='object')"
            ]
          },
          "metadata": {},
          "execution_count": 16
        }
      ]
    },
    {
      "cell_type": "code",
      "metadata": {
        "colab": {
          "base_uri": "https://localhost:8080/",
          "height": 66,
          "referenced_widgets": [
            "58fde309335b4ac3b927c290f726237d",
            "f8271249c41349ebb3089bb5369c321b",
            "74e5292c734e4828bc905557b504c421",
            "5d3c78ac17784ad9982987ff67b25170",
            "42e824a16f474daea7bb6b79a5196a0e",
            "17765a0823d4476eae32033c51c5f491",
            "13d9221e7d2b44cbb5fcf59e91df0efc",
            "3a0bd3134fe642e9ba77642f5dcb9e11",
            "58ff08a5e7d441488312e42bc8ec3a0d",
            "3b6c698e89044874afee3e6f158150ad",
            "e9281a61a7e4400eb7c431f7692e26ed"
          ]
        },
        "id": "UMfgBY1vu4no",
        "outputId": "0c07717c-8d4d-40b4-90dc-ebc7cacf9f0a"
      },
      "source": [
        "from tqdm.notebook import tqdm \n",
        "from helper.bounding_box import voc_to_yolo\n",
        "cnt = 0\n",
        "all_bboxes = []\n",
        "for row_idx in tqdm(range(df.__len__())):\n",
        "    row = df.iloc[row_idx]\n",
        "    image_height = row.image_height\n",
        "    image_width  = row.image_width\n",
        "    bboxes_coco  = np.array(row['bounding_boxes']).astype(np.float32).copy()\n",
        "    num_bbox     = row.num_objects\n",
        "    names        = ['tabel']*num_bbox\n",
        "    labels       = [0]*num_bbox\n",
        "    ## Create Annotation(YOLO)\n",
        "    with open(row.yolo_label_path, 'w') as f:\n",
        "        if num_bbox<1:\n",
        "            annot = ''\n",
        "            f.write(annot)\n",
        "            cnt+=1\n",
        "            continue\n",
        "        bboxes_yolo  = voc_to_yolo(image_height, image_width, bboxes_coco)\n",
        "        bboxes_yolo  = np.clip(bboxes_yolo, 0, 1)\n",
        "        all_bboxes.extend(bboxes_yolo)\n",
        "        for bbox_idx in range(len(bboxes_yolo)):\n",
        "            annot = [str(labels[bbox_idx])]+ list(bboxes_yolo[bbox_idx].astype(str))+(['\\n'] if num_bbox!=(bbox_idx+1) else [''])\n",
        "            annot = ' '.join(annot)\n",
        "            annot = annot.strip(' ')\n",
        "            f.write(annot)\n",
        "print('Missing:',cnt)"
      ],
      "execution_count": 18,
      "outputs": [
        {
          "output_type": "display_data",
          "data": {
            "application/vnd.jupyter.widget-view+json": {
              "model_id": "58fde309335b4ac3b927c290f726237d",
              "version_minor": 0,
              "version_major": 2
            },
            "text/plain": [
              "  0%|          | 0/340 [00:00<?, ?it/s]"
            ]
          },
          "metadata": {}
        },
        {
          "output_type": "stream",
          "name": "stdout",
          "text": [
            "Missing: 0\n"
          ]
        }
      ]
    },
    {
      "cell_type": "code",
      "metadata": {
        "colab": {
          "base_uri": "https://localhost:8080/",
          "height": 282
        },
        "id": "zm6Nf--lu4np",
        "outputId": "56db97e3-4fce-43ee-917e-f2029506182d"
      },
      "source": [
        "df.num_objects.plot(kind=\"hist\")"
      ],
      "execution_count": 19,
      "outputs": [
        {
          "output_type": "execute_result",
          "data": {
            "text/plain": [
              "<matplotlib.axes._subplots.AxesSubplot at 0x7f1e26d37d10>"
            ]
          },
          "metadata": {},
          "execution_count": 19
        },
        {
          "output_type": "display_data",
          "data": {
            "image/png": "[encoded data removed]",
            "text/plain": [
              "<Figure size 432x288 with 1 Axes>"
            ]
          },
          "metadata": {
            "needs_background": "light"
          }
        }
      ]
    },
    {
      "cell_type": "code",
      "metadata": {
        "id": "4LtZrhldu4np"
      },
      "source": [
        "train = df[:300]\n",
        "val   = df[300:]"
      ],
      "execution_count": 20,
      "outputs": []
    },
    {
      "cell_type": "code",
      "metadata": {
        "id": "dJml2HLyu4nq"
      },
      "source": [
        "import yaml\n",
        "\n",
        "train_txt_path = os.path.abspath(os.path.join(training_directory, 'train.txt'))\n",
        "with open(train_txt_path, 'w') as f:\n",
        "    for path in train.yolo_image_path.tolist():\n",
        "        f.write(path+'\\n')\n",
        "val_txt_path = os.path.abspath(os.path.join(training_directory, 'val.txt'))            \n",
        "with open(val_txt_path, 'w') as f:\n",
        "    for path in val.yolo_image_path.tolist():\n",
        "        f.write(path+'\\n')"
      ],
      "execution_count": 21,
      "outputs": []
    },
    {
      "cell_type": "code",
      "metadata": {
        "colab": {
          "base_uri": "https://localhost:8080/"
        },
        "id": "VFdy_T98u4nq",
        "outputId": "ea5f3acc-941c-476a-8e4d-13dcf16a5775"
      },
      "source": [
        "data = dict(\n",
        "    path  = os.getcwd(),\n",
        "    train =  train_txt_path,\n",
        "    val   =  val_txt_path,\n",
        "    nc    = 1,\n",
        "    names = ['table'],\n",
        "    )\n",
        "with open(os.path.join( os.getcwd() , 'yolo.yaml'), 'w') as outfile:\n",
        "    yaml.dump(data, outfile, default_flow_style=False)\n",
        "\n",
        "f = open(os.path.join( os.getcwd() , 'yolo.yaml'), 'r')\n",
        "print('\\nyaml:')\n",
        "print(f.read())"
      ],
      "execution_count": 22,
      "outputs": [
        {
          "output_type": "stream",
          "name": "stdout",
          "text": [
            "\n",
            "yaml:\n",
            "names:\n",
            "- table\n",
            "nc: 1\n",
            "path: /content/Table-Detection\n",
            "train: /content/Table-Detection/yolo_cache/train.txt\n",
            "val: /content/Table-Detection/yolo_cache/val.txt\n",
            "\n"
          ]
        }
      ]
    },
    {
      "cell_type": "code",
      "metadata": {
        "id": "Kr4k8Hwru4nq"
      },
      "source": [
        ""
      ],
      "execution_count": null,
      "outputs": []
    }
  ]
}