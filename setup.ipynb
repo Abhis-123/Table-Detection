{
 "cells": [
  {
   "cell_type": "code",
   "execution_count": 2,
   "metadata": {},
   "outputs": [],
   "source": [
    "import pandas as pd\n",
    "import numpy as np\n",
    "from tqdm.notebook import tqdm\n"
   ]
  },
  {
   "cell_type": "code",
   "execution_count": 10,
   "metadata": {},
   "outputs": [
    {
     "data": {
      "text/html": [
       "<div>\n",
       "<style scoped>\n",
       "    .dataframe tbody tr th:only-of-type {\n",
       "        vertical-align: middle;\n",
       "    }\n",
       "\n",
       "    .dataframe tbody tr th {\n",
       "        vertical-align: top;\n",
       "    }\n",
       "\n",
       "    .dataframe thead th {\n",
       "        text-align: right;\n",
       "    }\n",
       "</style>\n",
       "<table border=\"1\" class=\"dataframe\">\n",
       "  <thead>\n",
       "    <tr style=\"text-align: right;\">\n",
       "      <th></th>\n",
       "      <th>filename</th>\n",
       "      <th>imagefilepath</th>\n",
       "      <th>targetfilepath</th>\n",
       "      <th>imagesize</th>\n",
       "      <th>tablecount</th>\n",
       "      <th>tables</th>\n",
       "      <th>bndboxlim</th>\n",
       "    </tr>\n",
       "  </thead>\n",
       "  <tbody>\n",
       "    <tr>\n",
       "      <th>0</th>\n",
       "      <td>00001.PNG</td>\n",
       "      <td>data/images/00001.PNG</td>\n",
       "      <td>data/labels/00001.xml</td>\n",
       "      <td>['1126' '1596' '3']</td>\n",
       "      <td>1</td>\n",
       "      <td>[OrderedDict([('name', 'Table'), ('pose', 'Uns...</td>\n",
       "      <td>[['15' '442' '1095' '1467' '1']]</td>\n",
       "    </tr>\n",
       "    <tr>\n",
       "      <th>1</th>\n",
       "      <td>00005.PNG</td>\n",
       "      <td>data/images/00005.PNG</td>\n",
       "      <td>data/labels/00005.xml</td>\n",
       "      <td>['1063' '844' '3']</td>\n",
       "      <td>1</td>\n",
       "      <td>[OrderedDict([('name', 'Table'), ('pose', 'Uns...</td>\n",
       "      <td>[['327' '543' '904' '834' '1']]</td>\n",
       "    </tr>\n",
       "    <tr>\n",
       "      <th>2</th>\n",
       "      <td>00006.PNG</td>\n",
       "      <td>data/images/00006.PNG</td>\n",
       "      <td>data/labels/00006.xml</td>\n",
       "      <td>['682' '845' '3']</td>\n",
       "      <td>5</td>\n",
       "      <td>[OrderedDict([('name', 'Table'), ('pose', 'Uns...</td>\n",
       "      <td>[['18' '56' '267' '256' '1']\\n ['331' '111' '5...</td>\n",
       "    </tr>\n",
       "  </tbody>\n",
       "</table>\n",
       "</div>"
      ],
      "text/plain": [
       "    filename          imagefilepath         targetfilepath  \\\n",
       "0  00001.PNG  data/images/00001.PNG  data/labels/00001.xml   \n",
       "1  00005.PNG  data/images/00005.PNG  data/labels/00005.xml   \n",
       "2  00006.PNG  data/images/00006.PNG  data/labels/00006.xml   \n",
       "\n",
       "             imagesize  tablecount  \\\n",
       "0  ['1126' '1596' '3']           1   \n",
       "1   ['1063' '844' '3']           1   \n",
       "2    ['682' '845' '3']           5   \n",
       "\n",
       "                                              tables  \\\n",
       "0  [OrderedDict([('name', 'Table'), ('pose', 'Uns...   \n",
       "1  [OrderedDict([('name', 'Table'), ('pose', 'Uns...   \n",
       "2  [OrderedDict([('name', 'Table'), ('pose', 'Uns...   \n",
       "\n",
       "                                           bndboxlim  \n",
       "0                   [['15' '442' '1095' '1467' '1']]  \n",
       "1                    [['327' '543' '904' '834' '1']]  \n",
       "2  [['18' '56' '267' '256' '1']\\n ['331' '111' '5...  "
      ]
     },
     "execution_count": 10,
     "metadata": {},
     "output_type": "execute_result"
    }
   ],
   "source": [
    "df  = pd.read_csv(\"data/data.csv\")\n",
    "df.head(3)"
   ]
  },
  {
   "cell_type": "code",
   "execution_count": 11,
   "metadata": {},
   "outputs": [
    {
     "name": "stdout",
     "output_type": "stream",
     "text": [
      "<class 'pandas.core.frame.DataFrame'>\n",
      "RangeIndex: 340 entries, 0 to 339\n",
      "Data columns (total 7 columns):\n",
      " #   Column          Non-Null Count  Dtype \n",
      "---  ------          --------------  ----- \n",
      " 0   filename        340 non-null    object\n",
      " 1   imagefilepath   340 non-null    object\n",
      " 2   targetfilepath  340 non-null    object\n",
      " 3   imagesize       340 non-null    object\n",
      " 4   tablecount      340 non-null    int64 \n",
      " 5   tables          340 non-null    object\n",
      " 6   bndboxlim       340 non-null    object\n",
      "dtypes: int64(1), object(6)\n",
      "memory usage: 18.7+ KB\n"
     ]
    }
   ],
   "source": [
    "df['bndboxlim'][0]\n",
    "df.info()"
   ]
  },
  {
   "cell_type": "code",
   "execution_count": null,
   "metadata": {},
   "outputs": [],
   "source": []
  }
 ],
 "metadata": {
  "interpreter": {
   "hash": "a8f61be024eba58adef938c9aa1e29e02cb3dece83a5348b1a2dafd16a070453"
  },
  "kernelspec": {
   "display_name": "Python 3.8.3 64-bit ('base': conda)",
   "language": "python",
   "name": "python3"
  },
  "language_info": {
   "codemirror_mode": {
    "name": "ipython",
    "version": 3
   },
   "file_extension": ".py",
   "mimetype": "text/x-python",
   "name": "python",
   "nbconvert_exporter": "python",
   "pygments_lexer": "ipython3",
   "version": "3.8.3"
  },
  "orig_nbformat": 4
 },
 "nbformat": 4,
 "nbformat_minor": 2
}
