{
  "nbformat": 4,
  "nbformat_minor": 0,
  "metadata": {
    "interpreter": {
      "hash": "a8f61be024eba58adef938c9aa1e29e02cb3dece83a5348b1a2dafd16a070453"
    },
    "kernelspec": {
      "display_name": "Python 3.8.3 64-bit ('base': conda)",
      "language": "python",
      "name": "python3"
    },
    "language_info": {
      "codemirror_mode": {
        "name": "ipython",
        "version": 3
      },
      "file_extension": ".py",
      "mimetype": "text/x-python",
      "name": "python",
      "nbconvert_exporter": "python",
      "pygments_lexer": "ipython3",
      "version": "3.8.3"
    },
    "orig_nbformat": 4,
    "colab": {
      "name": "setup.ipynb",
      "provenance": [],
      "include_colab_link": true
    }
  },
  "cells": [
    {
      "cell_type": "markdown",
      "metadata": {
        "id": "view-in-github",
        "colab_type": "text"
      },
      "source": [
        "<a href=\"https://colab.research.google.com/github/Abhis-123/Table-Detection/blob/main/setup.ipynb\" target=\"_parent\"><img src=\"https://colab.research.google.com/assets/colab-badge.svg\" alt=\"Open In Colab\"/></a>"
      ]
    },
    {
      "cell_type": "code",
      "metadata": {
        "id": "Pr4rN-mgvCGh",
        "outputId": "76a7a566-2997-49e6-b824-3886796255a1",
        "colab": {
          "base_uri": "https://localhost:8080/"
        }
      },
      "source": [
        "!git clone https://github.com/Abhis-123/Table-Detection\n",
        "%cd \"Table-Detection\""
      ],
      "execution_count": 1,
      "outputs": [
        {
          "output_type": "stream",
          "name": "stdout",
          "text": [
            "Cloning into 'Table-Detection'...\n",
            "remote: Enumerating objects: 1066, done.\u001b[K\n",
            "remote: Counting objects: 100% (1066/1066), done.\u001b[K\n",
            "remote: Compressing objects: 100% (702/702), done.\u001b[K\n",
            "remote: Total 1066 (delta 356), reused 1061 (delta 351), pack-reused 0\u001b[K\n",
            "Receiving objects: 100% (1066/1066), 77.92 MiB | 32.13 MiB/s, done.\n",
            "Resolving deltas: 100% (356/356), done.\n",
            "/content/Table-Detection\n"
          ]
        }
      ]
    },
    {
      "cell_type": "code",
      "metadata": {
        "id": "dSqltgs7zLYA",
        "outputId": "5853ef09-c278-4da7-b6d5-f586b7c47903",
        "colab": {
          "base_uri": "https://localhost:8080/"
        }
      },
      "source": [
        "!pip install pipreqs\n",
        "!pipreqs ."
      ],
      "execution_count": 2,
      "outputs": [
        {
          "output_type": "stream",
          "name": "stdout",
          "text": [
            "Collecting pipreqs\n",
            "  Downloading pipreqs-0.4.11-py2.py3-none-any.whl (32 kB)\n",
            "Collecting yarg\n",
            "  Downloading yarg-0.1.9-py2.py3-none-any.whl (19 kB)\n",
            "Requirement already satisfied: docopt in /usr/local/lib/python3.7/dist-packages (from pipreqs) (0.6.2)\n",
            "Requirement already satisfied: requests in /usr/local/lib/python3.7/dist-packages (from yarg->pipreqs) (2.23.0)\n",
            "Requirement already satisfied: urllib3!=1.25.0,!=1.25.1,<1.26,>=1.21.1 in /usr/local/lib/python3.7/dist-packages (from requests->yarg->pipreqs) (1.24.3)\n",
            "Requirement already satisfied: certifi>=2017.4.17 in /usr/local/lib/python3.7/dist-packages (from requests->yarg->pipreqs) (2021.10.8)\n",
            "Requirement already satisfied: chardet<4,>=3.0.2 in /usr/local/lib/python3.7/dist-packages (from requests->yarg->pipreqs) (3.0.4)\n",
            "Requirement already satisfied: idna<3,>=2.5 in /usr/local/lib/python3.7/dist-packages (from requests->yarg->pipreqs) (2.10)\n",
            "Installing collected packages: yarg, pipreqs\n",
            "Successfully installed pipreqs-0.4.11 yarg-0.1.9\n",
            "WARNING: requirements.txt already exists, use --force to overwrite it\n"
          ]
        }
      ]
    },
    {
      "cell_type": "code",
      "metadata": {
        "id": "wCOE9lUYzegY",
        "outputId": "d64cb6c4-b8e2-40c4-de60-8d8b9070a217",
        "colab": {
          "base_uri": "https://localhost:8080/"
        }
      },
      "source": [
        "!pip install xmltodict"
      ],
      "execution_count": 3,
      "outputs": [
        {
          "output_type": "stream",
          "name": "stdout",
          "text": [
            "Collecting xmltodict\n",
            "  Downloading xmltodict-0.12.0-py2.py3-none-any.whl (9.2 kB)\n",
            "Installing collected packages: xmltodict\n",
            "Successfully installed xmltodict-0.12.0\n"
          ]
        }
      ]
    },
    {
      "cell_type": "code",
      "metadata": {
        "id": "0r8dyCLDu4nf"
      },
      "source": [
        "from tqdm.notebook import tqdm\n",
        "tqdm.pandas()\n",
        "import pandas as pd\n",
        "import numpy as np\n",
        "import os\n",
        "import shutil\n",
        "import xml.etree.ElementTree as ET\n",
        "import xmltodict"
      ],
      "execution_count": 4,
      "outputs": []
    },
    {
      "cell_type": "code",
      "metadata": {
        "id": "-YFFELXVu4ni",
        "outputId": "926b6e31-b7d4-4c9e-abc4-5f5202c00490",
        "colab": {
          "base_uri": "https://localhost:8080/",
          "height": 165
        }
      },
      "source": [
        "images = os.listdir(\"dataset/images/\") "
      ],
      "execution_count": 11,
      "outputs": [
        {
          "output_type": "error",
          "ename": "FileNotFoundError",
          "evalue": "ignored",
          "traceback": [
            "\u001b[0;31m---------------------------------------------------------------------------\u001b[0m",
            "\u001b[0;31mFileNotFoundError\u001b[0m                         Traceback (most recent call last)",
            "\u001b[0;32m<ipython-input-11-f4e1a74d05cf>\u001b[0m in \u001b[0;36m<module>\u001b[0;34m()\u001b[0m\n\u001b[0;32m----> 1\u001b[0;31m \u001b[0mimages\u001b[0m \u001b[0;34m=\u001b[0m \u001b[0mos\u001b[0m\u001b[0;34m.\u001b[0m\u001b[0mlistdir\u001b[0m\u001b[0;34m(\u001b[0m\u001b[0;34m\"dataset/images/\"\u001b[0m\u001b[0;34m)\u001b[0m\u001b[0;34m\u001b[0m\u001b[0;34m\u001b[0m\u001b[0m\n\u001b[0m",
            "\u001b[0;31mFileNotFoundError\u001b[0m: [Errno 2] No such file or directory: 'dataset/images/'"
          ]
        }
      ]
    },
    {
      "cell_type": "code",
      "metadata": {
        "id": "Ozsuw1gpu4nj"
      },
      "source": [
        "df = pd.DataFrame(images, columns =['image_name'])"
      ],
      "execution_count": null,
      "outputs": []
    },
    {
      "cell_type": "code",
      "metadata": {
        "id": "Tvqzn2MTu4nj"
      },
      "source": [
        "def get_paths(row):\n",
        "    image_name = row[\"image_name\"]\n",
        "    id         = image_name.split(\".\")[0]\n",
        "    image_path = os.path.abspath(f\"./data/images/{id}.PNG\")\n",
        "    label_path = os.path.abspath(f\"./data/labels/{id}.xml\")\n",
        "    row[\"image_path\"] = image_path\n",
        "    row[\"label_path\"] = label_path\n",
        "    row['id'] = id\n",
        "    return row"
      ],
      "execution_count": null,
      "outputs": []
    },
    {
      "cell_type": "code",
      "metadata": {
        "id": "1UNvUxdju4nj"
      },
      "source": [
        "df = df.apply(get_paths, axis = 1)"
      ],
      "execution_count": null,
      "outputs": []
    },
    {
      "cell_type": "code",
      "metadata": {
        "id": "2-k7I2Mqu4nk",
        "outputId": "d749c126-0a62-4a19-b230-723000fcc062"
      },
      "source": [
        "df.head(2)"
      ],
      "execution_count": null,
      "outputs": [
        {
          "data": {
            "text/html": [
              "<div>\n",
              "<style scoped>\n",
              "    .dataframe tbody tr th:only-of-type {\n",
              "        vertical-align: middle;\n",
              "    }\n",
              "\n",
              "    .dataframe tbody tr th {\n",
              "        vertical-align: top;\n",
              "    }\n",
              "\n",
              "    .dataframe thead th {\n",
              "        text-align: right;\n",
              "    }\n",
              "</style>\n",
              "<table border=\"1\" class=\"dataframe\">\n",
              "  <thead>\n",
              "    <tr style=\"text-align: right;\">\n",
              "      <th></th>\n",
              "      <th>image_name</th>\n",
              "      <th>image_path</th>\n",
              "      <th>label_path</th>\n",
              "      <th>id</th>\n",
              "    </tr>\n",
              "  </thead>\n",
              "  <tbody>\n",
              "    <tr>\n",
              "      <th>0</th>\n",
              "      <td>00001.PNG</td>\n",
              "      <td>c:\\Users\\Abhishek pandir\\ML\\Table Detection\\da...</td>\n",
              "      <td>c:\\Users\\Abhishek pandir\\ML\\Table Detection\\da...</td>\n",
              "      <td>00001</td>\n",
              "    </tr>\n",
              "    <tr>\n",
              "      <th>1</th>\n",
              "      <td>00005.PNG</td>\n",
              "      <td>c:\\Users\\Abhishek pandir\\ML\\Table Detection\\da...</td>\n",
              "      <td>c:\\Users\\Abhishek pandir\\ML\\Table Detection\\da...</td>\n",
              "      <td>00005</td>\n",
              "    </tr>\n",
              "  </tbody>\n",
              "</table>\n",
              "</div>"
            ],
            "text/plain": [
              "  image_name                                         image_path  \\\n",
              "0  00001.PNG  c:\\Users\\Abhishek pandir\\ML\\Table Detection\\da...   \n",
              "1  00005.PNG  c:\\Users\\Abhishek pandir\\ML\\Table Detection\\da...   \n",
              "\n",
              "                                          label_path     id  \n",
              "0  c:\\Users\\Abhishek pandir\\ML\\Table Detection\\da...  00001  \n",
              "1  c:\\Users\\Abhishek pandir\\ML\\Table Detection\\da...  00005  "
            ]
          },
          "execution_count": 51,
          "metadata": {},
          "output_type": "execute_result"
        }
      ]
    },
    {
      "cell_type": "code",
      "metadata": {
        "id": "IPGBQz3Ou4nl",
        "outputId": "4c7ae17f-2835-4528-d1ba-a51f154968b7"
      },
      "source": [
        "df.columns"
      ],
      "execution_count": null,
      "outputs": [
        {
          "data": {
            "text/plain": [
              "Index(['image_name', 'image_path', 'label_path', 'id'], dtype='object')"
            ]
          },
          "execution_count": 55,
          "metadata": {},
          "output_type": "execute_result"
        }
      ]
    },
    {
      "cell_type": "code",
      "metadata": {
        "id": "lUM8xUw5u4nl"
      },
      "source": [
        "def read_xml(path_to_xml):\n",
        "    xml_data  = open(path_to_xml).read() #\n",
        "    xml_dict  = xmltodict.parse(xml_data)\n",
        "    return xml_dict\n",
        "\n",
        "def parse_xml_dict(row):\n",
        "    path_to_xml = row['label_path']\n",
        "    xml_dict  = read_xml(path_to_xml)\n",
        "    # get image dimension \n",
        "    image_dimension = xml_dict['annotation']['size']\n",
        "    # get image_height and image_width\n",
        "    row['image_height'] = int(image_dimension['height'])\n",
        "    row['image_width'] = int(image_dimension['width'])\n",
        "\n",
        "    # get numbounding boxes\n",
        "    objects = xml_dict['annotation']['object']\n",
        "    if isinstance(objects,list):\n",
        "        row['num_objects'] = len(objects)\n",
        "    else:\n",
        "        row['num_objects'] = 1 \n",
        "        objects  = [objects]\n",
        "    # get bounding boxes\n",
        "    bounding_boxes = [] #\n",
        "    for object in objects:\n",
        "        bbox = object['bndbox']\n",
        "        bounding_boxes.append([int(bbox['xmin']),int(bbox['ymin']),int(bbox['xmax']),int(bbox['ymax'])])\n",
        "    row['bounding_boxes'] = bounding_boxes\n",
        "    return row"
      ],
      "execution_count": null,
      "outputs": []
    },
    {
      "cell_type": "code",
      "metadata": {
        "id": "u1PoyBQUu4nm"
      },
      "source": [
        "df = df.apply(parse_xml_dict, axis = 1)"
      ],
      "execution_count": null,
      "outputs": []
    },
    {
      "cell_type": "code",
      "metadata": {
        "id": "PahCrylbu4nn"
      },
      "source": [
        "training_directory = os.path.join(os.getcwd(), \"yolo_cache\")\n",
        "\n",
        "if not os.path.exists(training_directory):\n",
        "    os.makedirs(training_directory)\n",
        "\n",
        "train_image_directory =os.path.join(training_directory, \"images/\")\n",
        "if not os.path.exists(train_image_directory):\n",
        "    os.makedirs(train_image_directory)\n",
        "\n",
        "train_label_directory = os.path.join(training_directory, \"labels/\")\n",
        "if not os.path.exists(train_label_directory):\n",
        "    os.makedirs(train_label_directory)\n",
        "\n"
      ],
      "execution_count": null,
      "outputs": []
    },
    {
      "cell_type": "code",
      "metadata": {
        "id": "WGJJYNDWu4no"
      },
      "source": [
        "df['yolo_image_path']=df['id'].apply(lambda x: os.path.join(train_image_directory,f\"{x}.PNG\"))\n",
        "df['yolo_label_path']=df['id'].apply(lambda x: os.path.join(train_label_directory,f\"{x}.txt\"))"
      ],
      "execution_count": null,
      "outputs": []
    },
    {
      "cell_type": "code",
      "metadata": {
        "id": "VZP7wORBu4no"
      },
      "source": [
        "temp =df.apply(lambda x: shutil.copy(x['image_path'],x['yolo_image_path']), axis= 1)"
      ],
      "execution_count": null,
      "outputs": []
    },
    {
      "cell_type": "code",
      "metadata": {
        "id": "eoSebCLvu4no",
        "outputId": "126bc2cb-7137-4f1e-c1bb-bd49c0800c30"
      },
      "source": [
        "df.columns"
      ],
      "execution_count": null,
      "outputs": [
        {
          "data": {
            "text/plain": [
              "Index(['image_name', 'image_path', 'label_path', 'id', 'image_height',\n",
              "       'image_width', 'num_objects', 'bounding_boxes', 'yolo_image_path',\n",
              "       'yolo_label_path'],\n",
              "      dtype='object')"
            ]
          },
          "execution_count": 67,
          "metadata": {},
          "output_type": "execute_result"
        }
      ]
    },
    {
      "cell_type": "code",
      "metadata": {
        "id": "UMfgBY1vu4no",
        "outputId": "406da3a2-cec3-4e53-86bb-ac74002667fd",
        "colab": {
          "referenced_widgets": [
            "070ad64e192f42f59bb56dfb78743332"
          ]
        }
      },
      "source": [
        "\n",
        "from tqdm.notebook import tqdm \n",
        "from utils.bounding_box import voc_to_yolo\n",
        "cnt = 0\n",
        "all_bboxes = []\n",
        "for row_idx in tqdm(range(df.__len__())):\n",
        "    row = df.iloc[row_idx]\n",
        "    image_height = row.image_height\n",
        "    image_width  = row.image_width\n",
        "    bboxes_coco  = np.array(row['bounding_boxes']).astype(np.float32).copy()\n",
        "    num_bbox     = row.num_objects\n",
        "    names        = ['tabel']*num_bbox\n",
        "    labels       = [0]*num_bbox\n",
        "    ## Create Annotation(YOLO)\n",
        "    with open(row.yolo_label_path, 'w') as f:\n",
        "        if num_bbox<1:\n",
        "            annot = ''\n",
        "            f.write(annot)\n",
        "            cnt+=1\n",
        "            continue\n",
        "        bboxes_yolo  = voc_to_yolo(image_height, image_width, bboxes_coco)\n",
        "        bboxes_yolo  = np.clip(bboxes_yolo, 0, 1)\n",
        "        all_bboxes.extend(bboxes_yolo)\n",
        "        for bbox_idx in range(len(bboxes_yolo)):\n",
        "            annot = [str(labels[bbox_idx])]+ list(bboxes_yolo[bbox_idx].astype(str))+(['\\n'] if num_bbox!=(bbox_idx+1) else [''])\n",
        "            annot = ' '.join(annot)\n",
        "            annot = annot.strip(' ')\n",
        "            f.write(annot)\n",
        "print('Missing:',cnt)"
      ],
      "execution_count": null,
      "outputs": [
        {
          "data": {
            "application/vnd.jupyter.widget-view+json": {
              "model_id": "070ad64e192f42f59bb56dfb78743332",
              "version_major": 2,
              "version_minor": 0
            },
            "text/plain": [
              "HBox(children=(FloatProgress(value=0.0, max=340.0), HTML(value='')))"
            ]
          },
          "metadata": {},
          "output_type": "display_data"
        },
        {
          "name": "stdout",
          "output_type": "stream",
          "text": [
            "\n",
            "Missing: 0\n"
          ]
        }
      ]
    },
    {
      "cell_type": "code",
      "metadata": {
        "id": "zm6Nf--lu4np",
        "outputId": "21fe646a-675c-4de8-fc5b-f06139a49035"
      },
      "source": [
        "df.num_objects.plot(kind=\"hist\")"
      ],
      "execution_count": null,
      "outputs": [
        {
          "data": {
            "text/plain": [
              "<AxesSubplot:ylabel='Frequency'>"
            ]
          },
          "execution_count": 69,
          "metadata": {},
          "output_type": "execute_result"
        },
        {
          "data": {
            "image/png": "[encoded data removed]",
            "text/plain": [
              "<Figure size 432x288 with 1 Axes>"
            ]
          },
          "metadata": {
            "needs_background": "light"
          },
          "output_type": "display_data"
        }
      ]
    },
    {
      "cell_type": "code",
      "metadata": {
        "id": "4LtZrhldu4np"
      },
      "source": [
        "train = df[:300]\n",
        "val   = df[300:]"
      ],
      "execution_count": null,
      "outputs": []
    },
    {
      "cell_type": "code",
      "metadata": {
        "id": "dJml2HLyu4nq"
      },
      "source": [
        "import yaml\n",
        "\n",
        "train_txt_path = os.path.abspath(os.path.join(training_directory, 'train.txt'))\n",
        "with open(train_txt_path, 'w') as f:\n",
        "    for path in train.yolo_image_path.tolist():\n",
        "        f.write(path+'\\n')\n",
        "val_txt_path = os.path.abspath(os.path.join(training_directory, 'val.txt'))            \n",
        "with open(val_txt_path, 'w') as f:\n",
        "    for path in val.yolo_label_path.tolist():\n",
        "        f.write(path+'\\n')"
      ],
      "execution_count": null,
      "outputs": []
    },
    {
      "cell_type": "code",
      "metadata": {
        "id": "VFdy_T98u4nq",
        "outputId": "25c4b0a4-8f03-41f2-c37d-d9dd77b7b584"
      },
      "source": [
        "data = dict(\n",
        "    path  = os.getcwd(),\n",
        "    train =  train_txt_path,\n",
        "    val   =  val_txt_path,\n",
        "    nc    = 1,\n",
        "    names = ['table'],\n",
        "    )\n",
        "with open(os.path.join( os.getcwd() , 'yolo.yaml'), 'w') as outfile:\n",
        "    yaml.dump(data, outfile, default_flow_style=False)\n",
        "\n",
        "f = open(os.path.join( os.getcwd() , 'yolo.yaml'), 'r')\n",
        "print('\\nyaml:')\n",
        "print(f.read())"
      ],
      "execution_count": null,
      "outputs": [
        {
          "name": "stdout",
          "output_type": "stream",
          "text": [
            "\n",
            "yaml:\n",
            "names:\n",
            "- table\n",
            "nc: 1\n",
            "path: c:\\Users\\Abhishek pandir\\ML\\Table Detection\n",
            "train: c:\\Users\\Abhishek pandir\\ML\\Table Detection\\yolo_cache\\train.txt\n",
            "val: c:\\Users\\Abhishek pandir\\ML\\Table Detection\\yolo_cache\\val.txt\n",
            "\n"
          ]
        }
      ]
    },
    {
      "cell_type": "code",
      "metadata": {
        "id": "Kr4k8Hwru4nq"
      },
      "source": [
        ""
      ],
      "execution_count": null,
      "outputs": []
    }
  ]
}