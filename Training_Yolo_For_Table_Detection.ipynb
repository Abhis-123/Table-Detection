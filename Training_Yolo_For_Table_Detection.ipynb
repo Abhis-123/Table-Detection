{
  "nbformat": 4,
  "nbformat_minor": 0,
  "metadata": {
    "colab": {
      "name": "Training Yolo For Table Detection.ipynb",
      "provenance": [],
      "collapsed_sections": [],
      "authorship_tag": "ABX9TyMa3y4PRoU2yE3MICBgTwJj",
      "include_colab_link": true
    },
    "kernelspec": {
      "name": "python3",
      "display_name": "Python 3"
    },
    "language_info": {
      "name": "python"
    },
    "accelerator": "GPU"
  },
  "cells": [
    {
      "cell_type": "markdown",
      "metadata": {
        "id": "view-in-github",
        "colab_type": "text"
      },
      "source": [
        "<a href=\"https://colab.research.google.com/github/Abhis-123/Table-Detection/blob/main/Training_Yolo_For_Table_Detection.ipynb\" target=\"_parent\"><img src=\"https://colab.research.google.com/assets/colab-badge.svg\" alt=\"Open In Colab\"/></a>"
      ]
    },
    {
      "cell_type": "code",
      "metadata": {
        "colab": {
          "base_uri": "https://localhost:8080/"
        },
        "id": "PjA65TTfjYHp",
        "outputId": "cb33a2c4-9313-4096-9ef8-4747e26a8f0b"
      },
      "source": [
        "from google.colab import drive\n",
        "drive.mount('/content/drive')"
      ],
      "execution_count": 49,
      "outputs": [
        {
          "output_type": "stream",
          "name": "stdout",
          "text": [
            "Mounted at /content/drive\n"
          ]
        }
      ]
    },
    {
      "cell_type": "code",
      "metadata": {
        "colab": {
          "base_uri": "https://localhost:8080/"
        },
        "id": "xB1bPUArk-QE",
        "outputId": "e79e6ae6-5e21-410f-e71f-d33fd089ca0d"
      },
      "source": [
        "%cd \"/content/drive/MyDrive\""
      ],
      "execution_count": 50,
      "outputs": [
        {
          "output_type": "stream",
          "name": "stdout",
          "text": [
            "/content/drive/MyDrive\n"
          ]
        }
      ]
    },
    {
      "cell_type": "code",
      "metadata": {
        "id": "Y3Z3wTuFd1Td",
        "colab": {
          "base_uri": "https://localhost:8080/"
        },
        "outputId": "00a3e45d-26ce-47b7-a198-b01a372bfadc"
      },
      "source": [
        "!rm -r Table-Detection\n",
        "!git clone https://github.com/Abhis-123/Table-Detection"
      ],
      "execution_count": 51,
      "outputs": [
        {
          "output_type": "stream",
          "name": "stdout",
          "text": [
            "rm: cannot remove 'Table-Detection': No such file or directory\n",
            "Cloning into 'Table-Detection'...\n",
            "remote: Enumerating objects: 1237, done.\u001b[K\n",
            "remote: Counting objects: 100% (1237/1237), done.\u001b[K\n",
            "remote: Compressing objects: 100% (828/828), done.\u001b[K\n",
            "remote: Total 1237 (delta 404), reused 1219 (delta 389), pack-reused 0\u001b[K\n",
            "Receiving objects: 100% (1237/1237), 91.74 MiB | 12.69 MiB/s, done.\n",
            "Resolving deltas: 100% (404/404), done.\n",
            "Checking out files: 100% (1147/1147), done.\n"
          ]
        }
      ]
    },
    {
      "cell_type": "code",
      "metadata": {
        "id": "LEdM_v5dee8F",
        "colab": {
          "base_uri": "https://localhost:8080/"
        },
        "outputId": "5cd736e1-d25e-437b-f73c-be4810219b98"
      },
      "source": [
        "%cd \"Table-Detection/\""
      ],
      "execution_count": 53,
      "outputs": [
        {
          "output_type": "stream",
          "name": "stdout",
          "text": [
            "/content/drive/MyDrive/Table-Detection\n"
          ]
        }
      ]
    },
    {
      "cell_type": "code",
      "metadata": {
        "colab": {
          "base_uri": "https://localhost:8080/"
        },
        "id": "Ab-s_KtpRD4t",
        "outputId": "8164ceaf-2bf7-4920-bf34-f4965c741a8d"
      },
      "source": [
        "%pip install -r requirements.txt # install dependencies"
      ],
      "execution_count": 54,
      "outputs": [
        {
          "output_type": "stream",
          "name": "stdout",
          "text": [
            "Requirement already satisfied: logger==1.4 in /usr/local/lib/python3.7/dist-packages (from -r requirements.txt (line 1)) (1.4)\n",
            "Requirement already satisfied: matplotlib==3.2.2 in /usr/local/lib/python3.7/dist-packages (from -r requirements.txt (line 2)) (3.2.2)\n",
            "Requirement already satisfied: numpy==1.19.5 in /usr/local/lib/python3.7/dist-packages (from -r requirements.txt (line 3)) (1.19.5)\n",
            "Requirement already satisfied: opencv_python==4.1.2.30 in /usr/local/lib/python3.7/dist-packages (from -r requirements.txt (line 4)) (4.1.2.30)\n",
            "Requirement already satisfied: pandas==1.1.5 in /usr/local/lib/python3.7/dist-packages (from -r requirements.txt (line 5)) (1.1.5)\n",
            "Requirement already satisfied: PyYAML==6.0 in /usr/local/lib/python3.7/dist-packages (from -r requirements.txt (line 6)) (6.0)\n",
            "Requirement already satisfied: tensorflow==2.7.0 in /usr/local/lib/python3.7/dist-packages (from -r requirements.txt (line 7)) (2.7.0)\n",
            "Requirement already satisfied: torchvision==0.11.1+cu111 in /usr/local/lib/python3.7/dist-packages (from -r requirements.txt (line 8)) (0.11.1+cu111)\n",
            "Requirement already satisfied: tqdm==4.62.3 in /usr/local/lib/python3.7/dist-packages (from -r requirements.txt (line 9)) (4.62.3)\n",
            "Requirement already satisfied: xmltodict==0.12.0 in /usr/local/lib/python3.7/dist-packages (from -r requirements.txt (line 10)) (0.12.0)\n",
            "Requirement already satisfied: Pillow>=7.1.2 in /usr/local/lib/python3.7/dist-packages (from -r requirements.txt (line 19)) (7.1.2)\n",
            "Requirement already satisfied: requests>=2.23.0 in /usr/local/lib/python3.7/dist-packages (from -r requirements.txt (line 21)) (2.23.0)\n",
            "Requirement already satisfied: scipy>=1.4.1 in /usr/local/lib/python3.7/dist-packages (from -r requirements.txt (line 22)) (1.4.1)\n",
            "Requirement already satisfied: torch>=1.7.0 in /usr/local/lib/python3.7/dist-packages (from -r requirements.txt (line 23)) (1.10.0+cu111)\n",
            "Requirement already satisfied: tensorboard>=2.4.1 in /usr/local/lib/python3.7/dist-packages (from -r requirements.txt (line 28)) (2.7.0)\n",
            "Requirement already satisfied: seaborn>=0.11.0 in /usr/local/lib/python3.7/dist-packages (from -r requirements.txt (line 33)) (0.11.2)\n",
            "Requirement already satisfied: thop in /usr/local/lib/python3.7/dist-packages (from -r requirements.txt (line 48)) (0.0.31.post2005241907)\n",
            "Requirement already satisfied: python-dateutil>=2.1 in /usr/local/lib/python3.7/dist-packages (from matplotlib==3.2.2->-r requirements.txt (line 2)) (2.8.2)\n",
            "Requirement already satisfied: pyparsing!=2.0.4,!=2.1.2,!=2.1.6,>=2.0.1 in /usr/local/lib/python3.7/dist-packages (from matplotlib==3.2.2->-r requirements.txt (line 2)) (3.0.6)\n",
            "Requirement already satisfied: cycler>=0.10 in /usr/local/lib/python3.7/dist-packages (from matplotlib==3.2.2->-r requirements.txt (line 2)) (0.11.0)\n",
            "Requirement already satisfied: kiwisolver>=1.0.1 in /usr/local/lib/python3.7/dist-packages (from matplotlib==3.2.2->-r requirements.txt (line 2)) (1.3.2)\n",
            "Requirement already satisfied: pytz>=2017.2 in /usr/local/lib/python3.7/dist-packages (from pandas==1.1.5->-r requirements.txt (line 5)) (2018.9)\n",
            "Requirement already satisfied: google-pasta>=0.1.1 in /usr/local/lib/python3.7/dist-packages (from tensorflow==2.7.0->-r requirements.txt (line 7)) (0.2.0)\n",
            "Requirement already satisfied: gast<0.5.0,>=0.2.1 in /usr/local/lib/python3.7/dist-packages (from tensorflow==2.7.0->-r requirements.txt (line 7)) (0.4.0)\n",
            "Requirement already satisfied: wheel<1.0,>=0.32.0 in /usr/local/lib/python3.7/dist-packages (from tensorflow==2.7.0->-r requirements.txt (line 7)) (0.37.0)\n",
            "Requirement already satisfied: flatbuffers<3.0,>=1.12 in /usr/local/lib/python3.7/dist-packages (from tensorflow==2.7.0->-r requirements.txt (line 7)) (2.0)\n",
            "Requirement already satisfied: tensorflow-io-gcs-filesystem>=0.21.0 in /usr/local/lib/python3.7/dist-packages (from tensorflow==2.7.0->-r requirements.txt (line 7)) (0.22.0)\n",
            "Requirement already satisfied: opt-einsum>=2.3.2 in /usr/local/lib/python3.7/dist-packages (from tensorflow==2.7.0->-r requirements.txt (line 7)) (3.3.0)\n",
            "Requirement already satisfied: keras-preprocessing>=1.1.1 in /usr/local/lib/python3.7/dist-packages (from tensorflow==2.7.0->-r requirements.txt (line 7)) (1.1.2)\n",
            "Requirement already satisfied: keras<2.8,>=2.7.0rc0 in /usr/local/lib/python3.7/dist-packages (from tensorflow==2.7.0->-r requirements.txt (line 7)) (2.7.0)\n",
            "Requirement already satisfied: libclang>=9.0.1 in /usr/local/lib/python3.7/dist-packages (from tensorflow==2.7.0->-r requirements.txt (line 7)) (12.0.0)\n",
            "Requirement already satisfied: termcolor>=1.1.0 in /usr/local/lib/python3.7/dist-packages (from tensorflow==2.7.0->-r requirements.txt (line 7)) (1.1.0)\n",
            "Requirement already satisfied: astunparse>=1.6.0 in /usr/local/lib/python3.7/dist-packages (from tensorflow==2.7.0->-r requirements.txt (line 7)) (1.6.3)\n",
            "Requirement already satisfied: protobuf>=3.9.2 in /usr/local/lib/python3.7/dist-packages (from tensorflow==2.7.0->-r requirements.txt (line 7)) (3.17.3)\n",
            "Requirement already satisfied: grpcio<2.0,>=1.24.3 in /usr/local/lib/python3.7/dist-packages (from tensorflow==2.7.0->-r requirements.txt (line 7)) (1.42.0)\n",
            "Requirement already satisfied: six>=1.12.0 in /usr/local/lib/python3.7/dist-packages (from tensorflow==2.7.0->-r requirements.txt (line 7)) (1.15.0)\n",
            "Requirement already satisfied: tensorflow-estimator<2.8,~=2.7.0rc0 in /usr/local/lib/python3.7/dist-packages (from tensorflow==2.7.0->-r requirements.txt (line 7)) (2.7.0)\n",
            "Requirement already satisfied: absl-py>=0.4.0 in /usr/local/lib/python3.7/dist-packages (from tensorflow==2.7.0->-r requirements.txt (line 7)) (0.12.0)\n",
            "Requirement already satisfied: typing-extensions>=3.6.6 in /usr/local/lib/python3.7/dist-packages (from tensorflow==2.7.0->-r requirements.txt (line 7)) (3.10.0.2)\n",
            "Requirement already satisfied: h5py>=2.9.0 in /usr/local/lib/python3.7/dist-packages (from tensorflow==2.7.0->-r requirements.txt (line 7)) (3.1.0)\n",
            "Requirement already satisfied: wrapt>=1.11.0 in /usr/local/lib/python3.7/dist-packages (from tensorflow==2.7.0->-r requirements.txt (line 7)) (1.13.3)\n",
            "Requirement already satisfied: certifi>=2017.4.17 in /usr/local/lib/python3.7/dist-packages (from requests>=2.23.0->-r requirements.txt (line 21)) (2021.10.8)\n",
            "Requirement already satisfied: urllib3!=1.25.0,!=1.25.1,<1.26,>=1.21.1 in /usr/local/lib/python3.7/dist-packages (from requests>=2.23.0->-r requirements.txt (line 21)) (1.24.3)\n",
            "Requirement already satisfied: chardet<4,>=3.0.2 in /usr/local/lib/python3.7/dist-packages (from requests>=2.23.0->-r requirements.txt (line 21)) (3.0.4)\n",
            "Requirement already satisfied: idna<3,>=2.5 in /usr/local/lib/python3.7/dist-packages (from requests>=2.23.0->-r requirements.txt (line 21)) (2.10)\n",
            "Requirement already satisfied: markdown>=2.6.8 in /usr/local/lib/python3.7/dist-packages (from tensorboard>=2.4.1->-r requirements.txt (line 28)) (3.3.6)\n",
            "Requirement already satisfied: google-auth-oauthlib<0.5,>=0.4.1 in /usr/local/lib/python3.7/dist-packages (from tensorboard>=2.4.1->-r requirements.txt (line 28)) (0.4.6)\n",
            "Requirement already satisfied: google-auth<3,>=1.6.3 in /usr/local/lib/python3.7/dist-packages (from tensorboard>=2.4.1->-r requirements.txt (line 28)) (1.35.0)\n",
            "Requirement already satisfied: tensorboard-data-server<0.7.0,>=0.6.0 in /usr/local/lib/python3.7/dist-packages (from tensorboard>=2.4.1->-r requirements.txt (line 28)) (0.6.1)\n",
            "Requirement already satisfied: werkzeug>=0.11.15 in /usr/local/lib/python3.7/dist-packages (from tensorboard>=2.4.1->-r requirements.txt (line 28)) (1.0.1)\n",
            "Requirement already satisfied: setuptools>=41.0.0 in /usr/local/lib/python3.7/dist-packages (from tensorboard>=2.4.1->-r requirements.txt (line 28)) (57.4.0)\n",
            "Requirement already satisfied: tensorboard-plugin-wit>=1.6.0 in /usr/local/lib/python3.7/dist-packages (from tensorboard>=2.4.1->-r requirements.txt (line 28)) (1.8.0)\n",
            "Requirement already satisfied: pyasn1-modules>=0.2.1 in /usr/local/lib/python3.7/dist-packages (from google-auth<3,>=1.6.3->tensorboard>=2.4.1->-r requirements.txt (line 28)) (0.2.8)\n",
            "Requirement already satisfied: rsa<5,>=3.1.4 in /usr/local/lib/python3.7/dist-packages (from google-auth<3,>=1.6.3->tensorboard>=2.4.1->-r requirements.txt (line 28)) (4.8)\n",
            "Requirement already satisfied: cachetools<5.0,>=2.0.0 in /usr/local/lib/python3.7/dist-packages (from google-auth<3,>=1.6.3->tensorboard>=2.4.1->-r requirements.txt (line 28)) (4.2.4)\n",
            "Requirement already satisfied: requests-oauthlib>=0.7.0 in /usr/local/lib/python3.7/dist-packages (from google-auth-oauthlib<0.5,>=0.4.1->tensorboard>=2.4.1->-r requirements.txt (line 28)) (1.3.0)\n",
            "Requirement already satisfied: cached-property in /usr/local/lib/python3.7/dist-packages (from h5py>=2.9.0->tensorflow==2.7.0->-r requirements.txt (line 7)) (1.5.2)\n",
            "Requirement already satisfied: importlib-metadata>=4.4 in /usr/local/lib/python3.7/dist-packages (from markdown>=2.6.8->tensorboard>=2.4.1->-r requirements.txt (line 28)) (4.8.2)\n",
            "Requirement already satisfied: zipp>=0.5 in /usr/local/lib/python3.7/dist-packages (from importlib-metadata>=4.4->markdown>=2.6.8->tensorboard>=2.4.1->-r requirements.txt (line 28)) (3.6.0)\n",
            "Requirement already satisfied: pyasn1<0.5.0,>=0.4.6 in /usr/local/lib/python3.7/dist-packages (from pyasn1-modules>=0.2.1->google-auth<3,>=1.6.3->tensorboard>=2.4.1->-r requirements.txt (line 28)) (0.4.8)\n",
            "Requirement already satisfied: oauthlib>=3.0.0 in /usr/local/lib/python3.7/dist-packages (from requests-oauthlib>=0.7.0->google-auth-oauthlib<0.5,>=0.4.1->tensorboard>=2.4.1->-r requirements.txt (line 28)) (3.1.1)\n"
          ]
        }
      ]
    },
    {
      "cell_type": "code",
      "metadata": {
        "colab": {
          "base_uri": "https://localhost:8080/"
        },
        "id": "jtpxvX9Ziwfr",
        "outputId": "e07385c9-ef06-44d3-e1d5-77828132ef84"
      },
      "source": [
        "!python setup.py"
      ],
      "execution_count": 55,
      "outputs": [
        {
          "output_type": "stream",
          "name": "stdout",
          "text": [
            "100% 340/340 [00:02<00:00, 125.68it/s]\n",
            "Missing: 0\n",
            "\n",
            "yaml:\n",
            "names:\n",
            "- table\n",
            "nc: 1\n",
            "path: /content/drive/MyDrive/Table-Detection\n",
            "train: /content/drive/MyDrive/Table-Detection/yolo_cache/train.txt\n",
            "val: /content/drive/MyDrive/Table-Detection/yolo_cache/val.txt\n",
            "\n"
          ]
        }
      ]
    },
    {
      "cell_type": "code",
      "metadata": {
        "id": "3V39D2k5jIU2",
        "colab": {
          "base_uri": "https://localhost:8080/"
        },
        "outputId": "0410950a-1272-4acb-ae42-eacfe67163f4"
      },
      "source": [
        "!python train.py --img 512 --batch 16 --epochs 30 --data yolo.yaml --weights yolov5l.pt"
      ],
      "execution_count": 56,
      "outputs": [
        {
          "output_type": "stream",
          "name": "stdout",
          "text": [
            "\u001b[34m\u001b[1mtrain: \u001b[0mweights=yolov5l.pt, cfg=, data=yolo.yaml, hyp=data/hyps/hyp.scratch.yaml, epochs=30, batch_size=16, imgsz=512, rect=False, resume=False, nosave=False, noval=False, noautoanchor=False, evolve=None, bucket=, cache=None, image_weights=False, device=, multi_scale=False, single_cls=False, adam=False, sync_bn=False, workers=8, project=runs/train, name=exp, exist_ok=False, quad=False, linear_lr=False, label_smoothing=0.0, patience=100, freeze=0, save_period=-1, local_rank=-1, entity=None, upload_dataset=False, bbox_interval=-1, artifact_alias=latest\n",
            "fatal: ambiguous argument 'main..origin/master': unknown revision or path not in the working tree.\n",
            "Use '--' to separate paths from revisions, like this:\n",
            "'git <command> [<revision>...] -- [<file>...]'\n",
            "\u001b[34m\u001b[1mgithub: \u001b[0mCommand 'git rev-list main..origin/master --count' returned non-zero exit status 128.\n",
            "YOLOv5 🚀 2021-12-3 torch 1.10.0+cu111 CUDA:0 (Tesla K80, 11441MiB)\n",
            "\n",
            "\u001b[34m\u001b[1mhyperparameters: \u001b[0mlr0=0.01, lrf=0.1, momentum=0.937, weight_decay=0.0005, warmup_epochs=3.0, warmup_momentum=0.8, warmup_bias_lr=0.1, box=0.05, cls=0.5, cls_pw=1.0, obj=1.0, obj_pw=1.0, iou_t=0.2, anchor_t=4.0, fl_gamma=0.0, hsv_h=0.015, hsv_s=0.7, hsv_v=0.4, degrees=0.0, translate=0.1, scale=0.5, shear=0.0, perspective=0.0, flipud=0.0, fliplr=0.5, mosaic=1.0, mixup=0.0, copy_paste=0.0\n",
            "\u001b[34m\u001b[1mWeights & Biases: \u001b[0mrun 'pip install wandb' to automatically track and visualize YOLOv5 🚀 runs (RECOMMENDED)\n",
            "\u001b[34m\u001b[1mTensorBoard: \u001b[0mStart with 'tensorboard --logdir runs/train', view at http://localhost:6006/\n",
            "Downloading https://github.com/ultralytics/yolov5/releases/download/v6.0/yolov5l.pt to yolov5l.pt...\n",
            "100% 89.2M/89.2M [00:02<00:00, 40.8MB/s]\n",
            "\n",
            "Overriding model.yaml nc=80 with nc=1\n",
            "\n",
            "                 from  n    params  module                                  arguments                     \n",
            "  0                -1  1      7040  models.common.Conv                      [3, 64, 6, 2, 2]              \n",
            "  1                -1  1     73984  models.common.Conv                      [64, 128, 3, 2]               \n",
            "  2                -1  3    156928  models.common.C3                        [128, 128, 3]                 \n",
            "  3                -1  1    295424  models.common.Conv                      [128, 256, 3, 2]              \n",
            "  4                -1  6   1118208  models.common.C3                        [256, 256, 6]                 \n",
            "  5                -1  1   1180672  models.common.Conv                      [256, 512, 3, 2]              \n",
            "  6                -1  9   6433792  models.common.C3                        [512, 512, 9]                 \n",
            "  7                -1  1   4720640  models.common.Conv                      [512, 1024, 3, 2]             \n",
            "  8                -1  3   9971712  models.common.C3                        [1024, 1024, 3]               \n",
            "  9                -1  1   2624512  models.common.SPPF                      [1024, 1024, 5]               \n",
            " 10                -1  1    525312  models.common.Conv                      [1024, 512, 1, 1]             \n",
            " 11                -1  1         0  torch.nn.modules.upsampling.Upsample    [None, 2, 'nearest']          \n",
            " 12           [-1, 6]  1         0  models.common.Concat                    [1]                           \n",
            " 13                -1  3   2757632  models.common.C3                        [1024, 512, 3, False]         \n",
            " 14                -1  1    131584  models.common.Conv                      [512, 256, 1, 1]              \n",
            " 15                -1  1         0  torch.nn.modules.upsampling.Upsample    [None, 2, 'nearest']          \n",
            " 16           [-1, 4]  1         0  models.common.Concat                    [1]                           \n",
            " 17                -1  3    690688  models.common.C3                        [512, 256, 3, False]          \n",
            " 18                -1  1    590336  models.common.Conv                      [256, 256, 3, 2]              \n",
            " 19          [-1, 14]  1         0  models.common.Concat                    [1]                           \n",
            " 20                -1  3   2495488  models.common.C3                        [512, 512, 3, False]          \n",
            " 21                -1  1   2360320  models.common.Conv                      [512, 512, 3, 2]              \n",
            " 22          [-1, 10]  1         0  models.common.Concat                    [1]                           \n",
            " 23                -1  3   9971712  models.common.C3                        [1024, 1024, 3, False]        \n",
            " 24      [17, 20, 23]  1     32310  models.yolo.Detect                      [1, [[10, 13, 16, 30, 33, 23], [30, 61, 62, 45, 59, 119], [116, 90, 156, 198, 373, 326]], [256, 512, 1024]]\n",
            "Model Summary: 468 layers, 46138294 parameters, 46138294 gradients, 107.9 GFLOPs\n",
            "\n",
            "Transferred 607/613 items from yolov5l.pt\n",
            "Scaled weight_decay = 0.0005\n",
            "\u001b[34m\u001b[1moptimizer:\u001b[0m SGD with parameter groups 101 weight, 104 weight (no decay), 104 bias\n",
            "\u001b[34m\u001b[1malbumentations: \u001b[0mversion 1.0.3 required by YOLOv5, but version 0.1.12 is currently installed\n",
            "\u001b[34m\u001b[1mtrain: \u001b[0mScanning '/content/drive/MyDrive/Table-Detection/yolo_cache/train' images and labels...300 found, 0 missing, 0 empty, 0 corrupted: 100% 300/300 [00:01<00:00, 205.48it/s]\n",
            "\u001b[34m\u001b[1mtrain: \u001b[0mWARNING: /content/drive/MyDrive/Table-Detection/yolo_cache/images/00113.PNG: corrupt JPEG restored and saved\n",
            "\u001b[34m\u001b[1mtrain: \u001b[0mNew cache created: /content/drive/MyDrive/Table-Detection/yolo_cache/train.cache\n",
            "\u001b[34m\u001b[1mval: \u001b[0mScanning '/content/drive/MyDrive/Table-Detection/yolo_cache/val' images and labels...40 found, 0 missing, 0 empty, 0 corrupted: 100% 40/40 [00:00<00:00, 113.31it/s]\n",
            "\u001b[34m\u001b[1mval: \u001b[0mNew cache created: /content/drive/MyDrive/Table-Detection/yolo_cache/val.cache\n",
            "Plotting labels to runs/train/exp/labels.jpg... \n",
            "libpng warning: iCCP: known incorrect sRGB profile\n",
            "\n",
            "\u001b[34m\u001b[1mAutoAnchor: \u001b[0m3.05 anchors/target, 0.995 Best Possible Recall (BPR). Current anchors are a good fit to dataset ✅\n",
            "Image sizes 512 train, 512 val\n",
            "Using 2 dataloader workers\n",
            "Logging results to \u001b[1mruns/train/exp\u001b[0m\n",
            "Starting training for 30 epochs...\n",
            "\n",
            "     Epoch   gpu_mem       box       obj       cls    labels  img_size\n",
            "      0/29     5.93G    0.1116    0.0265         0        51       512:  68% 13/19 [00:47<00:20,  3.39s/it]libpng warning: iCCP: known incorrect sRGB profile\n",
            "      0/29     5.93G    0.1073   0.02694         0        34       512: 100% 19/19 [01:07<00:00,  3.54s/it]\n",
            "               Class     Images     Labels          P          R     mAP@.5 mAP@.5:.95: 100% 2/2 [00:02<00:00,  1.48s/it]\n",
            "                 all         40         68     0.0175     0.0882     0.0074    0.00151\n",
            "\n",
            "     Epoch   gpu_mem       box       obj       cls    labels  img_size\n",
            "      1/29     6.54G   0.09903   0.02819         0        52       512:   5% 1/19 [00:03<01:01,  3.40s/it]libpng warning: iCCP: known incorrect sRGB profile\n",
            "      1/29     6.54G   0.09621   0.02601         0        49       512:  32% 6/19 [00:20<00:44,  3.40s/it]libpng warning: iCCP: known incorrect sRGB profile\n",
            "libpng warning: iCCP: known incorrect sRGB profile\n",
            "      1/29     6.54G   0.09407   0.02735         0        58       512:  47% 9/19 [00:30<00:33,  3.38s/it]libpng warning: iCCP: known incorrect sRGB profile\n",
            "      1/29     6.54G   0.09072   0.02968         0        45       512: 100% 19/19 [01:03<00:00,  3.34s/it]\n",
            "               Class     Images     Labels          P          R     mAP@.5 mAP@.5:.95: 100% 2/2 [00:02<00:00,  1.38s/it]\n",
            "                 all         40         68     0.0786      0.176     0.0249    0.00531\n",
            "\n",
            "     Epoch   gpu_mem       box       obj       cls    labels  img_size\n",
            "      2/29     6.54G   0.08703   0.02758         0        49       512:  47% 9/19 [00:30<00:33,  3.37s/it]libpng warning: iCCP: known incorrect sRGB profile\n",
            "      2/29     6.54G   0.08327   0.02942         0        39       512: 100% 19/19 [01:03<00:00,  3.34s/it]\n",
            "               Class     Images     Labels          P          R     mAP@.5 mAP@.5:.95: 100% 2/2 [00:02<00:00,  1.33s/it]\n",
            "                 all         40         68      0.117      0.118     0.0332    0.00683\n",
            "\n",
            "     Epoch   gpu_mem       box       obj       cls    labels  img_size\n",
            "      3/29     6.54G   0.08308   0.03026         0        54       512:  26% 5/19 [00:17<00:48,  3.45s/it]libpng warning: iCCP: known incorrect sRGB profile\n",
            "      3/29     6.54G   0.08296   0.03082         0        60       512:  32% 6/19 [00:20<00:44,  3.42s/it]libpng warning: iCCP: known incorrect sRGB profile\n",
            "      3/29     6.54G   0.07745   0.02969         0        50       512:  95% 18/19 [01:01<00:03,  3.37s/it]libpng warning: iCCP: known incorrect sRGB profile\n",
            "      3/29     6.54G   0.07698   0.02987         0        37       512: 100% 19/19 [01:03<00:00,  3.35s/it]\n",
            "               Class     Images     Labels          P          R     mAP@.5 mAP@.5:.95: 100% 2/2 [00:02<00:00,  1.30s/it]\n",
            "                 all         40         68     0.0449      0.162     0.0235    0.00447\n",
            "\n",
            "     Epoch   gpu_mem       box       obj       cls    labels  img_size\n",
            "      4/29     6.54G   0.07236      0.03         0        53       512:  58% 11/19 [00:37<00:26,  3.37s/it]libpng warning: iCCP: known incorrect sRGB profile\n",
            "      4/29     6.54G   0.07242   0.02948         0        31       512: 100% 19/19 [01:03<00:00,  3.34s/it]\n",
            "               Class     Images     Labels          P          R     mAP@.5 mAP@.5:.95: 100% 2/2 [00:02<00:00,  1.26s/it]\n",
            "                 all         40         68     0.0633      0.221     0.0541     0.0183\n",
            "\n",
            "     Epoch   gpu_mem       box       obj       cls    labels  img_size\n",
            "      5/29     6.54G   0.06817   0.03392         0        56       512:   5% 1/19 [00:03<01:00,  3.36s/it]libpng warning: iCCP: known incorrect sRGB profile\n",
            "      5/29     6.54G     0.066   0.03085         0        45       512:  21% 4/19 [00:13<00:51,  3.45s/it]libpng warning: iCCP: known incorrect sRGB profile\n",
            "      5/29     6.54G   0.06577   0.03193         0        61       512:  32% 6/19 [00:20<00:44,  3.42s/it]libpng warning: iCCP: known incorrect sRGB profile\n",
            "      5/29     6.54G   0.06598   0.03241         0        54       512:  42% 8/19 [00:27<00:37,  3.39s/it]libpng warning: iCCP: known incorrect sRGB profile\n",
            "      5/29     6.54G   0.06721   0.03164         0        66       512:  84% 16/19 [00:54<00:10,  3.36s/it]libpng warning: iCCP: known incorrect sRGB profile\n",
            "      5/29     6.54G   0.06721   0.03166         0        41       512: 100% 19/19 [01:03<00:00,  3.34s/it]\n",
            "               Class     Images     Labels          P          R     mAP@.5 mAP@.5:.95: 100% 2/2 [00:02<00:00,  1.28s/it]\n",
            "                 all         40         68       0.16      0.322      0.117      0.043\n",
            "\n",
            "     Epoch   gpu_mem       box       obj       cls    labels  img_size\n",
            "  0% 0/19 [00:00<?, ?it/s]libpng warning: iCCP: known incorrect sRGB profile\n",
            "      6/29     6.54G   0.06619   0.03078         0        59       512:  16% 3/19 [00:10<00:55,  3.44s/it]libpng warning: iCCP: known incorrect sRGB profile\n",
            "      6/29     6.54G   0.06612   0.03031         0        48       512:  26% 5/19 [00:17<00:47,  3.41s/it]libpng warning: iCCP: known incorrect sRGB profile\n",
            "      6/29     6.54G   0.06375   0.02902         0        47       512:  63% 12/19 [00:40<00:23,  3.36s/it]libpng warning: iCCP: known incorrect sRGB profile\n",
            "      6/29     6.54G   0.06138   0.02893         0        30       512: 100% 19/19 [01:03<00:00,  3.34s/it]\n",
            "               Class     Images     Labels          P          R     mAP@.5 mAP@.5:.95: 100% 2/2 [00:02<00:00,  1.24s/it]\n",
            "                 all         40         68      0.312      0.235      0.175     0.0597\n",
            "\n",
            "     Epoch   gpu_mem       box       obj       cls    labels  img_size\n",
            "      7/29     6.54G   0.06082   0.02985         0        50       512:  32% 6/19 [00:20<00:44,  3.39s/it]libpng warning: iCCP: known incorrect sRGB profile\n",
            "      7/29     6.54G   0.05841   0.02844         0        41       512:  63% 12/19 [00:40<00:23,  3.37s/it]libpng warning: iCCP: known incorrect sRGB profile\n",
            "      7/29     6.54G   0.05792   0.02836         0        45       512:  68% 13/19 [00:43<00:20,  3.36s/it]libpng warning: iCCP: known incorrect sRGB profile\n",
            "      7/29     6.54G   0.05739   0.02881         0        42       512:  95% 18/19 [01:00<00:03,  3.36s/it]libpng warning: iCCP: known incorrect sRGB profile\n",
            "      7/29     6.54G   0.05719   0.02854         0        31       512: 100% 19/19 [01:03<00:00,  3.33s/it]\n",
            "               Class     Images     Labels          P          R     mAP@.5 mAP@.5:.95: 100% 2/2 [00:02<00:00,  1.26s/it]\n",
            "                 all         40         68      0.295      0.364      0.259     0.0826\n",
            "\n",
            "     Epoch   gpu_mem       box       obj       cls    labels  img_size\n",
            "  0% 0/19 [00:00<?, ?it/s]libpng warning: iCCP: known incorrect sRGB profile\n",
            "      8/29     6.54G   0.05915   0.02402         0        47       512:  11% 2/19 [00:06<00:58,  3.45s/it]libpng warning: iCCP: known incorrect sRGB profile\n",
            "      8/29     6.54G   0.05725   0.02529         0        56       512:  32% 6/19 [00:20<00:44,  3.42s/it]libpng warning: iCCP: known incorrect sRGB profile\n",
            "      8/29     6.54G   0.05481    0.0268         0        49       512:  58% 11/19 [00:37<00:27,  3.39s/it]libpng warning: iCCP: known incorrect sRGB profile\n",
            "      8/29     6.54G   0.05474   0.02686         0        32       512: 100% 19/19 [01:03<00:00,  3.35s/it]\n",
            "               Class     Images     Labels          P          R     mAP@.5 mAP@.5:.95: 100% 2/2 [00:02<00:00,  1.24s/it]\n",
            "                 all         40         68      0.185      0.353      0.144     0.0468\n",
            "\n",
            "     Epoch   gpu_mem       box       obj       cls    labels  img_size\n",
            "      9/29     6.54G   0.05212   0.02616         0        53       512:  53% 10/19 [00:33<00:30,  3.38s/it]libpng warning: iCCP: known incorrect sRGB profile\n",
            "      9/29     6.54G   0.05254   0.02565         0        44       512:  63% 12/19 [00:40<00:23,  3.37s/it]libpng warning: iCCP: known incorrect sRGB profile\n",
            "libpng warning: iCCP: known incorrect sRGB profile\n",
            "      9/29     6.54G   0.05269   0.02605         0        46       512:  95% 18/19 [01:00<00:03,  3.37s/it]libpng warning: iCCP: known incorrect sRGB profile\n",
            "      9/29     6.54G   0.05216    0.0258         0        32       512: 100% 19/19 [01:03<00:00,  3.32s/it]\n",
            "               Class     Images     Labels          P          R     mAP@.5 mAP@.5:.95: 100% 2/2 [00:02<00:00,  1.23s/it]\n",
            "                 all         40         68      0.362      0.294      0.238     0.0793\n",
            "\n",
            "     Epoch   gpu_mem       box       obj       cls    labels  img_size\n",
            "  0% 0/19 [00:00<?, ?it/s]libpng warning: iCCP: known incorrect sRGB profile\n",
            "     10/29     6.54G   0.05228   0.02726         0        55       512:  11% 2/19 [00:06<00:57,  3.39s/it]libpng warning: iCCP: known incorrect sRGB profile\n",
            "     10/29     6.54G   0.05109   0.02584         0        50       512:  21% 4/19 [00:13<00:50,  3.40s/it]libpng warning: iCCP: known incorrect sRGB profile\n",
            "     10/29     6.54G   0.05234   0.02563         0        44       512:  26% 5/19 [00:17<00:47,  3.39s/it]libpng warning: iCCP: known incorrect sRGB profile\n",
            "     10/29     6.54G   0.05203   0.02716         0        71       512:  58% 11/19 [00:37<00:26,  3.37s/it]libpng warning: iCCP: known incorrect sRGB profile\n",
            "     10/29     6.54G   0.05174   0.02667         0        44       512:  68% 13/19 [00:43<00:20,  3.36s/it]libpng warning: iCCP: known incorrect sRGB profile\n",
            "     10/29     6.54G   0.05277   0.02613         0        46       512: 100% 19/19 [01:03<00:00,  3.33s/it]\n",
            "               Class     Images     Labels          P          R     mAP@.5 mAP@.5:.95: 100% 2/2 [00:02<00:00,  1.24s/it]\n",
            "                 all         40         68      0.406      0.353      0.357      0.141\n",
            "\n",
            "     Epoch   gpu_mem       box       obj       cls    labels  img_size\n",
            "     11/29     6.54G   0.05105   0.02435         0        44       512:  21% 4/19 [00:13<00:51,  3.42s/it]libpng warning: iCCP: known incorrect sRGB profile\n",
            "     11/29     6.54G   0.05069   0.02338         0        38       512:  26% 5/19 [00:17<00:47,  3.40s/it]libpng warning: iCCP: known incorrect sRGB profile\n",
            "     11/29     6.54G   0.05122    0.0247         0        52       512:  53% 10/19 [00:33<00:30,  3.37s/it]libpng warning: iCCP: known incorrect sRGB profile\n",
            "     11/29     6.54G   0.05085   0.02493         0        51       512:  68% 13/19 [00:43<00:20,  3.36s/it]libpng warning: iCCP: known incorrect sRGB profile\n",
            "     11/29     6.54G   0.05096   0.02532         0        61       512:  74% 14/19 [00:47<00:16,  3.37s/it]libpng warning: iCCP: known incorrect sRGB profile\n",
            "     11/29     6.54G   0.05073   0.02522         0        29       512: 100% 19/19 [01:03<00:00,  3.32s/it]\n",
            "               Class     Images     Labels          P          R     mAP@.5 mAP@.5:.95: 100% 2/2 [00:02<00:00,  1.25s/it]\n",
            "                 all         40         68      0.433      0.485      0.418        0.2\n",
            "\n",
            "     Epoch   gpu_mem       box       obj       cls    labels  img_size\n",
            "     12/29     6.54G   0.04637   0.02192         0        38       512:   5% 1/19 [00:03<01:03,  3.50s/it]libpng warning: iCCP: known incorrect sRGB profile\n",
            "     12/29     6.54G   0.04449   0.02163         0        37       512:  32% 6/19 [00:20<00:43,  3.38s/it]libpng warning: iCCP: known incorrect sRGB profile\n",
            "     12/29     6.54G   0.04545    0.0223         0        45       512:  53% 10/19 [00:33<00:30,  3.35s/it]libpng warning: iCCP: known incorrect sRGB profile\n",
            "     12/29     6.54G   0.04718   0.02304         0        43       512: 100% 19/19 [01:03<00:00,  3.33s/it]\n",
            "               Class     Images     Labels          P          R     mAP@.5 mAP@.5:.95: 100% 2/2 [00:02<00:00,  1.24s/it]\n",
            "                 all         40         68      0.603      0.471      0.478      0.255\n",
            "\n",
            "     Epoch   gpu_mem       box       obj       cls    labels  img_size\n",
            "  0% 0/19 [00:00<?, ?it/s]libpng warning: iCCP: known incorrect sRGB profile\n",
            "     13/29     6.54G   0.04337   0.02253         0        51       512:  16% 3/19 [00:10<00:54,  3.40s/it]libpng warning: iCCP: known incorrect sRGB profile\n",
            "     13/29     6.54G    0.0457   0.02294         0        55       512:  58% 11/19 [00:37<00:26,  3.35s/it]libpng warning: iCCP: known incorrect sRGB profile\n",
            "     13/29     6.54G   0.04553   0.02291         0        56       512:  68% 13/19 [00:43<00:20,  3.36s/it]libpng warning: iCCP: known incorrect sRGB profile\n",
            "     13/29     6.54G   0.04545   0.02336         0        63       512:  79% 15/19 [00:50<00:13,  3.36s/it]libpng warning: iCCP: known incorrect sRGB profile\n",
            "     13/29     6.54G   0.04523   0.02393         0        28       512: 100% 19/19 [01:03<00:00,  3.33s/it]\n",
            "               Class     Images     Labels          P          R     mAP@.5 mAP@.5:.95: 100% 2/2 [00:02<00:00,  1.22s/it]\n",
            "                 all         40         68      0.499      0.515       0.48      0.232\n",
            "\n",
            "     Epoch   gpu_mem       box       obj       cls    labels  img_size\n",
            "     14/29     6.54G   0.04259   0.02396         0        50       512:  21% 4/19 [00:13<00:50,  3.38s/it]libpng warning: iCCP: known incorrect sRGB profile\n",
            "     14/29     6.54G   0.04537   0.02349         0        52       512:  47% 9/19 [00:30<00:33,  3.38s/it]libpng warning: iCCP: known incorrect sRGB profile\n",
            "     14/29     6.54G   0.04599   0.02314         0        47       512:  58% 11/19 [00:37<00:26,  3.36s/it]libpng warning: iCCP: known incorrect sRGB profile\n",
            "libpng warning: iCCP: known incorrect sRGB profile\n",
            "     14/29     6.54G   0.04493   0.02331         0        33       512: 100% 19/19 [01:03<00:00,  3.32s/it]\n",
            "               Class     Images     Labels          P          R     mAP@.5 mAP@.5:.95: 100% 2/2 [00:02<00:00,  1.22s/it]\n",
            "                 all         40         68      0.641        0.5       0.58      0.332\n",
            "\n",
            "     Epoch   gpu_mem       box       obj       cls    labels  img_size\n",
            "     15/29     6.54G   0.03454    0.0222         0        47       512:   5% 1/19 [00:03<01:01,  3.42s/it]libpng warning: iCCP: known incorrect sRGB profile\n",
            "     15/29     6.54G   0.04351   0.02279         0        45       512:  21% 4/19 [00:13<00:50,  3.40s/it]libpng warning: iCCP: known incorrect sRGB profile\n",
            "     15/29     6.54G   0.04495   0.02286         0        39       512:  37% 7/19 [00:23<00:40,  3.37s/it]libpng warning: iCCP: known incorrect sRGB profile\n",
            "     15/29     6.54G   0.04298   0.02274         0        61       512:  68% 13/19 [00:43<00:20,  3.35s/it]libpng warning: iCCP: known incorrect sRGB profile\n",
            "     15/29     6.54G   0.04353   0.02226         0        32       512: 100% 19/19 [01:03<00:00,  3.33s/it]\n",
            "               Class     Images     Labels          P          R     mAP@.5 mAP@.5:.95: 100% 2/2 [00:02<00:00,  1.23s/it]\n",
            "                 all         40         68      0.434      0.529      0.446      0.236\n",
            "\n",
            "     Epoch   gpu_mem       box       obj       cls    labels  img_size\n",
            "  0% 0/19 [00:00<?, ?it/s]libpng warning: iCCP: known incorrect sRGB profile\n",
            "     16/29     6.54G   0.04164   0.02068         0        50       512:  32% 6/19 [00:20<00:43,  3.37s/it]libpng warning: iCCP: known incorrect sRGB profile\n",
            "     16/29     6.54G   0.04057   0.02179         0        51       512:  42% 8/19 [00:27<00:36,  3.36s/it]libpng warning: iCCP: known incorrect sRGB profile\n",
            "     16/29     6.54G   0.04036   0.02134         0        37       512:  53% 10/19 [00:33<00:30,  3.37s/it]libpng warning: iCCP: known incorrect sRGB profile\n",
            "     16/29     6.54G   0.04107    0.0213         0        42       512:  63% 12/19 [00:40<00:23,  3.36s/it]libpng warning: iCCP: known incorrect sRGB profile\n",
            "     16/29     6.54G   0.04096   0.02234         0        44       512:  89% 17/19 [00:57<00:06,  3.37s/it]libpng warning: iCCP: known incorrect sRGB profile\n",
            "     16/29     6.54G   0.04119   0.02254         0        53       512:  95% 18/19 [01:00<00:03,  3.36s/it]libpng warning: iCCP: known incorrect sRGB profile\n",
            "     16/29     6.54G   0.04108   0.02252         0        40       512: 100% 19/19 [01:03<00:00,  3.33s/it]\n",
            "               Class     Images     Labels          P          R     mAP@.5 mAP@.5:.95: 100% 2/2 [00:02<00:00,  1.21s/it]\n",
            "                 all         40         68      0.515      0.691      0.617      0.304\n",
            "\n",
            "     Epoch   gpu_mem       box       obj       cls    labels  img_size\n",
            "     17/29     6.54G   0.04121   0.02232         0        48       512:  26% 5/19 [00:16<00:47,  3.37s/it]libpng warning: iCCP: known incorrect sRGB profile\n",
            "libpng warning: iCCP: known incorrect sRGB profile\n",
            "     17/29     6.54G   0.03969   0.02189         0        57       512:  58% 11/19 [00:37<00:26,  3.36s/it]libpng warning: iCCP: known incorrect sRGB profile\n",
            "libpng warning: iCCP: known incorrect sRGB profile\n",
            "     17/29     6.54G   0.03938   0.02224         0        36       512:  89% 17/19 [00:57<00:06,  3.35s/it]libpng warning: iCCP: known incorrect sRGB profile\n",
            "     17/29     6.54G   0.03948   0.02225         0        45       512: 100% 19/19 [01:03<00:00,  3.32s/it]\n",
            "               Class     Images     Labels          P          R     mAP@.5 mAP@.5:.95: 100% 2/2 [00:02<00:00,  1.23s/it]\n",
            "                 all         40         68      0.412      0.559      0.444      0.181\n",
            "\n",
            "     Epoch   gpu_mem       box       obj       cls    labels  img_size\n",
            "     18/29     6.54G   0.03876    0.0211         0        46       512:  26% 5/19 [00:16<00:47,  3.39s/it]libpng warning: iCCP: known incorrect sRGB profile\n",
            "     18/29     6.54G    0.0372   0.02063         0        49       512:  47% 9/19 [00:30<00:33,  3.37s/it]libpng warning: iCCP: known incorrect sRGB profile\n",
            "     18/29     6.54G    0.0376   0.02082         0        53       512:  53% 10/19 [00:33<00:30,  3.36s/it]libpng warning: iCCP: known incorrect sRGB profile\n",
            "     18/29     6.54G   0.03795   0.01998         0        32       512: 100% 19/19 [01:03<00:00,  3.32s/it]\n",
            "               Class     Images     Labels          P          R     mAP@.5 mAP@.5:.95: 100% 2/2 [00:02<00:00,  1.21s/it]\n",
            "                 all         40         68      0.572      0.574       0.63      0.351\n",
            "\n",
            "     Epoch   gpu_mem       box       obj       cls    labels  img_size\n",
            "     19/29     6.54G   0.04529   0.02134         0        44       512:  11% 2/19 [00:06<00:58,  3.46s/it]libpng warning: iCCP: known incorrect sRGB profile\n",
            "     19/29     6.54G   0.03715   0.02145         0        49       512:  63% 12/19 [00:40<00:23,  3.35s/it]libpng warning: iCCP: known incorrect sRGB profile\n",
            "     19/29     6.54G   0.03737   0.02116         0        41       512:  68% 13/19 [00:43<00:20,  3.35s/it]libpng warning: iCCP: known incorrect sRGB profile\n",
            "libpng warning: iCCP: known incorrect sRGB profile\n",
            "     19/29     6.54G   0.03735   0.02156         0        67       512:  84% 16/19 [00:53<00:10,  3.36s/it]libpng warning: iCCP: known incorrect sRGB profile\n",
            "     19/29     6.54G   0.03765   0.02096         0        35       512: 100% 19/19 [01:03<00:00,  3.32s/it]\n",
            "               Class     Images     Labels          P          R     mAP@.5 mAP@.5:.95: 100% 2/2 [00:02<00:00,  1.21s/it]\n",
            "                 all         40         68      0.619      0.647      0.625      0.339\n",
            "\n",
            "     Epoch   gpu_mem       box       obj       cls    labels  img_size\n",
            "  0% 0/19 [00:00<?, ?it/s]libpng warning: iCCP: known incorrect sRGB profile\n",
            "     20/29     6.54G   0.04112   0.01985         0        42       512:  16% 3/19 [00:10<00:54,  3.40s/it]libpng warning: iCCP: known incorrect sRGB profile\n",
            "     20/29     6.54G   0.03849   0.02082         0        51       512:  26% 5/19 [00:16<00:47,  3.37s/it]libpng warning: iCCP: known incorrect sRGB profile\n",
            "     20/29     6.54G   0.03709   0.01978         0        48       512:  53% 10/19 [00:33<00:30,  3.35s/it]libpng warning: iCCP: known incorrect sRGB profile\n",
            "libpng warning: iCCP: known incorrect sRGB profile\n",
            "     20/29     6.54G   0.03743   0.01963         0        55       512:  63% 12/19 [00:40<00:23,  3.35s/it]libpng warning: iCCP: known incorrect sRGB profile\n",
            "     20/29     6.54G   0.03651    0.0197         0        52       512:  84% 16/19 [00:53<00:10,  3.35s/it]libpng warning: iCCP: known incorrect sRGB profile\n",
            "     20/29     6.54G    0.0361   0.01913         0        28       512: 100% 19/19 [01:03<00:00,  3.32s/it]\n",
            "               Class     Images     Labels          P          R     mAP@.5 mAP@.5:.95: 100% 2/2 [00:02<00:00,  1.22s/it]\n",
            "                 all         40         68      0.627      0.618      0.648      0.392\n",
            "\n",
            "     Epoch   gpu_mem       box       obj       cls    labels  img_size\n",
            "     21/29     6.54G    0.0352   0.02017         0        45       512:  47% 9/19 [00:30<00:33,  3.40s/it]libpng warning: iCCP: known incorrect sRGB profile\n",
            "     21/29     6.54G   0.03557   0.02032         0        47       512:  63% 12/19 [00:40<00:23,  3.38s/it]libpng warning: iCCP: known incorrect sRGB profile\n",
            "     21/29     6.54G   0.03516   0.02031         0        52       512:  95% 18/19 [01:00<00:03,  3.36s/it]libpng warning: iCCP: known incorrect sRGB profile\n",
            "     21/29     6.54G   0.03501   0.02052         0        40       512: 100% 19/19 [01:03<00:00,  3.34s/it]\n",
            "               Class     Images     Labels          P          R     mAP@.5 mAP@.5:.95: 100% 2/2 [00:02<00:00,  1.20s/it]\n",
            "                 all         40         68      0.706      0.705      0.711      0.461\n",
            "\n",
            "     Epoch   gpu_mem       box       obj       cls    labels  img_size\n",
            "     22/29     6.54G   0.03412   0.02251         0        65       512:  16% 3/19 [00:10<00:55,  3.50s/it]libpng warning: iCCP: known incorrect sRGB profile\n",
            "     22/29     6.54G   0.03256   0.02133         0        55       512:  42% 8/19 [00:27<00:37,  3.38s/it]libpng warning: iCCP: known incorrect sRGB profile\n",
            "     22/29     6.54G    0.0334   0.02152         0        43       512:  63% 12/19 [00:40<00:23,  3.36s/it]libpng warning: iCCP: known incorrect sRGB profile\n",
            "     22/29     6.54G   0.03358    0.0218         0        60       512:  68% 13/19 [00:44<00:20,  3.37s/it]libpng warning: iCCP: known incorrect sRGB profile\n",
            "     22/29     6.54G   0.03359   0.02138         0        46       512:  79% 15/19 [00:50<00:13,  3.37s/it]libpng warning: iCCP: known incorrect sRGB profile\n",
            "libpng warning: iCCP: known incorrect sRGB profile\n",
            "     22/29     6.54G   0.03369     0.021         0        50       512:  95% 18/19 [01:00<00:03,  3.35s/it]libpng warning: iCCP: known incorrect sRGB profile\n",
            "     22/29     6.54G   0.03373    0.0208         0        38       512: 100% 19/19 [01:03<00:00,  3.34s/it]\n",
            "               Class     Images     Labels          P          R     mAP@.5 mAP@.5:.95: 100% 2/2 [00:02<00:00,  1.20s/it]\n",
            "                 all         40         68      0.759      0.603      0.679      0.453\n",
            "\n",
            "     Epoch   gpu_mem       box       obj       cls    labels  img_size\n",
            "     23/29     6.54G   0.03116   0.01866         0        42       512:   5% 1/19 [00:03<01:00,  3.36s/it]libpng warning: iCCP: known incorrect sRGB profile\n",
            "     23/29     6.54G   0.03152   0.01884         0        48       512:  11% 2/19 [00:06<00:57,  3.37s/it]libpng warning: iCCP: known incorrect sRGB profile\n",
            "     23/29     6.54G    0.0336   0.01784         0        35       512:  16% 3/19 [00:10<00:53,  3.36s/it]libpng warning: iCCP: known incorrect sRGB profile\n",
            "     23/29     6.54G   0.03272   0.01839         0        49       512:  21% 4/19 [00:13<00:50,  3.37s/it]libpng warning: iCCP: known incorrect sRGB profile\n",
            "libpng warning: iCCP: known incorrect sRGB profile\n",
            "     23/29     6.54G   0.03221   0.02013         0        54       512:  37% 7/19 [00:23<00:40,  3.35s/it]libpng warning: iCCP: known incorrect sRGB profile\n",
            "     23/29     6.54G   0.03261   0.02002         0        45       512:  58% 11/19 [00:36<00:26,  3.35s/it]libpng warning: iCCP: known incorrect sRGB profile\n",
            "libpng warning: iCCP: known incorrect sRGB profile\n",
            "     23/29     6.54G   0.03289   0.02046         0        46       512:  79% 15/19 [00:50<00:13,  3.35s/it]libpng warning: iCCP: known incorrect sRGB profile\n",
            "     23/29     6.54G   0.03328   0.02061         0        51       512: 100% 19/19 [01:03<00:00,  3.32s/it]\n",
            "               Class     Images     Labels          P          R     mAP@.5 mAP@.5:.95: 100% 2/2 [00:02<00:00,  1.21s/it]\n",
            "                 all         40         68      0.759      0.602      0.692      0.439\n",
            "\n",
            "     Epoch   gpu_mem       box       obj       cls    labels  img_size\n",
            "     24/29     6.54G   0.02998   0.01919         0        45       512:  16% 3/19 [00:10<00:54,  3.40s/it]libpng warning: iCCP: known incorrect sRGB profile\n",
            "     24/29     6.54G   0.03007   0.02051         0        47       512:  26% 5/19 [00:16<00:47,  3.39s/it]libpng warning: iCCP: known incorrect sRGB profile\n",
            "     24/29     6.54G   0.03149   0.01964         0        44       512:  84% 16/19 [00:53<00:10,  3.35s/it]libpng warning: iCCP: known incorrect sRGB profile\n",
            "     24/29     6.54G   0.03187   0.01942         0        34       512: 100% 19/19 [01:03<00:00,  3.32s/it]\n",
            "               Class     Images     Labels          P          R     mAP@.5 mAP@.5:.95: 100% 2/2 [00:02<00:00,  1.20s/it]\n",
            "                 all         40         68       0.79      0.559      0.702      0.476\n",
            "\n",
            "     Epoch   gpu_mem       box       obj       cls    labels  img_size\n",
            "     25/29     6.54G   0.03235   0.01915         0        45       512:  21% 4/19 [00:13<00:51,  3.42s/it]libpng warning: iCCP: known incorrect sRGB profile\n",
            "     25/29     6.54G   0.03094   0.01987         0        56       512:  63% 12/19 [00:40<00:23,  3.37s/it]libpng warning: iCCP: known incorrect sRGB profile\n",
            "     25/29     6.54G   0.03073   0.02016         0        44       512:  74% 14/19 [00:47<00:16,  3.36s/it]libpng warning: iCCP: known incorrect sRGB profile\n",
            "     25/29     6.54G   0.03067   0.01993         0        47       512:  84% 16/19 [00:53<00:10,  3.37s/it]libpng warning: iCCP: known incorrect sRGB profile\n",
            "     25/29     6.54G   0.03035   0.01978         0        38       512: 100% 19/19 [01:03<00:00,  3.33s/it]\n",
            "               Class     Images     Labels          P          R     mAP@.5 mAP@.5:.95: 100% 2/2 [00:02<00:00,  1.21s/it]\n",
            "                 all         40         68      0.636      0.721      0.727      0.499\n",
            "\n",
            "     Epoch   gpu_mem       box       obj       cls    labels  img_size\n",
            "     26/29     6.54G   0.02975   0.01887         0        52       512:  26% 5/19 [00:17<00:47,  3.41s/it]libpng warning: iCCP: known incorrect sRGB profile\n",
            "     26/29     6.54G   0.02945   0.01906         0        49       512:  37% 7/19 [00:23<00:40,  3.38s/it]libpng warning: iCCP: known incorrect sRGB profile\n",
            "     26/29     6.54G   0.03207   0.01916         0        52       512:  89% 17/19 [00:57<00:06,  3.35s/it]libpng warning: iCCP: known incorrect sRGB profile\n",
            "     26/29     6.54G   0.03201   0.01921         0        36       512: 100% 19/19 [01:03<00:00,  3.32s/it]\n",
            "               Class     Images     Labels          P          R     mAP@.5 mAP@.5:.95: 100% 2/2 [00:02<00:00,  1.21s/it]\n",
            "                 all         40         68      0.804      0.603       0.74      0.479\n",
            "\n",
            "     Epoch   gpu_mem       box       obj       cls    labels  img_size\n",
            "     27/29     6.54G   0.03342   0.01958         0        42       512:  16% 3/19 [00:10<00:54,  3.38s/it]libpng warning: iCCP: known incorrect sRGB profile\n",
            "     27/29     6.54G   0.03234   0.01832         0        49       512:  32% 6/19 [00:20<00:43,  3.37s/it]libpng warning: iCCP: known incorrect sRGB profile\n",
            "     27/29     6.54G   0.03107    0.0184         0        48       512:  47% 9/19 [00:30<00:33,  3.36s/it]libpng warning: iCCP: known incorrect sRGB profile\n",
            "     27/29     6.54G   0.03111   0.01806         0        47       512:  58% 11/19 [00:36<00:26,  3.34s/it]libpng warning: iCCP: known incorrect sRGB profile\n",
            "     27/29     6.54G   0.03128    0.0184         0        53       512:  89% 17/19 [00:56<00:06,  3.34s/it]libpng warning: iCCP: known incorrect sRGB profile\n",
            "     27/29     6.54G   0.03157   0.01837         0        49       512:  95% 18/19 [01:00<00:03,  3.35s/it]libpng warning: iCCP: known incorrect sRGB profile\n",
            "     27/29     6.54G   0.03137   0.01834         0        31       512: 100% 19/19 [01:02<00:00,  3.31s/it]\n",
            "               Class     Images     Labels          P          R     mAP@.5 mAP@.5:.95: 100% 2/2 [00:02<00:00,  1.21s/it]\n",
            "                 all         40         68      0.732      0.603      0.719      0.468\n",
            "\n",
            "     Epoch   gpu_mem       box       obj       cls    labels  img_size\n",
            "     28/29     6.54G   0.03067   0.01783         0        43       512:  16% 3/19 [00:10<00:54,  3.39s/it]libpng warning: iCCP: known incorrect sRGB profile\n",
            "     28/29     6.54G   0.02923   0.01812         0        47       512:  32% 6/19 [00:20<00:43,  3.35s/it]libpng warning: iCCP: known incorrect sRGB profile\n",
            "     28/29     6.54G   0.03016   0.02021         0        64       512:  74% 14/19 [00:46<00:16,  3.35s/it]libpng warning: iCCP: known incorrect sRGB profile\n",
            "     28/29     6.54G   0.03071   0.02003         0        46       512:  89% 17/19 [00:56<00:06,  3.34s/it]libpng warning: iCCP: known incorrect sRGB profile\n",
            "     28/29     6.54G   0.03083   0.02008         0        54       512:  95% 18/19 [01:00<00:03,  3.33s/it]libpng warning: iCCP: known incorrect sRGB profile\n",
            "     28/29     6.54G   0.03053   0.02022         0        45       512: 100% 19/19 [01:02<00:00,  3.30s/it]\n",
            "               Class     Images     Labels          P          R     mAP@.5 mAP@.5:.95: 100% 2/2 [00:02<00:00,  1.21s/it]\n",
            "                 all         40         68      0.796      0.632      0.753      0.492\n",
            "\n",
            "     Epoch   gpu_mem       box       obj       cls    labels  img_size\n",
            "     29/29     6.54G    0.0276   0.01322         0        37       512:   5% 1/19 [00:03<01:02,  3.45s/it]libpng warning: iCCP: known incorrect sRGB profile\n",
            "     29/29     6.54G   0.02975   0.01827         0        58       512:  53% 10/19 [00:33<00:30,  3.35s/it]libpng warning: iCCP: known incorrect sRGB profile\n",
            "     29/29     6.54G   0.03058   0.01855         0        43       512: 100% 19/19 [01:02<00:00,  3.31s/it]\n",
            "               Class     Images     Labels          P          R     mAP@.5 mAP@.5:.95: 100% 2/2 [00:02<00:00,  1.21s/it]\n",
            "                 all         40         68      0.763      0.617      0.747       0.49\n",
            "\n",
            "30 epochs completed in 0.580 hours.\n",
            "Optimizer stripped from runs/train/exp/weights/last.pt, 92.8MB\n",
            "Optimizer stripped from runs/train/exp/weights/best.pt, 92.8MB\n",
            "\n",
            "Validating runs/train/exp/weights/best.pt...\n",
            "Fusing layers... \n",
            "Model Summary: 367 layers, 46108278 parameters, 0 gradients, 107.8 GFLOPs\n",
            "               Class     Images     Labels          P          R     mAP@.5 mAP@.5:.95: 100% 2/2 [00:03<00:00,  1.94s/it]\n",
            "                 all         40         68      0.644       0.72      0.727      0.486\n",
            "Results saved to \u001b[1mruns/train/exp\u001b[0m\n"
          ]
        }
      ]
    },
    {
      "cell_type": "code",
      "metadata": {
        "colab": {
          "base_uri": "https://localhost:8080/"
        },
        "id": "ifZqYQH3RxAQ",
        "outputId": "ebfcb907-26eb-4a6f-c981-a0016ce852f3"
      },
      "source": [
        "!python detect.py --weight runs/train/exp/weights/best.pt --source dataset/images/00018.PNG  "
      ],
      "execution_count": 72,
      "outputs": [
        {
          "output_type": "stream",
          "name": "stdout",
          "text": [
            "\u001b[34m\u001b[1mdetect: \u001b[0mweights=['runs/train/exp/weights/best.pt'], source=dataset/images/00018.PNG, imgsz=[640, 640], conf_thres=0.25, iou_thres=0.45, max_det=1000, device=, view_img=False, save_txt=False, save_conf=False, save_crop=False, nosave=False, classes=None, agnostic_nms=False, augment=False, visualize=False, update=False, project=runs/detect, name=exp, exist_ok=False, line_thickness=3, hide_labels=False, hide_conf=False, half=False, dnn=False\n",
            "YOLOv5 🚀 2021-12-3 torch 1.10.0+cu111 CUDA:0 (Tesla K80, 11441MiB)\n",
            "\n",
            "Fusing layers... \n",
            "Model Summary: 367 layers, 46108278 parameters, 0 gradients, 107.8 GFLOPs\n",
            "image 1/1 /content/drive/MyDrive/Table-Detection/dataset/images/00018.PNG: 640x512 3 tables, Done. (0.127s)\n",
            "Speed: 0.7ms pre-process, 126.8ms inference, 2.7ms NMS per image at shape (1, 3, 640, 640)\n",
            "Results saved to \u001b[1mruns/detect/exp9\u001b[0m\n"
          ]
        }
      ]
    },
    {
      "cell_type": "code",
      "metadata": {
        "id": "ljVwV4cFWhXo"
      },
      "source": [
        "import torch"
      ],
      "execution_count": 73,
      "outputs": []
    },
    {
      "cell_type": "code",
      "metadata": {
        "id": "L3oDxnPsWfQ1"
      },
      "source": [
        "def load_model(Best_Model, conf=0.25, iou=0.50):\n",
        "    model = torch.hub.load('.',\n",
        "                           'custom',\n",
        "                           path=Best_Model,\n",
        "                           source='local',\n",
        "                           force_reload=True)  # local repo\n",
        "    model.conf = conf  # NMS confidence threshold\n",
        "    model.iou  = iou  # NMS IoU threshold\n",
        "    model.classes = None   # (optional list) filter by class, i.e. = [0, 15, 16] for persons, cats and dogs\n",
        "    model.multi_label = False  # NMS multiple labels per box\n",
        "    model.max_det = 1000  # maximum number of detections per image\n",
        "    return model\n",
        "\n",
        "\n",
        "def predict(model, img, size=768, augment=False):\n",
        "    height, width = img.shape[:2]\n",
        "    results = model(img, size=size, augment=augment)  # custom inference size\n",
        "    preds   = results.pandas().xyxy[0]\n",
        "    bboxes  = preds[['xmin','ymin','xmax','ymax']].values\n",
        "    if len(bboxes):\n",
        "        bboxes  = voc2coco(bboxes,height,width).astype(int)\n",
        "        confs   = preds.confidence.values\n",
        "        return bboxes, confs\n",
        "    else:\n",
        "        return [],[]\n",
        "    \n",
        "def format_prediction(bboxes, confs):\n",
        "    annot = ''\n",
        "    if len(bboxes)>0:\n",
        "        for idx in range(len(bboxes)):\n",
        "            xmin, ymin, w, h = bboxes[idx]\n",
        "            conf             = confs[idx]\n",
        "            annot += f'{conf} {xmin} {ymin} {w} {h}'\n",
        "            annot +=' '\n",
        "        annot = annot.strip(' ')\n",
        "    return annot\n",
        "\n",
        "def show_img(img, bboxes, bbox_format='yolo'):\n",
        "    names  = ['starfish']*len(bboxes)\n",
        "    labels = [0]*len(bboxes)\n",
        "    img    = draw_bboxes(img = img,\n",
        "                           bboxes = bboxes, \n",
        "                           classes = names,\n",
        "                           class_ids = labels,\n",
        "                           class_name = True, \n",
        "                           colors = colors, \n",
        "                           bbox_format = bbox_format,\n",
        "                           line_thickness = 2)\n",
        "    return Image.fromarray(img).resize((800, 400))"
      ],
      "execution_count": 74,
      "outputs": []
    },
    {
      "cell_type": "code",
      "metadata": {
        "colab": {
          "base_uri": "https://localhost:8080/"
        },
        "id": "qupFd3C2XE0m",
        "outputId": "7b670c36-9194-4dfd-ea58-d170a929b320"
      },
      "source": [
        "model = load_model(\"runs/train/exp/weights/best.pt\")"
      ],
      "execution_count": 76,
      "outputs": [
        {
          "output_type": "stream",
          "name": "stdout",
          "text": [
            "\u001b[31m\u001b[1mrequirements:\u001b[0m PyYAML==6.0 not found and is required by YOLOv5, attempting auto-update...\n",
            "Requirement already satisfied: PyYAML==6.0 in /usr/local/lib/python3.7/dist-packages (6.0)\n",
            "\n",
            "\u001b[31m\u001b[1mrequirements:\u001b[0m PyYAML>=5.3.1 not found and is required by YOLOv5, attempting auto-update...\n"
          ]
        },
        {
          "output_type": "stream",
          "name": "stderr",
          "text": [
            "YOLOv5 🚀 1373fa7 torch 1.10.0+cu111 CUDA:0 (Tesla K80, 11441MiB)\n",
            "\n"
          ]
        },
        {
          "output_type": "stream",
          "name": "stdout",
          "text": [
            "Requirement already satisfied: PyYAML>=5.3.1 in /usr/local/lib/python3.7/dist-packages (6.0)\n",
            "\n",
            "\u001b[31m\u001b[1mrequirements:\u001b[0m 2 packages updated per /content/Table-Detection/requirements.txt\n",
            "\u001b[31m\u001b[1mrequirements:\u001b[0m ⚠️ \u001b[1mRestart runtime or rerun command for updates to take effect\u001b[0m\n",
            "\n"
          ]
        },
        {
          "output_type": "stream",
          "name": "stderr",
          "text": [
            "Fusing layers... \n",
            "Model Summary: 367 layers, 46108278 parameters, 0 gradients, 107.8 GFLOPs\n",
            "Adding AutoShape... \n"
          ]
        }
      ]
    },
    {
      "cell_type": "code",
      "metadata": {
        "id": "eU7mGR8fXxSQ"
      },
      "source": [
        "from PIL import Image\n",
        "import cv2 "
      ],
      "execution_count": 77,
      "outputs": []
    },
    {
      "cell_type": "code",
      "metadata": {
        "id": "yrTrgupLYN0q"
      },
      "source": [
        "img = cv2.imread(\"dataset/images/00019.PNG\")\n",
        "results =model(img , size=512)\n"
      ],
      "execution_count": 84,
      "outputs": []
    },
    {
      "cell_type": "code",
      "metadata": {
        "colab": {
          "base_uri": "https://localhost:8080/"
        },
        "id": "wXO43z-W0IQF",
        "outputId": "2fe0c8fa-cdd3-45de-bd89-eb5831061971"
      },
      "source": [
        "results.print()"
      ],
      "execution_count": 86,
      "outputs": [
        {
          "output_type": "stream",
          "name": "stderr",
          "text": [
            "image 1/1: 951x735 1 table\n",
            "Speed: 4.7ms pre-process, 104.5ms inference, 2.3ms NMS per image at shape (1, 3, 512, 416)\n"
          ]
        }
      ]
    },
    {
      "cell_type": "code",
      "metadata": {
        "colab": {
          "base_uri": "https://localhost:8080/"
        },
        "id": "u2bBADTu1Suq",
        "outputId": "51895ca5-ec82-43f2-b65d-1935c44bddc8"
      },
      "source": [
        "results.pred"
      ],
      "execution_count": 87,
      "outputs": [
        {
          "output_type": "execute_result",
          "data": {
            "text/plain": [
              "[tensor([[ 42.21899, 379.37845, 701.83600, 754.57770,   0.82324,   0.00000]], device='cuda:0')]"
            ]
          },
          "metadata": {},
          "execution_count": 87
        }
      ]
    },
    {
      "cell_type": "code",
      "metadata": {
        "colab": {
          "base_uri": "https://localhost:8080/"
        },
        "id": "T9O6Ifvp1fKo",
        "outputId": "54a43a89-94f6-4142-d9ab-750caeed6e0f"
      },
      "source": [
        "type(results)"
      ],
      "execution_count": 88,
      "outputs": [
        {
          "output_type": "execute_result",
          "data": {
            "text/plain": [
              "models.common.Detections"
            ]
          },
          "metadata": {},
          "execution_count": 88
        }
      ]
    },
    {
      "cell_type": "code",
      "metadata": {
        "colab": {
          "base_uri": "https://localhost:8080/"
        },
        "id": "5bA7LJ2f1sOm",
        "outputId": "c2655fc2-4954-41b8-9394-c0c97b2c2e9f"
      },
      "source": [
        "results.display(pprint=False, show=True, save=True, crop=False, render=False, save_dir=Path('.'))"
      ],
      "execution_count": 93,
      "outputs": [
        {
          "output_type": "stream",
          "name": "stderr",
          "text": [
            "Saved 1 image to \u001b[1m.\u001b[0m\n"
          ]
        }
      ]
    },
    {
      "cell_type": "code",
      "metadata": {
        "id": "fmox1H6j2Edl"
      },
      "source": [
        ""
      ],
      "execution_count": null,
      "outputs": []
    }
  ]
}
