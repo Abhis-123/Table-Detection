{
 "cells": [
  {
   "cell_type": "markdown",
   "metadata": {
    "id": "kJ5ivb8Sd3jA"
   },
   "source": [
    "# Custom Training with YOLOv5\n",
    "\n",
    "In this tutorial, we assemble a dataset and train a custom YOLOv5 model to recognize the objects in our dataset. To do so we will take the following steps:\n",
    "\n",
    "* Gather a dataset of images and label our dataset\n",
    "* Export our dataset to YOLOv5\n",
    "* Train YOLOv5 to recognize the objects in our dataset\n",
    "* Evaluate our YOLOv5 model's performance\n",
    "* Run test inference to view our model at work\n",
    "\n",
    "\n",
    "\n",
    "![](https://uploads-ssl.webflow.com/5f6bc60e665f54545a1e52a5/615627e5824c9c6195abfda9_computer-vision-cycle.png)"
   ]
  },
  {
   "cell_type": "code",
   "execution_count": 1,
   "metadata": {
    "colab": {
     "base_uri": "https://localhost:8080/"
    },
    "id": "Y3Z3wTuFd1Td",
    "outputId": "ccc30ad4-0074-4c6c-cd33-9050e2893bf7"
   },
   "outputs": [],
   "source": [
    "# !rm -r Table-Detection\n",
    "# !git clone https://github.com/Abhis-123/Table-Detection"
   ]
  },
  {
   "cell_type": "code",
   "execution_count": 2,
   "metadata": {
    "colab": {
     "base_uri": "https://localhost:8080/"
    },
    "id": "LEdM_v5dee8F",
    "outputId": "166927c3-2657-4bbb-ddaa-7be9b212f20c"
   },
   "outputs": [],
   "source": [
    "#%cd \"Table-Detection/\""
   ]
  },
  {
   "cell_type": "code",
   "execution_count": 3,
   "metadata": {
    "colab": {
     "base_uri": "https://localhost:8080/"
    },
    "id": "JffgqqrfmFEw",
    "outputId": "a5ee3239-a4e5-42c2-ad94-fd1d5527a35b"
   },
   "outputs": [
    {
     "name": "stdout",
     "output_type": "stream",
     "text": [
      "Requirement already satisfied: xmltodict in d:\\anaconda3\\lib\\site-packages (0.12.0)\n"
     ]
    }
   ],
   "source": [
    "!pip install xmltodict"
   ]
  },
  {
   "cell_type": "code",
   "execution_count": 4,
   "metadata": {
    "colab": {
     "base_uri": "https://localhost:8080/"
    },
    "id": "Gox3kRNZftcs",
    "outputId": "e11d6654-10b6-4a45-ea7b-f0bb56d61735"
   },
   "outputs": [
    {
     "name": "stdout",
     "output_type": "stream",
     "text": [
      " Volume in drive C is Windows-SSD\n",
      " Volume Serial Number is B694-0475\n",
      "\n",
      " Directory of C:\\Users\\Abhishek pandir\\ML\\Table Detection\n",
      "\n",
      "12/03/2021  03:17 PM    <DIR>          .\n",
      "12/03/2021  03:17 PM    <DIR>          ..\n",
      "12/03/2021  10:38 AM                66 .gitattributes\n",
      "12/03/2021  03:14 PM             1,452 .gitignore\n",
      "09/07/2021  03:13 PM    <DIR>          .ipynb_checkpoints\n",
      "12/02/2021  09:00 PM    <DIR>          .vscode\n",
      "12/02/2021  09:43 PM    <DIR>          __pycache__\n",
      "12/03/2021  12:56 PM    <DIR>          dataset\n",
      "12/03/2021  10:10 AM    <DIR>          helper\n",
      "12/03/2021  10:38 AM             1,086 LICENSE\n",
      "12/02/2021  08:58 PM    <DIR>          old\n",
      "12/03/2021  10:38 AM               256 Readme.md\n",
      "12/03/2021  02:34 PM            18,009 setup.ipynb\n",
      "12/03/2021  03:13 PM             4,566 setup.py\n",
      "12/03/2021  02:34 PM             1,362 train.ipynb\n",
      "12/03/2021  03:17 PM            22,093 Training_Yolo_For_Table_Detection.ipynb\n",
      "12/03/2021  03:00 PM               217 yolo.yaml\n",
      "12/03/2021  02:02 PM    <DIR>          yolo_cache\n",
      "12/03/2021  03:15 PM    <DIR>          yolov5\n",
      "               9 File(s)         49,107 bytes\n",
      "              10 Dir(s)  16,768,503,808 bytes free\n"
     ]
    }
   ],
   "source": [
    "%ls"
   ]
  },
  {
   "cell_type": "code",
   "execution_count": 6,
   "metadata": {
    "colab": {
     "base_uri": "https://localhost:8080/"
    },
    "id": "jtpxvX9Ziwfr",
    "outputId": "f6c4e327-0db8-45d1-bdab-abed782255e5"
   },
   "outputs": [
    {
     "name": "stdout",
     "output_type": "stream",
     "text": [
      "Missing: 0\n",
      "\n",
      "yaml:\n",
      "names:\n",
      "- table\n",
      "nc: 1\n",
      "path: C:\\Users\\Abhishek pandir\\ML\\Table Detection\n",
      "train: C:\\Users\\Abhishek pandir\\ML\\Table Detection\\yolo_cache\\train.txt\n",
      "val: C:\\Users\\Abhishek pandir\\ML\\Table Detection\\yolo_cache\\val.txt\n",
      "\n"
     ]
    },
    {
     "name": "stderr",
     "output_type": "stream",
     "text": [
      "\n",
      "  0%|          | 0/340 [00:00<?, ?it/s]\n",
      " 56%|#####5    | 189/340 [00:00<00:00, 1889.97it/s]\n",
      "100%|##########| 340/340 [00:00<00:00, 1888.54it/s]\n"
     ]
    }
   ],
   "source": [
    "!python setup.py"
   ]
  },
  {
   "cell_type": "code",
   "execution_count": 8,
   "metadata": {
    "colab": {
     "base_uri": "https://localhost:8080/"
    },
    "id": "ePw955tLmdZu",
    "outputId": "bcf45fbc-8d69-4adb-cfb7-c3ef6c53cd81"
   },
   "outputs": [],
   "source": [
    "# %cd \"/content/Table-Detection\""
   ]
  },
  {
   "cell_type": "code",
   "execution_count": 11,
   "metadata": {
    "colab": {
     "base_uri": "https://localhost:8080/"
    },
    "id": "wfj_gXwUjK0M",
    "outputId": "e5f0986e-d977-45c3-b491-4f61dca8a54f"
   },
   "outputs": [
    {
     "name": "stdout",
     "output_type": "stream",
     "text": [
      "Requirement already satisfied: matplotlib>=3.2.2 in d:\\anaconda3\\lib\\site-packages (from -r requirements.txt (line 4)) (3.4.2)\n",
      "Requirement already satisfied: numpy>=1.18.5 in d:\\anaconda3\\lib\\site-packages (from -r requirements.txt (line 5)) (1.21.1)\n",
      "Requirement already satisfied: opencv-python>=4.1.2 in d:\\anaconda3\\lib\\site-packages (from -r requirements.txt (line 6)) (4.5.4.60)\n",
      "Requirement already satisfied: Pillow>=7.1.2 in d:\\anaconda3\\lib\\site-packages (from -r requirements.txt (line 7)) (8.2.0)\n",
      "Requirement already satisfied: PyYAML>=5.3.1 in d:\\anaconda3\\lib\\site-packages (from -r requirements.txt (line 8)) (5.3.1)\n",
      "Requirement already satisfied: requests>=2.23.0 in d:\\anaconda3\\lib\\site-packages (from -r requirements.txt (line 9)) (2.26.0)\n",
      "Requirement already satisfied: scipy>=1.4.1 in d:\\anaconda3\\lib\\site-packages (from -r requirements.txt (line 10)) (1.5.0)\n",
      "Requirement already satisfied: torch>=1.7.0 in d:\\anaconda3\\lib\\site-packages (from -r requirements.txt (line 11)) (1.9.0)\n",
      "Requirement already satisfied: torchvision>=0.8.1 in d:\\anaconda3\\lib\\site-packages (from -r requirements.txt (line 12)) (0.10.0)\n",
      "Requirement already satisfied: tqdm>=4.41.0 in d:\\anaconda3\\lib\\site-packages (from -r requirements.txt (line 13)) (4.47.0)\n",
      "Requirement already satisfied: tensorboard>=2.4.1 in d:\\anaconda3\\lib\\site-packages (from -r requirements.txt (line 16)) (2.7.0)\n",
      "Requirement already satisfied: pandas>=1.1.4 in d:\\anaconda3\\lib\\site-packages (from -r requirements.txt (line 20)) (1.3.1)\n",
      "Requirement already satisfied: seaborn>=0.11.0 in d:\\anaconda3\\lib\\site-packages (from -r requirements.txt (line 21)) (0.11.2)\n",
      "Requirement already satisfied: thop in d:\\anaconda3\\lib\\site-packages (from -r requirements.txt (line 36)) (0.0.31.post2005241907)\n",
      "Requirement already satisfied: kiwisolver>=1.0.1 in d:\\anaconda3\\lib\\site-packages (from matplotlib>=3.2.2->-r requirements.txt (line 4)) (1.2.0)\n",
      "Requirement already satisfied: cycler>=0.10 in d:\\anaconda3\\lib\\site-packages (from matplotlib>=3.2.2->-r requirements.txt (line 4)) (0.10.0)\n",
      "Requirement already satisfied: python-dateutil>=2.7 in d:\\anaconda3\\lib\\site-packages (from matplotlib>=3.2.2->-r requirements.txt (line 4)) (2.8.1)\n",
      "Requirement already satisfied: pyparsing>=2.2.1 in d:\\anaconda3\\lib\\site-packages (from matplotlib>=3.2.2->-r requirements.txt (line 4)) (2.4.7)\n",
      "Requirement already satisfied: charset-normalizer~=2.0.0; python_version >= \"3\" in d:\\anaconda3\\lib\\site-packages (from requests>=2.23.0->-r requirements.txt (line 9)) (2.0.3)\n",
      "Requirement already satisfied: idna<4,>=2.5; python_version >= \"3\" in d:\\anaconda3\\lib\\site-packages (from requests>=2.23.0->-r requirements.txt (line 9)) (2.10)\n",
      "Requirement already satisfied: urllib3<1.27,>=1.21.1 in d:\\anaconda3\\lib\\site-packages (from requests>=2.23.0->-r requirements.txt (line 9)) (1.25.9)\n",
      "Requirement already satisfied: certifi>=2017.4.17 in d:\\anaconda3\\lib\\site-packages (from requests>=2.23.0->-r requirements.txt (line 9)) (2021.5.30)\n",
      "Requirement already satisfied: typing_extensions in d:\\anaconda3\\lib\\site-packages (from torch>=1.7.0->-r requirements.txt (line 11)) (3.7.4.2)\n",
      "Requirement already satisfied: setuptools>=41.0.0 in d:\\anaconda3\\lib\\site-packages (from tensorboard>=2.4.1->-r requirements.txt (line 16)) (49.2.0.post20200714)\n",
      "Requirement already satisfied: protobuf>=3.6.0 in d:\\anaconda3\\lib\\site-packages (from tensorboard>=2.4.1->-r requirements.txt (line 16)) (3.19.1)\n",
      "Requirement already satisfied: werkzeug>=0.11.15 in d:\\anaconda3\\lib\\site-packages (from tensorboard>=2.4.1->-r requirements.txt (line 16)) (1.0.1)\n",
      "Requirement already satisfied: google-auth-oauthlib<0.5,>=0.4.1 in d:\\anaconda3\\lib\\site-packages (from tensorboard>=2.4.1->-r requirements.txt (line 16)) (0.4.6)\n",
      "Requirement already satisfied: tensorboard-plugin-wit>=1.6.0 in d:\\anaconda3\\lib\\site-packages (from tensorboard>=2.4.1->-r requirements.txt (line 16)) (1.8.0)\n",
      "Requirement already satisfied: grpcio>=1.24.3 in d:\\anaconda3\\lib\\site-packages (from tensorboard>=2.4.1->-r requirements.txt (line 16)) (1.42.0)\n",
      "Requirement already satisfied: markdown>=2.6.8 in d:\\anaconda3\\lib\\site-packages (from tensorboard>=2.4.1->-r requirements.txt (line 16)) (3.2.2)\n",
      "Requirement already satisfied: google-auth<3,>=1.6.3 in d:\\anaconda3\\lib\\site-packages (from tensorboard>=2.4.1->-r requirements.txt (line 16)) (2.3.3)\n",
      "Requirement already satisfied: tensorboard-data-server<0.7.0,>=0.6.0 in d:\\anaconda3\\lib\\site-packages (from tensorboard>=2.4.1->-r requirements.txt (line 16)) (0.6.1)\n",
      "Requirement already satisfied: wheel>=0.26 in d:\\anaconda3\\lib\\site-packages (from tensorboard>=2.4.1->-r requirements.txt (line 16)) (0.34.2)\n",
      "Requirement already satisfied: absl-py>=0.4 in d:\\anaconda3\\lib\\site-packages (from tensorboard>=2.4.1->-r requirements.txt (line 16)) (1.0.0)\n",
      "Requirement already satisfied: pytz>=2017.3 in d:\\anaconda3\\lib\\site-packages (from pandas>=1.1.4->-r requirements.txt (line 20)) (2020.1)\n",
      "Requirement already satisfied: six in c:\\users\\abhishek pandir\\appdata\\roaming\\python\\python38\\site-packages (from cycler>=0.10->matplotlib>=3.2.2->-r requirements.txt (line 4)) (1.14.0)\n",
      "Requirement already satisfied: requests-oauthlib>=0.7.0 in d:\\anaconda3\\lib\\site-packages (from google-auth-oauthlib<0.5,>=0.4.1->tensorboard>=2.4.1->-r requirements.txt (line 16)) (1.3.0)\n",
      "Requirement already satisfied: rsa<5,>=3.1.4; python_version >= \"3.6\" in d:\\anaconda3\\lib\\site-packages (from google-auth<3,>=1.6.3->tensorboard>=2.4.1->-r requirements.txt (line 16)) (4.8)\n",
      "Requirement already satisfied: cachetools<5.0,>=2.0.0 in d:\\anaconda3\\lib\\site-packages (from google-auth<3,>=1.6.3->tensorboard>=2.4.1->-r requirements.txt (line 16)) (4.2.4)\n",
      "Requirement already satisfied: pyasn1-modules>=0.2.1 in d:\\anaconda3\\lib\\site-packages (from google-auth<3,>=1.6.3->tensorboard>=2.4.1->-r requirements.txt (line 16)) (0.2.8)\n",
      "Requirement already satisfied: oauthlib>=3.0.0 in d:\\anaconda3\\lib\\site-packages (from requests-oauthlib>=0.7.0->google-auth-oauthlib<0.5,>=0.4.1->tensorboard>=2.4.1->-r requirements.txt (line 16)) (3.1.1)\n",
      "Requirement already satisfied: pyasn1>=0.1.3 in d:\\anaconda3\\lib\\site-packages (from rsa<5,>=3.1.4; python_version >= \"3.6\"->google-auth<3,>=1.6.3->tensorboard>=2.4.1->-r requirements.txt (line 16)) (0.4.8)\n"
     ]
    }
   ],
   "source": [
    "# !git clone https://github.com/ultralytics/yolov5  # clone repo\n",
    "#!cd yolov5\n",
    "!pip install -r requirements.txt "
   ]
  },
  {
   "cell_type": "code",
   "execution_count": null,
   "metadata": {
    "colab": {
     "base_uri": "https://localhost:8080/"
    },
    "id": "29SKyB51jG4I",
    "outputId": "762f5468-850e-4c27-918a-bb84e72c00fd"
   },
   "outputs": [],
   "source": [
    "!python train.py --img 256 --batch 1 --epochs 2 --data ../yolo.yaml --weights yolov5s.pt"
   ]
  },
  {
   "cell_type": "code",
   "execution_count": 8,
   "metadata": {
    "id": "3V39D2k5jIU2"
   },
   "outputs": [],
   "source": []
  }
 ],
 "metadata": {
  "accelerator": "GPU",
  "colab": {
   "name": "Training Yolo For Table Detection.ipynb",
   "provenance": []
  },
  "kernelspec": {
   "display_name": "Python 3",
   "language": "python",
   "name": "python3"
  },
  "language_info": {
   "codemirror_mode": {
    "name": "ipython",
    "version": 3
   },
   "file_extension": ".py",
   "mimetype": "text/x-python",
   "name": "python",
   "nbconvert_exporter": "python",
   "pygments_lexer": "ipython3",
   "version": "3.8.3"
  }
 },
 "nbformat": 4,
 "nbformat_minor": 1
}
