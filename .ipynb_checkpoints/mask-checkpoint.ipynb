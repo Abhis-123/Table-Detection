{
 "cells": [
  {
   "cell_type": "code",
   "execution_count": 1,
   "metadata": {
    "id": "SoonTpImARbq"
   },
   "outputs": [],
   "source": [
    "import tensorflow as tf\n",
    "import matplotlib.pyplot as plt\n",
    "from tensorflow.keras import Sequential\n",
    "from tensorflow.keras.models import Model\n",
    "from tensorflow.keras.layers import BatchNormalization\n",
    "from tensorflow.keras.layers import Conv2D\n",
    "from tensorflow.keras.layers import MaxPooling2D\n",
    "from tensorflow.keras.layers import Activation\n",
    "from tensorflow.keras.layers import Dropout\n",
    "from tensorflow.keras.layers import Lambda\n",
    "from tensorflow.keras.layers import Dense\n",
    "from tensorflow.keras.layers import Flatten\n",
    "from tensorflow.keras.layers import Input, Concatenate, UpSampling2D"
   ]
  },
  {
   "cell_type": "code",
   "execution_count": 2,
   "metadata": {
    "id": "AGkGqt8AB1PU"
   },
   "outputs": [],
   "source": [
    "import pandas as pd\n",
    "import xml.etree.ElementTree as ET\n",
    "import xmltodict\n"
   ]
  },
  {
   "cell_type": "code",
   "execution_count": 4,
   "metadata": {
    "id": "6TCgxqikAW0b"
   },
   "outputs": [],
   "source": [
    "img_height, img_width = 256, 256\n",
    "def normalize(input_image):\n",
    "  input_image = tf.cast(input_image, tf.float32) / 255.0\n",
    "  return input_image\n",
    "\n",
    "\n",
    "def decode_img(img):\n",
    "  # convert the compressed string to a 3D uint8 tensor\n",
    "  img = tf.image.decode_jpeg(img,channels=3)\n",
    "  # resize the image to the desired size\n",
    "  return tf.image.resize(img, [img_height, img_width])\n",
    "\n",
    "def decode_mask_img(img):\n",
    "  # convert the compressed string to a 2D uint8 tensor\n",
    "  img = tf.image.decode_jpeg(img, channels=1)\n",
    "  # resize the image to the desired size\n",
    "  return tf.image.resize(img, [img_height, img_width])"
   ]
  },
  {
   "cell_type": "code",
   "execution_count": 5,
   "metadata": {
    "id": "kBBBZ4m8Afe3"
   },
   "outputs": [],
   "source": [
    "list_ds = tf.data.Dataset.list_files('data/masks/*.PNG',shuffle=False)"
   ]
  },
  {
   "cell_type": "code",
   "execution_count": 6,
   "metadata": {
    "id": "2rXJHnhWDmk_"
   },
   "outputs": [],
   "source": [
    "import numpy as np\n",
    "def read_xml(path):\n",
    "    # Read file \n",
    "    xml_data=open(path).read()\n",
    "    # return dictionary of the file\n",
    "    xmlDict=xmltodict.parse(xml_data)\n",
    "    return xmlDict"
   ]
  },
  {
   "cell_type": "code",
   "execution_count": 7,
   "metadata": {
    "colab": {
     "base_uri": "https://localhost:8080/"
    },
    "id": "N8oBHbl_DbE7",
    "outputId": "c8b8a66a-d833-4bfc-894c-a01187765ac1"
   },
   "outputs": [
    {
     "data": {
      "text/plain": [
       "OrderedDict([('xmin', '29'),\n",
       "             ('ymin', '242'),\n",
       "             ('xmax', '314'),\n",
       "             ('ymax', '467')])"
      ]
     },
     "execution_count": 7,
     "metadata": {},
     "output_type": "execute_result"
    }
   ],
   "source": [
    "import string\n",
    "import os\n",
    "folderpath = 'data/images'\n",
    "files = os.listdir(folderpath)\n",
    "files\n",
    "df=pd.DataFrame(files,columns=['filename'])\n",
    "df['imagefilepath']='data/images/'+df['filename']\n",
    "df['targetfilepath']='data/labels/'+df['filename'].apply(lambda x:x.replace('PNG','xml'))\n",
    "read_xml(df['targetfilepath'][5])['annotation']['object']['bndbox']"
   ]
  },
  {
   "cell_type": "code",
   "execution_count": 8,
   "metadata": {
    "colab": {
     "base_uri": "https://localhost:8080/"
    },
    "id": "ZDOqZ7rNCrxf",
    "outputId": "8507a853-9fe2-47ad-8d60-6ad801061728"
   },
   "outputs": [
    {
     "data": {
      "text/plain": [
       "OrderedDict([('annotation',\n",
       "              OrderedDict([('folder', 'images'),\n",
       "                           ('filename', '1 WFM invoice.png'),\n",
       "                           ('path',\n",
       "                            'D:\\\\labelimgdata\\\\images\\\\1 WFM invoice.png'),\n",
       "                           ('source', OrderedDict([('database', 'Unknown')])),\n",
       "                           ('size',\n",
       "                            OrderedDict([('width', '682'),\n",
       "                                         ('height', '845'),\n",
       "                                         ('depth', '3')])),\n",
       "                           ('segmented', '0'),\n",
       "                           ('object',\n",
       "                            [OrderedDict([('name', 'Table'),\n",
       "                                          ('pose', 'Unspecified'),\n",
       "                                          ('truncated', '0'),\n",
       "                                          ('difficult', '0'),\n",
       "                                          ('bndbox',\n",
       "                                           OrderedDict([('xmin', '18'),\n",
       "                                                        ('ymin', '56'),\n",
       "                                                        ('xmax', '267'),\n",
       "                                                        ('ymax', '256')]))]),\n",
       "                             OrderedDict([('name', 'Table'),\n",
       "                                          ('pose', 'Unspecified'),\n",
       "                                          ('truncated', '0'),\n",
       "                                          ('difficult', '0'),\n",
       "                                          ('bndbox',\n",
       "                                           OrderedDict([('xmin', '331'),\n",
       "                                                        ('ymin', '111'),\n",
       "                                                        ('xmax', '572'),\n",
       "                                                        ('ymax', '251')]))]),\n",
       "                             OrderedDict([('name', 'Table'),\n",
       "                                          ('pose', 'Unspecified'),\n",
       "                                          ('truncated', '0'),\n",
       "                                          ('difficult', '0'),\n",
       "                                          ('bndbox',\n",
       "                                           OrderedDict([('xmin', '15'),\n",
       "                                                        ('ymin', '269'),\n",
       "                                                        ('xmax', '357'),\n",
       "                                                        ('ymax', '425')]))]),\n",
       "                             OrderedDict([('name', 'Table'),\n",
       "                                          ('pose', 'Unspecified'),\n",
       "                                          ('truncated', '0'),\n",
       "                                          ('difficult', '0'),\n",
       "                                          ('bndbox',\n",
       "                                           OrderedDict([('xmin', '19'),\n",
       "                                                        ('ymin', '441'),\n",
       "                                                        ('xmax', '662'),\n",
       "                                                        ('ymax', '587')]))]),\n",
       "                             OrderedDict([('name', 'Table'),\n",
       "                                          ('pose', 'Unspecified'),\n",
       "                                          ('truncated', '0'),\n",
       "                                          ('difficult', '0'),\n",
       "                                          ('bndbox',\n",
       "                                           OrderedDict([('xmin', '16'),\n",
       "                                                        ('ymin', '603'),\n",
       "                                                        ('xmax', '662'),\n",
       "                                                        ('ymax',\n",
       "                                                         '818')]))])])]))])"
      ]
     },
     "execution_count": 8,
     "metadata": {},
     "output_type": "execute_result"
    }
   ],
   "source": [
    "def getbndboxdimention(xmlpath):\n",
    "    xmldata=read_xml(xmlpath)\n",
    "    l=[]\n",
    "    o=xmldata['annotation']['object']\n",
    "    dimention=o\n",
    "    if isinstance(o,type(l)):\n",
    "        return dimention\n",
    "    else:\n",
    "        l.append(dimention)\n",
    "        return l\n",
    "\n",
    "def gettablecount(xmlpath):\n",
    "    xmldata=read_xml(xmlpath)\n",
    "    l=[]\n",
    "    o=xmldata['annotation']['object']\n",
    "    if isinstance(o,type(l)):\n",
    "        return len(o)\n",
    "    else:\n",
    "        return 1\n",
    "    \n",
    "read_xml(df['targetfilepath'][2])"
   ]
  },
  {
   "cell_type": "code",
   "execution_count": 9,
   "metadata": {
    "id": "HKt99abgCrwF"
   },
   "outputs": [],
   "source": [
    "df['tablecount']=df['targetfilepath'].apply(gettablecount)\n",
    "df['tables']=df['targetfilepath'].apply(getbndboxdimention)\n",
    "def getlimits(listoftables):\n",
    "    limits=[]\n",
    "    for x in listoftables:\n",
    "        limits.append(x['bndbox'])\n",
    "    return limits\n",
    "        \n",
    "getlimits(df.iloc[2]['tables'])\n",
    "df['bndboxlim']=df['tables'].apply(getlimits)"
   ]
  },
  {
   "cell_type": "code",
   "execution_count": 10,
   "metadata": {
    "id": "MsRBrNjWKgFf"
   },
   "outputs": [],
   "source": [
    "def maintable(list):\n",
    "  s=0\n",
    "  l=0\n",
    "  for i in range(0,len(list)):\n",
    "    x=list[i]\n",
    "    sq=np.square(int(x['xmin'])-int(x['xmax']))+np.square(int(x['ymin'])-int(x['ymax']))\n",
    "    if sq>s:\n",
    "      s=sq\n",
    "      l=i;\n",
    "  dim=[]\n",
    "  return np.asarray((int(list[l]['xmin']),int(list[l]['ymin']),int(list[l]['xmax']),int(list[l]['ymax']))).astype('float32')\n",
    "\n"
   ]
  },
  {
   "cell_type": "code",
   "execution_count": 11,
   "metadata": {
    "colab": {
     "base_uri": "https://localhost:8080/"
    },
    "id": "xoX_Ef5zMyV-",
    "outputId": "dd5ef6a5-07e8-47f1-8fd3-9340ae2d197e"
   },
   "outputs": [
    {
     "data": {
      "text/plain": [
       "array([  15.,  442., 1095., 1467.], dtype=float32)"
      ]
     },
     "execution_count": 11,
     "metadata": {},
     "output_type": "execute_result"
    }
   ],
   "source": [
    "maintable(df['bndboxlim'][0])"
   ]
  },
  {
   "cell_type": "code",
   "execution_count": 12,
   "metadata": {
    "colab": {
     "base_uri": "https://localhost:8080/",
     "height": 107
    },
    "id": "rx7nP9IrCrmf",
    "outputId": "88809bab-98ec-4f2d-fc0b-56885cd13ece"
   },
   "outputs": [
    {
     "data": {
      "text/html": [
       "<div>\n",
       "<style scoped>\n",
       "    .dataframe tbody tr th:only-of-type {\n",
       "        vertical-align: middle;\n",
       "    }\n",
       "\n",
       "    .dataframe tbody tr th {\n",
       "        vertical-align: top;\n",
       "    }\n",
       "\n",
       "    .dataframe thead th {\n",
       "        text-align: right;\n",
       "    }\n",
       "</style>\n",
       "<table border=\"1\" class=\"dataframe\">\n",
       "  <thead>\n",
       "    <tr style=\"text-align: right;\">\n",
       "      <th></th>\n",
       "      <th>filename</th>\n",
       "      <th>imagefilepath</th>\n",
       "      <th>targetfilepath</th>\n",
       "      <th>tablecount</th>\n",
       "      <th>tables</th>\n",
       "      <th>bndboxlim</th>\n",
       "    </tr>\n",
       "  </thead>\n",
       "  <tbody>\n",
       "    <tr>\n",
       "      <th>0</th>\n",
       "      <td>00001.PNG</td>\n",
       "      <td>data/images/00001.PNG</td>\n",
       "      <td>data/labels/00001.xml</td>\n",
       "      <td>1</td>\n",
       "      <td>[{'name': 'Table', 'pose': 'Unspecified', 'tru...</td>\n",
       "      <td>[{'xmin': '15', 'ymin': '442', 'xmax': '1095',...</td>\n",
       "    </tr>\n",
       "    <tr>\n",
       "      <th>1</th>\n",
       "      <td>00005.PNG</td>\n",
       "      <td>data/images/00005.PNG</td>\n",
       "      <td>data/labels/00005.xml</td>\n",
       "      <td>1</td>\n",
       "      <td>[{'name': 'Table', 'pose': 'Unspecified', 'tru...</td>\n",
       "      <td>[{'xmin': '327', 'ymin': '543', 'xmax': '904',...</td>\n",
       "    </tr>\n",
       "  </tbody>\n",
       "</table>\n",
       "</div>"
      ],
      "text/plain": [
       "    filename          imagefilepath         targetfilepath  tablecount  \\\n",
       "0  00001.PNG  data/images/00001.PNG  data/labels/00001.xml           1   \n",
       "1  00005.PNG  data/images/00005.PNG  data/labels/00005.xml           1   \n",
       "\n",
       "                                              tables  \\\n",
       "0  [{'name': 'Table', 'pose': 'Unspecified', 'tru...   \n",
       "1  [{'name': 'Table', 'pose': 'Unspecified', 'tru...   \n",
       "\n",
       "                                           bndboxlim  \n",
       "0  [{'xmin': '15', 'ymin': '442', 'xmax': '1095',...  \n",
       "1  [{'xmin': '327', 'ymin': '543', 'xmax': '904',...  "
      ]
     },
     "execution_count": 12,
     "metadata": {},
     "output_type": "execute_result"
    }
   ],
   "source": [
    "df.head(2)"
   ]
  },
  {
   "cell_type": "code",
   "execution_count": 13,
   "metadata": {
    "id": "v7HDJDjBCrg5"
   },
   "outputs": [],
   "source": [
    "df['out']=df['bndboxlim'].apply(maintable)"
   ]
  },
  {
   "cell_type": "code",
   "execution_count": 14,
   "metadata": {
    "id": "puVhOZjzN9r8"
   },
   "outputs": [],
   "source": [
    "data=df[df['tablecount']==1]"
   ]
  },
  {
   "cell_type": "code",
   "execution_count": 15,
   "metadata": {
    "id": "j9goSbGqOefl"
   },
   "outputs": [],
   "source": [
    "def readimbox(path):\n",
    "  path=path.replace('images','tablemask')\n",
    "  path=path.replace('.PNG','.jpeg')\n",
    "  im= normalize(decode_mask_img(tf.io.read_file(path)))  \n",
    "  return im\n"
   ]
  },
  {
   "cell_type": "code",
   "execution_count": 16,
   "metadata": {
    "id": "lEi0E4pUPE1p"
   },
   "outputs": [
    {
     "name": "stderr",
     "output_type": "stream",
     "text": [
      "D:\\Anaconda3\\envs\\tfgpu\\lib\\site-packages\\ipykernel_launcher.py:1: SettingWithCopyWarning: \n",
      "A value is trying to be set on a copy of a slice from a DataFrame.\n",
      "Try using .loc[row_indexer,col_indexer] = value instead\n",
      "\n",
      "See the caveats in the documentation: https://pandas.pydata.org/pandas-docs/stable/user_guide/indexing.html#returning-a-view-versus-a-copy\n",
      "  \"\"\"Entry point for launching an IPython kernel.\n"
     ]
    }
   ],
   "source": [
    "data['input']=data['imagefilepath'].apply(readimbox)"
   ]
  },
  {
   "cell_type": "code",
   "execution_count": 17,
   "metadata": {
    "id": "d82PWW18VFlK"
   },
   "outputs": [
    {
     "data": {
      "text/plain": [
       "array([327., 543., 904., 834.], dtype=float32)"
      ]
     },
     "execution_count": 17,
     "metadata": {},
     "output_type": "execute_result"
    }
   ],
   "source": [
    "data['out'][1]"
   ]
  },
  {
   "cell_type": "code",
   "execution_count": 18,
   "metadata": {
    "id": "FEQzHrg0Yo54"
   },
   "outputs": [
    {
     "data": {
      "text/plain": [
       "234"
      ]
     },
     "execution_count": 18,
     "metadata": {},
     "output_type": "execute_result"
    }
   ],
   "source": [
    "len(data)"
   ]
  },
  {
   "cell_type": "code",
   "execution_count": 19,
   "metadata": {
    "id": "g7IsKA_2YFHd"
   },
   "outputs": [],
   "source": [
    "images = np.empty((234,256,256,1))\n",
    "for x in range(0,234):\n",
    "  path=data['imagefilepath'].iloc[x]\n",
    "  images[x]=readimbox(path)\n",
    "  \n"
   ]
  },
  {
   "cell_type": "code",
   "execution_count": 20,
   "metadata": {},
   "outputs": [],
   "source": [
    "def readtargetmask(path):\n",
    "  path=path.replace('images','masks')\n",
    "  im= normalize(decode_mask_img(tf.io.read_file(path)))  \n",
    "  return im"
   ]
  },
  {
   "cell_type": "code",
   "execution_count": 21,
   "metadata": {},
   "outputs": [],
   "source": [
    "targetz=np.empty((234,256,256,1))\n",
    "target=np.empty((234,4))\n",
    "for x in range(0,234):\n",
    "    path=data['imagefilepath'].iloc[x]\n",
    "    targetz[x]=readtargetmask(path)\n",
    "\n",
    "    "
   ]
  },
  {
   "cell_type": "code",
   "execution_count": 22,
   "metadata": {
    "id": "_HRHej-ZYFGB"
   },
   "outputs": [],
   "source": [
    "target=np.empty((234,4))\n",
    "for x in range(0,234):\n",
    "  target[x]=data['out'].iloc[x]"
   ]
  },
  {
   "cell_type": "code",
   "execution_count": 23,
   "metadata": {
    "id": "CQAt5w40W2DL"
   },
   "outputs": [],
   "source": [
    "train_x=images[:200]\n",
    "train_y=target[:200]\n",
    "test_x=images[200:]\n",
    "test_y=target[200:]\n",
    "train_z=targetz[:200]\n",
    "test_z=targetz[200:]"
   ]
  },
  {
   "cell_type": "code",
   "execution_count": 24,
   "metadata": {
    "colab": {
     "base_uri": "https://localhost:8080/"
    },
    "id": "eMeMMQ0JA0JK",
    "outputId": "a3b9aed4-03a8-49e1-f540-16b4604d1840"
   },
   "outputs": [],
   "source": [
    "# model = Sequential()\n",
    "# model.add(Conv2D(32,kernel_size=(3,3),activation='relu',input_shape=(256,256,1)))\n",
    "# model.add(MaxPooling2D((2,2)))\n",
    "# model.add(Conv2D(16,kernel_size=(5,5),activation='selu'))\n",
    "# model.add(Conv2D(4,kernel_size=(3,3),activation='relu'))\n",
    "# model.add(Conv2D(32,kernel_size=(3,3),activation='selu'))\n",
    "# model.add(MaxPooling2D((2,2)))\n",
    "# model.add(Flatten())\n",
    "# model.add(Dropout(0.5))\n",
    "# model.add(Dense(32,activation='relu'))\n",
    "# model.add(Dense(4,activation='linear'))"
   ]
  },
  {
   "cell_type": "code",
   "execution_count": 25,
   "metadata": {},
   "outputs": [],
   "source": [
    "from tensorflow.keras.layers import ZeroPadding2D"
   ]
  },
  {
   "cell_type": "code",
   "execution_count": 51,
   "metadata": {},
   "outputs": [],
   "source": [
    "model = Sequential()\n",
    "model.add(Conv2D(128,kernel_size=(5,5),activation='relu', padding='same',input_shape=(256,256,1)))\n",
    "model.add(Conv2D(1,kernel_size=(3,3),activation='relu', padding='same'))"
   ]
  },
  {
   "cell_type": "code",
   "execution_count": 52,
   "metadata": {
    "id": "JZTamPxKazOV"
   },
   "outputs": [],
   "source": [
    "from IPython.display import clear_output\n",
    "\n",
    "class DisplayCallback(tf.keras.callbacks.Callback):\n",
    "  def on_epoch_end(self, epoch, logs=None):\n",
    "        clear_output(wait=True)\n",
    "        print ('\\nSample Prediction after epoch {}\\n'.format(epoch+1))\n",
    "\n",
    "model_checkpoint=tf.keras.callbacks.ModelCheckpoint(\n",
    "        filepath=\"mymodel_1.h5\",\n",
    "        save_best_only=True,\n",
    "        monitor=\"val_loss\",\n",
    "        verbose=1,\n",
    "    )\n",
    "\n",
    "early_stoping = tf.keras.callbacks.EarlyStopping(\n",
    "        monitor=\"val_loss\",\n",
    "        patience=5,\n",
    "        verbose=1,\n",
    "    )\n"
   ]
  },
  {
   "cell_type": "code",
   "execution_count": 53,
   "metadata": {},
   "outputs": [
    {
     "name": "stdout",
     "output_type": "stream",
     "text": [
      "Model: \"sequential_3\"\n",
      "_________________________________________________________________\n",
      "Layer (type)                 Output Shape              Param #   \n",
      "=================================================================\n",
      "conv2d_4 (Conv2D)            (None, 256, 256, 128)     3328      \n",
      "_________________________________________________________________\n",
      "conv2d_5 (Conv2D)            (None, 256, 256, 1)       1153      \n",
      "=================================================================\n",
      "Total params: 4,481\n",
      "Trainable params: 4,481\n",
      "Non-trainable params: 0\n",
      "_________________________________________________________________\n"
     ]
    }
   ],
   "source": [
    "opt = tf.keras.optimizers.Adam(learning_rate=0.00005)\n",
    "model.compile(optimizer=opt, loss= tf.keras.losses.MeanSquaredError(), metrics = [tf.keras.metrics.MeanSquaredError()])\n",
    "model.summary()"
   ]
  },
  {
   "cell_type": "code",
   "execution_count": 54,
   "metadata": {},
   "outputs": [
    {
     "data": {
      "text/plain": [
       "(200, 256, 256, 1)"
      ]
     },
     "execution_count": 54,
     "metadata": {},
     "output_type": "execute_result"
    }
   ],
   "source": [
    "train_z.shape"
   ]
  },
  {
   "cell_type": "code",
   "execution_count": 67,
   "metadata": {
    "id": "puMAOiRxCMjM",
    "scrolled": true
   },
   "outputs": [
    {
     "name": "stdout",
     "output_type": "stream",
     "text": [
      "\n",
      "Sample Prediction after epoch 100\n",
      "\n",
      "\n",
      "Epoch 00100: val_loss did not improve from 0.11693\n",
      "\b\b\b\b\b\b\b\b\b\b\b\b\b\b\b\b\b\b\b\b\b\b\b\b\b\b\b\b\b\b\b\b\b\b\b\b\b\b\b\b\b\b\b\b\b\b\b\b\b\b\b\b\b\b\b\b\b\b\b\b\b\b\b\b\b\b\b\b\b\b\b\b\b\b\b\b\b\b\b\b\b\b\b\b\b\b\b\b\b\b\b\b\r",
      "50/50 [==============================] - 3s 52ms/step - loss: 0.1167 - mean_squared_error: 0.1167 - val_loss: 0.1175 - val_mean_squared_error: 0.1175\n"
     ]
    }
   ],
   "source": [
    "#model.load_weights('mymodel_1.h5')\n",
    "history = model.fit(train_z, train_x, batch_size=4,epochs=100,verbose = 1, validation_data=(test_z, test_x),\n",
    "                                        callbacks=[DisplayCallback(), \n",
    "                                          model_checkpoint\n",
    "                                         ],\n",
    "                                        use_multiprocessing=True )"
   ]
  },
  {
   "cell_type": "code",
   "execution_count": 45,
   "metadata": {
    "id": "ET-d9idpcnJi"
   },
   "outputs": [],
   "source": [
    "model.save_weights('1.h5')"
   ]
  },
  {
   "cell_type": "code",
   "execution_count": 46,
   "metadata": {},
   "outputs": [],
   "source": [
    "import matplotlib.pyplot as plt"
   ]
  },
  {
   "cell_type": "code",
   "execution_count": 66,
   "metadata": {
    "scrolled": true
   },
   "outputs": [
    {
     "data": {
      "text/plain": [
       "(256, 256, 1)"
      ]
     },
     "execution_count": 66,
     "metadata": {},
     "output_type": "execute_result"
    }
   ],
   "source": [
    "train_x[1].shape"
   ]
  },
  {
   "cell_type": "code",
   "execution_count": 47,
   "metadata": {},
   "outputs": [
    {
     "data": {
      "text/plain": [
       "<matplotlib.image.AxesImage at 0x2606f1fef48>"
      ]
     },
     "execution_count": 47,
     "metadata": {},
     "output_type": "execute_result"
    },
    {
     "data": {
      "image/png": "[encoded data removed]",
      "text/plain": [
       "<Figure size 432x288 with 1 Axes>"
      ]
     },
     "metadata": {
      "needs_background": "light"
     },
     "output_type": "display_data"
    }
   ],
   "source": [
    "plt.imshow(train_x[1])"
   ]
  },
  {
   "cell_type": "code",
   "execution_count": 48,
   "metadata": {},
   "outputs": [
    {
     "data": {
      "text/plain": [
       "<matplotlib.image.AxesImage at 0x2606ebc6748>"
      ]
     },
     "execution_count": 48,
     "metadata": {},
     "output_type": "execute_result"
    },
    {
     "data": {
      "image/png": "[encoded data removed]",
      "text/plain": [
       "<Figure size 432x288 with 1 Axes>"
      ]
     },
     "metadata": {
      "needs_background": "light"
     },
     "output_type": "display_data"
    }
   ],
   "source": [
    "plt.imshow(train_z[1])"
   ]
  },
  {
   "cell_type": "code",
   "execution_count": 56,
   "metadata": {},
   "outputs": [],
   "source": [
    "img=(model.predict(np.reshape(train_z[1],(1,256,256,1)))[0])"
   ]
  },
  {
   "cell_type": "code",
   "execution_count": null,
   "metadata": {},
   "outputs": [],
   "source": []
  },
  {
   "cell_type": "code",
   "execution_count": 60,
   "metadata": {},
   "outputs": [
    {
     "data": {
      "text/plain": [
       "array([[[39.37037 ],\n",
       "        [52.90321 ],\n",
       "        [52.90321 ],\n",
       "        ...,\n",
       "        [52.90321 ],\n",
       "        [52.90321 ],\n",
       "        [31.940882]],\n",
       "\n",
       "       [[59.045246],\n",
       "        [80.57925 ],\n",
       "        [80.57925 ],\n",
       "        ...,\n",
       "        [80.57925 ],\n",
       "        [80.57925 ],\n",
       "        [50.490646]],\n",
       "\n",
       "       [[59.045246],\n",
       "        [80.57925 ],\n",
       "        [80.57925 ],\n",
       "        ...,\n",
       "        [80.57925 ],\n",
       "        [80.57925 ],\n",
       "        [50.490646]],\n",
       "\n",
       "       ...,\n",
       "\n",
       "       [[59.045246],\n",
       "        [80.57925 ],\n",
       "        [80.57925 ],\n",
       "        ...,\n",
       "        [83.47926 ],\n",
       "        [82.7263  ],\n",
       "        [51.585354]],\n",
       "\n",
       "       [[59.045246],\n",
       "        [80.57925 ],\n",
       "        [80.57925 ],\n",
       "        ...,\n",
       "        [83.413666],\n",
       "        [82.61188 ],\n",
       "        [51.698814]],\n",
       "\n",
       "       [[41.72303 ],\n",
       "        [56.407173],\n",
       "        [56.407173],\n",
       "        ...,\n",
       "        [58.09696 ],\n",
       "        [57.671185],\n",
       "        [35.680103]]], dtype=float32)"
      ]
     },
     "execution_count": 60,
     "metadata": {},
     "output_type": "execute_result"
    }
   ],
   "source": []
  },
  {
   "cell_type": "code",
   "execution_count": 62,
   "metadata": {
    "colab": {
     "base_uri": "https://localhost:8080/"
    },
    "id": "i4nMGas-uy5x",
    "outputId": "1b210bd6-6cc6-4b56-ac45-aa272e7f9265"
   },
   "outputs": [
    {
     "data": {
      "text/plain": [
       "array([[[[0.1543936 ],\n",
       "         [0.20746356],\n",
       "         [0.20746356],\n",
       "         ...,\n",
       "         [0.20746356],\n",
       "         [0.20746356],\n",
       "         [0.12525836]],\n",
       "\n",
       "        [[0.23154998],\n",
       "         [0.31599703],\n",
       "         [0.31599703],\n",
       "         ...,\n",
       "         [0.31599703],\n",
       "         [0.31599703],\n",
       "         [0.19800253]],\n",
       "\n",
       "        [[0.23154998],\n",
       "         [0.31599703],\n",
       "         [0.31599703],\n",
       "         ...,\n",
       "         [0.31599703],\n",
       "         [0.31599703],\n",
       "         [0.19800253]],\n",
       "\n",
       "        ...,\n",
       "\n",
       "        [[0.23154998],\n",
       "         [0.31599703],\n",
       "         [0.31599703],\n",
       "         ...,\n",
       "         [0.31599703],\n",
       "         [0.31599703],\n",
       "         [0.19800253]],\n",
       "\n",
       "        [[0.23154998],\n",
       "         [0.31599703],\n",
       "         [0.31599703],\n",
       "         ...,\n",
       "         [0.31599703],\n",
       "         [0.31599703],\n",
       "         [0.19800253]],\n",
       "\n",
       "        [[0.16361973],\n",
       "         [0.2212046 ],\n",
       "         [0.2212046 ],\n",
       "         ...,\n",
       "         [0.2212046 ],\n",
       "         [0.2212046 ],\n",
       "         [0.13739559]]],\n",
       "\n",
       "\n",
       "       [[[0.1543936 ],\n",
       "         [0.20746356],\n",
       "         [0.20746356],\n",
       "         ...,\n",
       "         [0.20746356],\n",
       "         [0.20746356],\n",
       "         [0.12525836]],\n",
       "\n",
       "        [[0.23154998],\n",
       "         [0.31599703],\n",
       "         [0.31599703],\n",
       "         ...,\n",
       "         [0.31599703],\n",
       "         [0.31599703],\n",
       "         [0.19800253]],\n",
       "\n",
       "        [[0.23154998],\n",
       "         [0.31599703],\n",
       "         [0.31599703],\n",
       "         ...,\n",
       "         [0.31599703],\n",
       "         [0.31599703],\n",
       "         [0.19800253]],\n",
       "\n",
       "        ...,\n",
       "\n",
       "        [[0.23154998],\n",
       "         [0.31599703],\n",
       "         [0.31599703],\n",
       "         ...,\n",
       "         [0.31599703],\n",
       "         [0.31599703],\n",
       "         [0.19800253]],\n",
       "\n",
       "        [[0.23154998],\n",
       "         [0.31599703],\n",
       "         [0.31599703],\n",
       "         ...,\n",
       "         [0.31599703],\n",
       "         [0.31599703],\n",
       "         [0.19800253]],\n",
       "\n",
       "        [[0.16361973],\n",
       "         [0.2212046 ],\n",
       "         [0.2212046 ],\n",
       "         ...,\n",
       "         [0.2212046 ],\n",
       "         [0.2212046 ],\n",
       "         [0.13739559]]],\n",
       "\n",
       "\n",
       "       [[[0.1543936 ],\n",
       "         [0.20746356],\n",
       "         [0.20746356],\n",
       "         ...,\n",
       "         [0.20746356],\n",
       "         [0.20746356],\n",
       "         [0.12525836]],\n",
       "\n",
       "        [[0.23154998],\n",
       "         [0.31599703],\n",
       "         [0.31599703],\n",
       "         ...,\n",
       "         [0.31599703],\n",
       "         [0.31599703],\n",
       "         [0.19800253]],\n",
       "\n",
       "        [[0.23154998],\n",
       "         [0.31599703],\n",
       "         [0.31599703],\n",
       "         ...,\n",
       "         [0.31599703],\n",
       "         [0.31599703],\n",
       "         [0.19800253]],\n",
       "\n",
       "        ...,\n",
       "\n",
       "        [[0.23154998],\n",
       "         [0.31599703],\n",
       "         [0.31599703],\n",
       "         ...,\n",
       "         [0.31599703],\n",
       "         [0.31599703],\n",
       "         [0.19800253]],\n",
       "\n",
       "        [[0.23154998],\n",
       "         [0.31599703],\n",
       "         [0.31599703],\n",
       "         ...,\n",
       "         [0.31599703],\n",
       "         [0.31599703],\n",
       "         [0.19800253]],\n",
       "\n",
       "        [[0.16361973],\n",
       "         [0.2212046 ],\n",
       "         [0.2212046 ],\n",
       "         ...,\n",
       "         [0.2212046 ],\n",
       "         [0.2212046 ],\n",
       "         [0.13739559]]],\n",
       "\n",
       "\n",
       "       ...,\n",
       "\n",
       "\n",
       "       [[[0.1543936 ],\n",
       "         [0.20746356],\n",
       "         [0.20746356],\n",
       "         ...,\n",
       "         [0.20746356],\n",
       "         [0.20746356],\n",
       "         [0.12525836]],\n",
       "\n",
       "        [[0.23154998],\n",
       "         [0.31599703],\n",
       "         [0.31599703],\n",
       "         ...,\n",
       "         [0.31599703],\n",
       "         [0.31599703],\n",
       "         [0.19800253]],\n",
       "\n",
       "        [[0.23154998],\n",
       "         [0.31599703],\n",
       "         [0.31599703],\n",
       "         ...,\n",
       "         [0.31599703],\n",
       "         [0.31599703],\n",
       "         [0.19800253]],\n",
       "\n",
       "        ...,\n",
       "\n",
       "        [[0.23154998],\n",
       "         [0.31599703],\n",
       "         [0.31599703],\n",
       "         ...,\n",
       "         [0.31599703],\n",
       "         [0.31599703],\n",
       "         [0.19800253]],\n",
       "\n",
       "        [[0.23154998],\n",
       "         [0.31599703],\n",
       "         [0.31599703],\n",
       "         ...,\n",
       "         [0.31599703],\n",
       "         [0.31599703],\n",
       "         [0.19800253]],\n",
       "\n",
       "        [[0.16361973],\n",
       "         [0.2212046 ],\n",
       "         [0.2212046 ],\n",
       "         ...,\n",
       "         [0.2212046 ],\n",
       "         [0.2212046 ],\n",
       "         [0.13739559]]],\n",
       "\n",
       "\n",
       "       [[[0.1543936 ],\n",
       "         [0.20746356],\n",
       "         [0.20746356],\n",
       "         ...,\n",
       "         [0.20746356],\n",
       "         [0.20746356],\n",
       "         [0.12525836]],\n",
       "\n",
       "        [[0.23154998],\n",
       "         [0.31599703],\n",
       "         [0.31599703],\n",
       "         ...,\n",
       "         [0.31599703],\n",
       "         [0.31599703],\n",
       "         [0.19800253]],\n",
       "\n",
       "        [[0.23154998],\n",
       "         [0.31599703],\n",
       "         [0.31599703],\n",
       "         ...,\n",
       "         [0.31599703],\n",
       "         [0.31599703],\n",
       "         [0.19800253]],\n",
       "\n",
       "        ...,\n",
       "\n",
       "        [[0.23154998],\n",
       "         [0.31599703],\n",
       "         [0.31599703],\n",
       "         ...,\n",
       "         [0.31599703],\n",
       "         [0.31599703],\n",
       "         [0.19800253]],\n",
       "\n",
       "        [[0.23154998],\n",
       "         [0.31599703],\n",
       "         [0.31599703],\n",
       "         ...,\n",
       "         [0.31599703],\n",
       "         [0.31599703],\n",
       "         [0.19800253]],\n",
       "\n",
       "        [[0.16361973],\n",
       "         [0.2212046 ],\n",
       "         [0.2212046 ],\n",
       "         ...,\n",
       "         [0.2212046 ],\n",
       "         [0.2212046 ],\n",
       "         [0.13739559]]],\n",
       "\n",
       "\n",
       "       [[[0.1543936 ],\n",
       "         [0.20746356],\n",
       "         [0.20746356],\n",
       "         ...,\n",
       "         [0.20746356],\n",
       "         [0.20746356],\n",
       "         [0.12525836]],\n",
       "\n",
       "        [[0.23154998],\n",
       "         [0.31599703],\n",
       "         [0.31599703],\n",
       "         ...,\n",
       "         [0.31599703],\n",
       "         [0.31599703],\n",
       "         [0.19800253]],\n",
       "\n",
       "        [[0.23154998],\n",
       "         [0.31599703],\n",
       "         [0.31599703],\n",
       "         ...,\n",
       "         [0.31599703],\n",
       "         [0.31599703],\n",
       "         [0.19800253]],\n",
       "\n",
       "        ...,\n",
       "\n",
       "        [[0.23154998],\n",
       "         [0.31599703],\n",
       "         [0.31599703],\n",
       "         ...,\n",
       "         [0.31599703],\n",
       "         [0.31599703],\n",
       "         [0.19800253]],\n",
       "\n",
       "        [[0.23154998],\n",
       "         [0.31599703],\n",
       "         [0.31599703],\n",
       "         ...,\n",
       "         [0.31599703],\n",
       "         [0.31599703],\n",
       "         [0.19800253]],\n",
       "\n",
       "        [[0.16361973],\n",
       "         [0.2212046 ],\n",
       "         [0.2212046 ],\n",
       "         ...,\n",
       "         [0.2212046 ],\n",
       "         [0.2212046 ],\n",
       "         [0.13739559]]]], dtype=float32)"
      ]
     },
     "execution_count": 62,
     "metadata": {},
     "output_type": "execute_result"
    }
   ],
   "source": [
    "model.predict(train_x[:10])"
   ]
  },
  {
   "cell_type": "code",
   "execution_count": 94,
   "metadata": {
    "colab": {
     "base_uri": "https://localhost:8080/"
    },
    "id": "A7rwghZNFKBS",
    "outputId": "1a46d695-3805-41fc-9f53-e8cbb5892549"
   },
   "outputs": [
    {
     "data": {
      "text/plain": [
       "array([[  15.,  442., 1095., 1467.],\n",
       "       [ 327.,  543.,  904.,  834.],\n",
       "       [ 112.,  184.,  398.,  403.],\n",
       "       [   9.,  147.,  288.,  208.],\n",
       "       [  29.,  242.,  314.,  467.],\n",
       "       [  56.,  336.,  702.,  609.],\n",
       "       [  46.,  408.,  578.,  539.],\n",
       "       [  51.,  373.,  693.,  612.],\n",
       "       [  36.,  205.,  441.,  454.],\n",
       "       [  44.,  531.,  985.,  791.]])"
      ]
     },
     "execution_count": 94,
     "metadata": {},
     "output_type": "execute_result"
    }
   ],
   "source": [
    "train_y[:10]"
   ]
  },
  {
   "cell_type": "code",
   "execution_count": null,
   "metadata": {},
   "outputs": [],
   "source": [
    "\"\"\"Model: \"sequential_4\"\n",
    "_________________________________________________________________\n",
    "Layer (type)                 Output Shape              Param #   \n",
    "=================================================================\n",
    "conv2d_7 (Conv2D)            (None, 254, 254, 32)      320       \n",
    "_________________________________________________________________\n",
    "dropout_12 (Dropout)         (None, 254, 254, 32)      0         \n",
    "_________________________________________________________________\n",
    "max_pooling2d_4 (MaxPooling2 (None, 63, 63, 32)        0         \n",
    "_________________________________________________________________\n",
    "flatten_4 (Flatten)          (None, 127008)            0         \n",
    "_________________________________________________________________\n",
    "dropout_13 (Dropout)         (None, 127008)            0         \n",
    "_________________________________________________________________\n",
    "dense_8 (Dense)              (None, 32)                4064288   \n",
    "_________________________________________________________________\n",
    "dropout_14 (Dropout)         (None, 32)                0         \n",
    "_________________________________________________________________\n",
    "dense_9 (Dense)              (None, 4)                 132       \n",
    "=================================================================\n",
    "Total params: 4,064,740\n",
    "Trainable params: 4,064,740\n",
    "Non-trainable params: 0\n",
    " 1s 8ms/step - loss: 147662.7812 - mean_squared_error: 147662.7812 - val_loss: 19557.9668 - val_mean_squared_error: 19557.9668\"\"\""
   ]
  },
  {
   "cell_type": "code",
   "execution_count": null,
   "metadata": {},
   "outputs": [],
   "source": []
  }
 ],
 "metadata": {
  "accelerator": "GPU",
  "colab": {
   "collapsed_sections": [],
   "name": "mask.ipynb",
   "provenance": []
  },
  "kernelspec": {
   "display_name": "Python 3",
   "language": "python",
   "name": "python3"
  },
  "language_info": {
   "codemirror_mode": {
    "name": "ipython",
    "version": 3
   },
   "file_extension": ".py",
   "mimetype": "text/x-python",
   "name": "python",
   "nbconvert_exporter": "python",
   "pygments_lexer": "ipython3",
   "version": "3.7.9"
  }
 },
 "nbformat": 4,
 "nbformat_minor": 1
}
