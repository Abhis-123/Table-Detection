{
 "cells": [
  {
   "cell_type": "code",
   "execution_count": 1,
   "metadata": {},
   "outputs": [],
   "source": [
    "import sys\n",
    "import os\n",
    "import cv2\n",
    "import shutil\n",
    "import numpy as np\n",
    "import pandas as pd\n",
    "import matplotlib.pyplot as plt \n",
    "import string\n",
    "import pickle\n",
    "import xml.etree.ElementTree as ET\n",
    "import xmltodict"
   ]
  },
  {
   "cell_type": "code",
   "execution_count": 2,
   "metadata": {},
   "outputs": [],
   "source": [
    "MIN_WIDTH_BOX=5\n",
    "MIN_HEIGHT_BOX=5\n",
    "def sanitize_coord(coordinates, width, height):\n",
    "    \"\"\"\n",
    "    points are: [[xmin, ymin], [xmax, ymin], [xmin, ymax], [xmax, ymax]]\n",
    "    it sanitize the coordinates that are extracted from a xml file. Valid for this dataset,\n",
    "    to be updated in case the dataset changes\n",
    "    Returning as dict: xmin, ymin, xmax, ymax\n",
    "    :param coordinates:[[xmin, ymin], [xmax, ymin], [xmin, ymax], [xmax, ymax]]\n",
    "    :return: dict with xmin, ymin, xmax, ymax coordinates\n",
    "    \"\"\"\n",
    "    coordinates = coordinates.split()\n",
    "    points = []\n",
    "    for point in coordinates:\n",
    "        point = point.split(',')\n",
    "        points.append(point)\n",
    "    new_points = {\n",
    "        'xmin': points[0][0],\n",
    "        'ymin': points[0][1],\n",
    "        'xmax': points[3][0],\n",
    "        'ymax': points[3][1]\n",
    "    }\n",
    "    # logger.info(new_points)\n",
    "    # logger.info('width: {w}, height: {h}'.format(w=width, h=height))\n",
    "    # check if coords are inverted\n",
    "    if int(new_points['ymin']) > int(new_points['ymax']):\n",
    "        logger.info('I found you y!')\n",
    "        temp = int(new_points['ymin'])\n",
    "        new_points['ymin'] = int(new_points['ymax'])\n",
    "        new_points['ymax'] = temp\n",
    "    if int(new_points['xmin']) > int(new_points['xmax']):\n",
    "        logger.info('I found you x!')\n",
    "        temp = new_points['xmin']\n",
    "        new_points['xmin'] = int(new_points['xmax'])\n",
    "        new_points['xmax'] = temp\n",
    "    if int(new_points['ymin']) < 0:\n",
    "        logger.info('Found some ymin at zero:')\n",
    "        new_points['ymin'] = 0\n",
    "    if int(new_points['xmin']) < 0:\n",
    "        logger.info('Found some xmin at zero')\n",
    "        new_points['xmin'] = 0\n",
    "    if int(new_points['ymax']) > height:\n",
    "        logger.info('Found some ymax beyond height: \\nwidth: {w}, height: {h}\\nnew_point[\"ymax\"]: {npyx}' \\\n",
    "                    .format(w=width, h=height, npyx=new_points['ymax']))\n",
    "        new_points['ymax'] = height\n",
    "    if int(new_points['xmax']) > width:\n",
    "        logger.info('Found some xmax beyond height: \\nwidth: {w}, height: {h}\\nnew_point[\"xmax\"]: {npxx}' \\\n",
    "                    .format(w=width, h=height, npxx=new_points['xmax']))\n",
    "        new_points['xmax'] = width\n",
    "\n",
    "    if (int(new_points['xmax']) - int(new_points['xmin'])) < MIN_WIDTH_BOX or \\\n",
    "            (int(new_points['ymax']) - int(new_points['ymin'])) < MIN_HEIGHT_BOX:\n",
    "        logger.info('Box {} was too small. Going to delete it'.format(new_points))\n",
    "        new_points = None\n",
    "    return new_points"
   ]
  },
  {
   "cell_type": "code",
   "execution_count": 3,
   "metadata": {},
   "outputs": [],
   "source": [
    "def read_xml(path):\n",
    "    # Read file \n",
    "    xml_data=open(path).read()\n",
    "    # return dictionary of the file\n",
    "    xmlDict=xmltodict.parse(xml_data)\n",
    "    return xmlDict  "
   ]
  },
  {
   "cell_type": "code",
   "execution_count": 4,
   "metadata": {},
   "outputs": [],
   "source": [
    "# dict={xmin:values,}\n",
    "def drawrect_cv(image,list,rect_color=(0,0,0),rect_width=2):\n",
    "    for dict in list:\n",
    "        xmin=dict['xmin']\n",
    "        ymin=dict['ymin']\n",
    "        xmax=dict['xmax']\n",
    "        ymax=dict['ymax']\n",
    "        rect_color=(0,0,0) \n",
    "        rect_width=2\n",
    "        cv2.rectangle(image,\n",
    "                      (int(xmin),int(ymax)),\n",
    "                      (int(xmax),int(ymin)),\n",
    "                      rect_color,\n",
    "                      rect_width)  \n",
    "    cv2.imshow('image',image) \n",
    "    cv2.waitKey(0)    \n",
    "from matplotlib.patches import Rectangle \n",
    "\n",
    "def drawrect_plt(img,list,rect_color=(0,0,0),rect_width=2):\n",
    "    plt.imshow(img)\n",
    "    for dict in list:\n",
    "        xmin=int(dict['xmin'])\n",
    "        ymin=int(dict['ymin'])\n",
    "        xmax=int(dict['xmax'])\n",
    "        ymax=int(dict['ymax'])\n",
    "        #plt.imshow(img[:,:,0])\n",
    "        #plt.imshow(img[:,:,1])\n",
    "        ax = plt.gca()\n",
    "        rect = Rectangle((xmin,ymin),\n",
    "                     (xmax-xmin),\n",
    "                     (ymax-ymin),\n",
    "                     linewidth=1,\n",
    "                     edgecolor='r',\n",
    "                     facecolor='none')\n",
    "        ax.add_patch(rect)\n",
    "        "
   ]
  },
  {
   "cell_type": "code",
   "execution_count": 5,
   "metadata": {},
   "outputs": [],
   "source": [
    "folderpath = 'data/images'\n",
    "files = os.listdir(folderpath)"
   ]
  },
  {
   "cell_type": "code",
   "execution_count": 6,
   "metadata": {},
   "outputs": [],
   "source": [
    "df=pd.DataFrame(files,columns=['filename'])\n",
    "df['imagefilepath']='data/images/'+df['filename']\n",
    "df['targetfilepath']='data/labels/'+df['filename'].apply(lambda x:x.replace('PNG','xml'))"
   ]
  },
  {
   "cell_type": "code",
   "execution_count": 7,
   "metadata": {},
   "outputs": [
    {
     "data": {
      "text/html": [
       "<div>\n",
       "<style scoped>\n",
       "    .dataframe tbody tr th:only-of-type {\n",
       "        vertical-align: middle;\n",
       "    }\n",
       "\n",
       "    .dataframe tbody tr th {\n",
       "        vertical-align: top;\n",
       "    }\n",
       "\n",
       "    .dataframe thead th {\n",
       "        text-align: right;\n",
       "    }\n",
       "</style>\n",
       "<table border=\"1\" class=\"dataframe\">\n",
       "  <thead>\n",
       "    <tr style=\"text-align: right;\">\n",
       "      <th></th>\n",
       "      <th>filename</th>\n",
       "      <th>imagefilepath</th>\n",
       "      <th>targetfilepath</th>\n",
       "    </tr>\n",
       "  </thead>\n",
       "  <tbody>\n",
       "    <tr>\n",
       "      <th>0</th>\n",
       "      <td>00001.PNG</td>\n",
       "      <td>data/images/00001.PNG</td>\n",
       "      <td>data/labels/00001.xml</td>\n",
       "    </tr>\n",
       "    <tr>\n",
       "      <th>1</th>\n",
       "      <td>00005.PNG</td>\n",
       "      <td>data/images/00005.PNG</td>\n",
       "      <td>data/labels/00005.xml</td>\n",
       "    </tr>\n",
       "    <tr>\n",
       "      <th>2</th>\n",
       "      <td>00006.PNG</td>\n",
       "      <td>data/images/00006.PNG</td>\n",
       "      <td>data/labels/00006.xml</td>\n",
       "    </tr>\n",
       "    <tr>\n",
       "      <th>3</th>\n",
       "      <td>00008.PNG</td>\n",
       "      <td>data/images/00008.PNG</td>\n",
       "      <td>data/labels/00008.xml</td>\n",
       "    </tr>\n",
       "    <tr>\n",
       "      <th>4</th>\n",
       "      <td>00009.PNG</td>\n",
       "      <td>data/images/00009.PNG</td>\n",
       "      <td>data/labels/00009.xml</td>\n",
       "    </tr>\n",
       "  </tbody>\n",
       "</table>\n",
       "</div>"
      ],
      "text/plain": [
       "    filename          imagefilepath         targetfilepath\n",
       "0  00001.PNG  data/images/00001.PNG  data/labels/00001.xml\n",
       "1  00005.PNG  data/images/00005.PNG  data/labels/00005.xml\n",
       "2  00006.PNG  data/images/00006.PNG  data/labels/00006.xml\n",
       "3  00008.PNG  data/images/00008.PNG  data/labels/00008.xml\n",
       "4  00009.PNG  data/images/00009.PNG  data/labels/00009.xml"
      ]
     },
     "execution_count": 7,
     "metadata": {},
     "output_type": "execute_result"
    }
   ],
   "source": [
    "df.head()"
   ]
  },
  {
   "cell_type": "code",
   "execution_count": 8,
   "metadata": {},
   "outputs": [],
   "source": [
    "def getimagedimention(xmlpath):\n",
    "    xmldata=read_xml(xmlpath)\n",
    "    dimention=xmldata['annotation']['size']\n",
    "    return list((dimention['width'],dimention['height'],dimention['depth']))"
   ]
  },
  {
   "cell_type": "code",
   "execution_count": 9,
   "metadata": {},
   "outputs": [],
   "source": [
    "df['imagesize']=df['targetfilepath'].apply(getimagedimention)"
   ]
  },
  {
   "cell_type": "code",
   "execution_count": 10,
   "metadata": {},
   "outputs": [],
   "source": [
    "def getbndboxdimention(xmlpath):\n",
    "    xmldata=read_xml(xmlpath)\n",
    "    l=[]\n",
    "    o=xmldata['annotation']['object']\n",
    "    dimention=o\n",
    "    if isinstance(o,type(l)):\n",
    "        return dimention\n",
    "    else:\n",
    "        l.append(dimention)\n",
    "        return l   "
   ]
  },
  {
   "cell_type": "code",
   "execution_count": 11,
   "metadata": {},
   "outputs": [],
   "source": [
    "def gettablecount(xmlpath):\n",
    "    xmldata=read_xml(xmlpath)\n",
    "    o=xmldata['annotation']['object']\n",
    "    if isinstance(o,list):\n",
    "        return len(o)\n",
    "    else:\n",
    "        return 1"
   ]
  },
  {
   "cell_type": "code",
   "execution_count": 12,
   "metadata": {},
   "outputs": [],
   "source": [
    "df['tablecount']=df['targetfilepath'].apply(gettablecount)"
   ]
  },
  {
   "cell_type": "code",
   "execution_count": 13,
   "metadata": {},
   "outputs": [],
   "source": [
    "df['tables']=df['targetfilepath'].apply(getbndboxdimention)"
   ]
  },
  {
   "cell_type": "code",
   "execution_count": 14,
   "metadata": {},
   "outputs": [],
   "source": [
    "def getlimits(listoftables):\n",
    "    limits=[]\n",
    "    for x in listoftables:\n",
    "        x=x['bndbox']\n",
    "        limits.append([x['xmin'],x['ymin'],x['xmax'],x['ymax']])\n",
    "    return limits"
   ]
  },
  {
   "cell_type": "code",
   "execution_count": 15,
   "metadata": {},
   "outputs": [
    {
     "data": {
      "text/html": [
       "<div>\n",
       "<style scoped>\n",
       "    .dataframe tbody tr th:only-of-type {\n",
       "        vertical-align: middle;\n",
       "    }\n",
       "\n",
       "    .dataframe tbody tr th {\n",
       "        vertical-align: top;\n",
       "    }\n",
       "\n",
       "    .dataframe thead th {\n",
       "        text-align: right;\n",
       "    }\n",
       "</style>\n",
       "<table border=\"1\" class=\"dataframe\">\n",
       "  <thead>\n",
       "    <tr style=\"text-align: right;\">\n",
       "      <th></th>\n",
       "      <th>filename</th>\n",
       "      <th>imagefilepath</th>\n",
       "      <th>targetfilepath</th>\n",
       "      <th>imagesize</th>\n",
       "      <th>tablecount</th>\n",
       "      <th>tables</th>\n",
       "      <th>bndboxlim</th>\n",
       "    </tr>\n",
       "  </thead>\n",
       "  <tbody>\n",
       "    <tr>\n",
       "      <th>0</th>\n",
       "      <td>00001.PNG</td>\n",
       "      <td>data/images/00001.PNG</td>\n",
       "      <td>data/labels/00001.xml</td>\n",
       "      <td>[1126, 1596, 3]</td>\n",
       "      <td>1</td>\n",
       "      <td>[{'name': 'Table', 'pose': 'Unspecified', 'tru...</td>\n",
       "      <td>[[15, 442, 1095, 1467]]</td>\n",
       "    </tr>\n",
       "    <tr>\n",
       "      <th>1</th>\n",
       "      <td>00005.PNG</td>\n",
       "      <td>data/images/00005.PNG</td>\n",
       "      <td>data/labels/00005.xml</td>\n",
       "      <td>[1063, 844, 3]</td>\n",
       "      <td>1</td>\n",
       "      <td>[{'name': 'Table', 'pose': 'Unspecified', 'tru...</td>\n",
       "      <td>[[327, 543, 904, 834]]</td>\n",
       "    </tr>\n",
       "    <tr>\n",
       "      <th>2</th>\n",
       "      <td>00006.PNG</td>\n",
       "      <td>data/images/00006.PNG</td>\n",
       "      <td>data/labels/00006.xml</td>\n",
       "      <td>[682, 845, 3]</td>\n",
       "      <td>5</td>\n",
       "      <td>[{'name': 'Table', 'pose': 'Unspecified', 'tru...</td>\n",
       "      <td>[[18, 56, 267, 256], [331, 111, 572, 251], [15...</td>\n",
       "    </tr>\n",
       "  </tbody>\n",
       "</table>\n",
       "</div>"
      ],
      "text/plain": [
       "    filename          imagefilepath         targetfilepath        imagesize  \\\n",
       "0  00001.PNG  data/images/00001.PNG  data/labels/00001.xml  [1126, 1596, 3]   \n",
       "1  00005.PNG  data/images/00005.PNG  data/labels/00005.xml   [1063, 844, 3]   \n",
       "2  00006.PNG  data/images/00006.PNG  data/labels/00006.xml    [682, 845, 3]   \n",
       "\n",
       "   tablecount                                             tables  \\\n",
       "0           1  [{'name': 'Table', 'pose': 'Unspecified', 'tru...   \n",
       "1           1  [{'name': 'Table', 'pose': 'Unspecified', 'tru...   \n",
       "2           5  [{'name': 'Table', 'pose': 'Unspecified', 'tru...   \n",
       "\n",
       "                                           bndboxlim  \n",
       "0                            [[15, 442, 1095, 1467]]  \n",
       "1                             [[327, 543, 904, 834]]  \n",
       "2  [[18, 56, 267, 256], [331, 111, 572, 251], [15...  "
      ]
     },
     "execution_count": 15,
     "metadata": {},
     "output_type": "execute_result"
    }
   ],
   "source": [
    "df['bndboxlim']=df['tables'].apply(getlimits)\n",
    "df.head(3)"
   ]
  },
  {
   "cell_type": "code",
   "execution_count": 16,
   "metadata": {},
   "outputs": [
    {
     "ename": "TypeError",
     "evalue": "write() argument must be str, not bytes",
     "output_type": "error",
     "traceback": [
      "\u001b[1;31m---------------------------------------------------------------------------\u001b[0m",
      "\u001b[1;31mTypeError\u001b[0m                                 Traceback (most recent call last)",
      "\u001b[1;32m<ipython-input-16-1e5e4bf9e7a5>\u001b[0m in \u001b[0;36m<module>\u001b[1;34m\u001b[0m\n\u001b[0;32m      1\u001b[0m \u001b[1;32mwith\u001b[0m \u001b[0mopen\u001b[0m\u001b[1;33m(\u001b[0m\u001b[1;34m\"data/records.pkl\"\u001b[0m\u001b[1;33m,\u001b[0m \u001b[1;34m\"a\"\u001b[0m\u001b[1;33m)\u001b[0m \u001b[1;32mas\u001b[0m \u001b[0mf\u001b[0m\u001b[1;33m:\u001b[0m\u001b[1;33m\u001b[0m\u001b[1;33m\u001b[0m\u001b[0m\n\u001b[1;32m----> 2\u001b[1;33m     \u001b[0mpickle\u001b[0m\u001b[1;33m.\u001b[0m\u001b[0mdump\u001b[0m\u001b[1;33m(\u001b[0m\u001b[0mdf\u001b[0m\u001b[1;33m,\u001b[0m\u001b[0mf\u001b[0m\u001b[1;33m)\u001b[0m\u001b[1;33m\u001b[0m\u001b[1;33m\u001b[0m\u001b[0m\n\u001b[0m",
      "\u001b[1;31mTypeError\u001b[0m: write() argument must be str, not bytes"
     ]
    }
   ],
   "source": [
    "with open(\"data/records.pkl\", \"a\") as f:\n",
    "    pickle.dump(df,f)"
   ]
  },
  {
   "cell_type": "code",
   "execution_count": null,
   "metadata": {},
   "outputs": [],
   "source": []
  },
  {
   "cell_type": "code",
   "execution_count": null,
   "metadata": {},
   "outputs": [],
   "source": []
  }
 ],
 "metadata": {
  "kernelspec": {
   "display_name": "Python 3",
   "language": "python",
   "name": "python3"
  },
  "language_info": {
   "codemirror_mode": {
    "name": "ipython",
    "version": 3
   },
   "file_extension": ".py",
   "mimetype": "text/x-python",
   "name": "python",
   "nbconvert_exporter": "python",
   "pygments_lexer": "ipython3",
   "version": "3.7.9"
  }
 },
 "nbformat": 4,
 "nbformat_minor": 4
}
