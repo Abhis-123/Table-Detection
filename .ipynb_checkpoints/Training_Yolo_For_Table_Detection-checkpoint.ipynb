{
 "cells": [
  {
   "cell_type": "markdown",
   "metadata": {
    "id": "kJ5ivb8Sd3jA"
   },
   "source": [
    "# Custom Training with YOLOv5\n",
    "\n",
    "In this tutorial, we assemble a dataset and train a custom YOLOv5 model to recognize the objects in our dataset. To do so we will take the following steps:\n",
    "\n",
    "* Gather a dataset of images and label our dataset\n",
    "* Export our dataset to YOLOv5\n",
    "* Train YOLOv5 to recognize the objects in our dataset\n",
    "* Evaluate our YOLOv5 model's performance\n",
    "* Run test inference to view our model at work\n",
    "\n",
    "\n",
    "\n",
    "![](https://uploads-ssl.webflow.com/5f6bc60e665f54545a1e52a5/615627e5824c9c6195abfda9_computer-vision-cycle.png)"
   ]
  },
  {
   "cell_type": "code",
   "execution_count": 1,
   "metadata": {
    "colab": {
     "base_uri": "https://localhost:8080/"
    },
    "id": "Y3Z3wTuFd1Td",
    "outputId": "ccc30ad4-0074-4c6c-cd33-9050e2893bf7"
   },
   "outputs": [],
   "source": [
    "# !rm -r Table-Detection\n",
    "# !git clone https://github.com/Abhis-123/Table-Detection"
   ]
  },
  {
   "cell_type": "code",
   "execution_count": 2,
   "metadata": {
    "colab": {
     "base_uri": "https://localhost:8080/"
    },
    "id": "LEdM_v5dee8F",
    "outputId": "166927c3-2657-4bbb-ddaa-7be9b212f20c"
   },
   "outputs": [],
   "source": [
    "#%cd \"Table-Detection/\""
   ]
  },
  {
   "cell_type": "code",
   "execution_count": 3,
   "metadata": {
    "colab": {
     "base_uri": "https://localhost:8080/"
    },
    "id": "JffgqqrfmFEw",
    "outputId": "a5ee3239-a4e5-42c2-ad94-fd1d5527a35b"
   },
   "outputs": [
    {
     "name": "stdout",
     "output_type": "stream",
     "text": [
      "Requirement already satisfied: xmltodict in d:\\anaconda3\\lib\\site-packages (0.12.0)\n"
     ]
    }
   ],
   "source": [
    "!pip install xmltodict"
   ]
  },
  {
   "cell_type": "code",
   "execution_count": 4,
   "metadata": {
    "colab": {
     "base_uri": "https://localhost:8080/"
    },
    "id": "Gox3kRNZftcs",
    "outputId": "e11d6654-10b6-4a45-ea7b-f0bb56d61735"
   },
   "outputs": [
    {
     "name": "stdout",
     "output_type": "stream",
     "text": [
      " Volume in drive C is Windows-SSD\n",
      " Volume Serial Number is B694-0475\n",
      "\n",
      " Directory of C:\\Users\\Abhishek pandir\\ML\\Table Detection\n",
      "\n",
      "12/03/2021  03:17 PM    <DIR>          .\n",
      "12/03/2021  03:17 PM    <DIR>          ..\n",
      "12/03/2021  10:38 AM                66 .gitattributes\n",
      "12/03/2021  03:14 PM             1,452 .gitignore\n",
      "09/07/2021  03:13 PM    <DIR>          .ipynb_checkpoints\n",
      "12/02/2021  09:00 PM    <DIR>          .vscode\n",
      "12/02/2021  09:43 PM    <DIR>          __pycache__\n",
      "12/03/2021  12:56 PM    <DIR>          dataset\n",
      "12/03/2021  10:10 AM    <DIR>          helper\n",
      "12/03/2021  10:38 AM             1,086 LICENSE\n",
      "12/02/2021  08:58 PM    <DIR>          old\n",
      "12/03/2021  10:38 AM               256 Readme.md\n",
      "12/03/2021  02:34 PM            18,009 setup.ipynb\n",
      "12/03/2021  03:13 PM             4,566 setup.py\n",
      "12/03/2021  02:34 PM             1,362 train.ipynb\n",
      "12/03/2021  03:17 PM            22,093 Training_Yolo_For_Table_Detection.ipynb\n",
      "12/03/2021  03:00 PM               217 yolo.yaml\n",
      "12/03/2021  02:02 PM    <DIR>          yolo_cache\n",
      "12/03/2021  03:15 PM    <DIR>          yolov5\n",
      "               9 File(s)         49,107 bytes\n",
      "              10 Dir(s)  16,768,503,808 bytes free\n"
     ]
    }
   ],
   "source": [
    "%ls"
   ]
  },
  {
   "cell_type": "code",
   "execution_count": 6,
   "metadata": {
    "colab": {
     "base_uri": "https://localhost:8080/"
    },
    "id": "jtpxvX9Ziwfr",
    "outputId": "f6c4e327-0db8-45d1-bdab-abed782255e5"
   },
   "outputs": [
    {
     "name": "stdout",
     "output_type": "stream",
     "text": [
      "Missing: 0\n",
      "\n",
      "yaml:\n",
      "names:\n",
      "- table\n",
      "nc: 1\n",
      "path: C:\\Users\\Abhishek pandir\\ML\\Table Detection\n",
      "train: C:\\Users\\Abhishek pandir\\ML\\Table Detection\\yolo_cache\\train.txt\n",
      "val: C:\\Users\\Abhishek pandir\\ML\\Table Detection\\yolo_cache\\val.txt\n",
      "\n"
     ]
    },
    {
     "name": "stderr",
     "output_type": "stream",
     "text": [
      "\n",
      "  0%|          | 0/340 [00:00<?, ?it/s]\n",
      " 56%|#####5    | 189/340 [00:00<00:00, 1889.97it/s]\n",
      "100%|##########| 340/340 [00:00<00:00, 1888.54it/s]\n"
     ]
    }
   ],
   "source": [
    "!python setup.py"
   ]
  },
  {
   "cell_type": "code",
   "execution_count": 6,
   "metadata": {
    "colab": {
     "base_uri": "https://localhost:8080/"
    },
    "id": "ePw955tLmdZu",
    "outputId": "bcf45fbc-8d69-4adb-cfb7-c3ef6c53cd81"
   },
   "outputs": [
    {
     "name": "stdout",
     "output_type": "stream",
     "text": [
      "/content/Table-Detection\n"
     ]
    }
   ],
   "source": [
    "%cd \"/content/Table-Detection\""
   ]
  },
  {
   "cell_type": "code",
   "execution_count": 7,
   "metadata": {
    "colab": {
     "base_uri": "https://localhost:8080/"
    },
    "id": "wfj_gXwUjK0M",
    "outputId": "e5f0986e-d977-45c3-b491-4f61dca8a54f"
   },
   "outputs": [
    {
     "name": "stdout",
     "output_type": "stream",
     "text": [
      "Cloning into 'yolov5'...\n",
      "remote: Enumerating objects: 10237, done.\u001b[K\n",
      "remote: Total 10237 (delta 0), reused 0 (delta 0), pack-reused 10237\u001b[K\n",
      "Receiving objects: 100% (10237/10237), 10.45 MiB | 23.88 MiB/s, done.\n",
      "Resolving deltas: 100% (7102/7102), done.\n",
      "/content/Table-Detection/yolov5\n"
     ]
    }
   ],
   "source": [
    "!git clone https://github.com/ultralytics/yolov5  # clone repo\n",
    "%cd yolov5\n",
    "%pip install -qr requirements.txt # install dependencies"
   ]
  },
  {
   "cell_type": "code",
   "execution_count": 9,
   "metadata": {
    "colab": {
     "base_uri": "https://localhost:8080/"
    },
    "id": "29SKyB51jG4I",
    "outputId": "762f5468-850e-4c27-918a-bb84e72c00fd"
   },
   "outputs": [
    {
     "name": "stdout",
     "output_type": "stream",
     "text": [
      "\u001b[34m\u001b[1mtrain: \u001b[0mweights=yolov5s.pt, cfg=, data=../yolo.yaml, hyp=data/hyps/hyp.scratch.yaml, epochs=2, batch_size=1, imgsz=256, rect=False, resume=False, nosave=False, noval=False, noautoanchor=False, evolve=None, bucket=, cache=None, image_weights=False, device=, multi_scale=False, single_cls=False, adam=False, sync_bn=False, workers=8, project=runs/train, name=exp, exist_ok=False, quad=False, linear_lr=False, label_smoothing=0.0, patience=100, freeze=0, save_period=-1, local_rank=-1, entity=None, upload_dataset=False, bbox_interval=-1, artifact_alias=latest\n",
      "\u001b[34m\u001b[1mgithub: \u001b[0mup to date with https://github.com/ultralytics/yolov5 ✅\n",
      "YOLOv5 🚀 v6.0-120-g92a7391 torch 1.10.0+cu111 CUDA:0 (Tesla K80, 11441MiB)\n",
      "\n",
      "\u001b[34m\u001b[1mhyperparameters: \u001b[0mlr0=0.01, lrf=0.1, momentum=0.937, weight_decay=0.0005, warmup_epochs=3.0, warmup_momentum=0.8, warmup_bias_lr=0.1, box=0.05, cls=0.5, cls_pw=1.0, obj=1.0, obj_pw=1.0, iou_t=0.2, anchor_t=4.0, fl_gamma=0.0, hsv_h=0.015, hsv_s=0.7, hsv_v=0.4, degrees=0.0, translate=0.1, scale=0.5, shear=0.0, perspective=0.0, flipud=0.0, fliplr=0.5, mosaic=1.0, mixup=0.0, copy_paste=0.0\n",
      "\u001b[34m\u001b[1mWeights & Biases: \u001b[0mrun 'pip install wandb' to automatically track and visualize YOLOv5 🚀 runs (RECOMMENDED)\n",
      "\u001b[34m\u001b[1mTensorBoard: \u001b[0mStart with 'tensorboard --logdir runs/train', view at http://localhost:6006/\n",
      "Overriding model.yaml nc=80 with nc=1\n",
      "\n",
      "                 from  n    params  module                                  arguments                     \n",
      "  0                -1  1      3520  models.common.Conv                      [3, 32, 6, 2, 2]              \n",
      "  1                -1  1     18560  models.common.Conv                      [32, 64, 3, 2]                \n",
      "  2                -1  1     18816  models.common.C3                        [64, 64, 1]                   \n",
      "  3                -1  1     73984  models.common.Conv                      [64, 128, 3, 2]               \n",
      "  4                -1  2    115712  models.common.C3                        [128, 128, 2]                 \n",
      "  5                -1  1    295424  models.common.Conv                      [128, 256, 3, 2]              \n",
      "  6                -1  3    625152  models.common.C3                        [256, 256, 3]                 \n",
      "  7                -1  1   1180672  models.common.Conv                      [256, 512, 3, 2]              \n",
      "  8                -1  1   1182720  models.common.C3                        [512, 512, 1]                 \n",
      "  9                -1  1    656896  models.common.SPPF                      [512, 512, 5]                 \n",
      " 10                -1  1    131584  models.common.Conv                      [512, 256, 1, 1]              \n",
      " 11                -1  1         0  torch.nn.modules.upsampling.Upsample    [None, 2, 'nearest']          \n",
      " 12           [-1, 6]  1         0  models.common.Concat                    [1]                           \n",
      " 13                -1  1    361984  models.common.C3                        [512, 256, 1, False]          \n",
      " 14                -1  1     33024  models.common.Conv                      [256, 128, 1, 1]              \n",
      " 15                -1  1         0  torch.nn.modules.upsampling.Upsample    [None, 2, 'nearest']          \n",
      " 16           [-1, 4]  1         0  models.common.Concat                    [1]                           \n",
      " 17                -1  1     90880  models.common.C3                        [256, 128, 1, False]          \n",
      " 18                -1  1    147712  models.common.Conv                      [128, 128, 3, 2]              \n",
      " 19          [-1, 14]  1         0  models.common.Concat                    [1]                           \n",
      " 20                -1  1    296448  models.common.C3                        [256, 256, 1, False]          \n",
      " 21                -1  1    590336  models.common.Conv                      [256, 256, 3, 2]              \n",
      " 22          [-1, 10]  1         0  models.common.Concat                    [1]                           \n",
      " 23                -1  1   1182720  models.common.C3                        [512, 512, 1, False]          \n",
      " 24      [17, 20, 23]  1     16182  models.yolo.Detect                      [1, [[10, 13, 16, 30, 33, 23], [30, 61, 62, 45, 59, 119], [116, 90, 156, 198, 373, 326]], [128, 256, 512]]\n",
      "Model Summary: 270 layers, 7022326 parameters, 7022326 gradients, 15.8 GFLOPs\n",
      "\n",
      "Transferred 343/349 items from yolov5s.pt\n",
      "Scaled weight_decay = 0.0005\n",
      "\u001b[34m\u001b[1moptimizer:\u001b[0m SGD with parameter groups 57 weight, 60 weight (no decay), 60 bias\n",
      "\u001b[34m\u001b[1malbumentations: \u001b[0mversion 1.0.3 required by YOLOv5, but version 0.1.12 is currently installed\n",
      "\u001b[34m\u001b[1mtrain: \u001b[0mScanning '/content/Table-Detection/yolo_cache/train.cache' images and labels... 300 found, 0 missing, 0 empty, 0 corrupted: 100% 300/300 [00:00<?, ?it/s]\n",
      "\u001b[34m\u001b[1mtrain: \u001b[0mWARNING: /content/Table-Detection/yolo_cache/images/00113.PNG: corrupt JPEG restored and saved\n",
      "\u001b[34m\u001b[1mval: \u001b[0mScanning '/content/Table-Detection/yolo_cache/val.cache' images and labels... 40 found, 0 missing, 0 empty, 0 corrupted: 100% 40/40 [00:00<?, ?it/s]\n",
      "Plotting labels to runs/train/exp2/labels.jpg... \n",
      "\n",
      "\u001b[34m\u001b[1mAutoAnchor: \u001b[0m4.06 anchors/target, 0.998 Best Possible Recall (BPR). Current anchors are a good fit to dataset ✅\n",
      "Image sizes 256 train, 256 val\n",
      "Using 0 dataloader workers\n",
      "Logging results to \u001b[1mruns/train/exp2\u001b[0m\n",
      "Starting training for 2 epochs...\n",
      "\n",
      "     Epoch   gpu_mem       box       obj       cls    labels  img_size\n",
      "       0/1     0.18G    0.1135   0.01532         0         3       256:  19% 56/300 [00:10<00:38,  6.30it/s]libpng warning: iCCP: known incorrect sRGB profile\n",
      "       0/1     0.18G    0.1121   0.01514         0         3       256:  35% 105/300 [00:17<00:25,  7.77it/s]libpng warning: iCCP: known incorrect sRGB profile\n",
      "       0/1     0.18G    0.1076   0.01594         0         4       256:  59% 176/300 [00:28<00:18,  6.60it/s]libpng warning: iCCP: known incorrect sRGB profile\n",
      "       0/1     0.18G    0.1059   0.01632         0         3       256:  70% 211/300 [00:33<00:10,  8.27it/s]libpng warning: iCCP: known incorrect sRGB profile\n",
      "       0/1     0.18G    0.1008   0.01785         0         5       256: 100% 300/300 [00:44<00:00,  6.76it/s]\n",
      "               Class     Images     Labels          P          R     mAP@.5 mAP@.5:.95: 100% 20/20 [00:01<00:00, 18.77it/s]\n",
      "                 all         40         59     0.0795     0.0678      0.023    0.00417\n",
      "\n",
      "     Epoch   gpu_mem       box       obj       cls    labels  img_size\n",
      "       1/1    0.201G   0.08493     0.021         0         5       256:   2% 7/300 [00:01<00:41,  7.10it/s]libpng warning: iCCP: known incorrect sRGB profile\n",
      "       1/1    0.201G   0.08589   0.02195         0         6       256:  26% 79/300 [00:11<00:30,  7.17it/s]libpng warning: iCCP: known incorrect sRGB profile\n",
      "       1/1    0.201G   0.07873   0.02114         0         2       256:  48% 143/300 [00:19<00:23,  6.77it/s]libpng warning: iCCP: known incorrect sRGB profile\n",
      "       1/1    0.201G   0.08002   0.02166         0         5       256:  58% 174/300 [00:23<00:18,  6.85it/s]libpng warning: iCCP: known incorrect sRGB profile\n",
      "       1/1    0.201G   0.08024   0.02221         0         5       256:  66% 199/300 [00:26<00:13,  7.27it/s]libpng warning: iCCP: known incorrect sRGB profile\n",
      "       1/1    0.201G   0.07892   0.02219         0         4       256:  82% 245/300 [00:33<00:07,  7.22it/s]libpng warning: iCCP: known incorrect sRGB profile\n",
      "       1/1    0.201G   0.07828   0.02217         0         3       256: 100% 300/300 [00:41<00:00,  7.30it/s]\n",
      "               Class     Images     Labels          P          R     mAP@.5 mAP@.5:.95: 100% 20/20 [00:01<00:00, 19.19it/s]\n",
      "                 all         40         59      0.157     0.0847       0.04    0.00553\n",
      "\n",
      "2 epochs completed in 0.025 hours.\n",
      "Optimizer stripped from runs/train/exp2/weights/last.pt, 14.3MB\n",
      "Optimizer stripped from runs/train/exp2/weights/best.pt, 14.3MB\n",
      "\n",
      "Validating runs/train/exp2/weights/best.pt...\n",
      "Fusing layers... \n",
      "Model Summary: 213 layers, 7012822 parameters, 0 gradients, 15.8 GFLOPs\n",
      "               Class     Images     Labels          P          R     mAP@.5 mAP@.5:.95: 100% 20/20 [00:01<00:00, 17.03it/s]\n",
      "                 all         40         59      0.147     0.0847     0.0396    0.00524\n",
      "Results saved to \u001b[1mruns/train/exp2\u001b[0m\n"
     ]
    }
   ],
   "source": [
    "!python train.py --img 256 --batch 1 --epochs 2 --data ../yolo.yaml --weights yolov5s.pt"
   ]
  },
  {
   "cell_type": "code",
   "execution_count": 8,
   "metadata": {
    "id": "3V39D2k5jIU2"
   },
   "outputs": [],
   "source": []
  }
 ],
 "metadata": {
  "accelerator": "GPU",
  "colab": {
   "name": "Training Yolo For Table Detection.ipynb",
   "provenance": []
  },
  "kernelspec": {
   "display_name": "Python 3",
   "language": "python",
   "name": "python3"
  },
  "language_info": {
   "codemirror_mode": {
    "name": "ipython",
    "version": 3
   },
   "file_extension": ".py",
   "mimetype": "text/x-python",
   "name": "python",
   "nbconvert_exporter": "python",
   "pygments_lexer": "ipython3",
   "version": "3.8.3"
  }
 },
 "nbformat": 4,
 "nbformat_minor": 1
}
